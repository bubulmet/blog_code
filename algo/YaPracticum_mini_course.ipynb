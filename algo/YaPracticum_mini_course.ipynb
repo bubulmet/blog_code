{
 "cells": [
  {
   "cell_type": "markdown",
   "metadata": {},
   "source": [
    "# init"
   ]
  },
  {
   "cell_type": "code",
   "execution_count": 1,
   "metadata": {
    "ExecuteTime": {
     "end_time": "2022-04-27T07:59:45.802866Z",
     "start_time": "2022-04-27T07:59:45.279538Z"
    }
   },
   "outputs": [],
   "source": [
    "import matplotlib.pyplot as plt\n",
    "\n",
    "%matplotlib inline"
   ]
  },
  {
   "cell_type": "markdown",
   "metadata": {},
   "source": [
    "# ссылки"
   ]
  },
  {
   "cell_type": "markdown",
   "metadata": {},
   "source": [
    "Шпаргалка для технического собеседования: https://habr.com/ru/company/vk/blog/350326/"
   ]
  },
  {
   "cell_type": "markdown",
   "metadata": {},
   "source": [
    "# Sort"
   ]
  },
  {
   "cell_type": "code",
   "execution_count": 1,
   "metadata": {
    "ExecuteTime": {
     "end_time": "2022-04-25T08:04:12.111582Z",
     "start_time": "2022-04-25T08:04:12.100461Z"
    }
   },
   "outputs": [
    {
     "data": {
      "text/plain": [
       "[1, 2, 3, 4, 5]"
      ]
     },
     "execution_count": 1,
     "metadata": {},
     "output_type": "execute_result"
    }
   ],
   "source": [
    "a = [1,5,2,4,3]\n",
    "\n",
    "a.sort()\n",
    "\n",
    "a"
   ]
  },
  {
   "cell_type": "code",
   "execution_count": 3,
   "metadata": {
    "ExecuteTime": {
     "end_time": "2022-04-25T08:04:29.066988Z",
     "start_time": "2022-04-25T08:04:29.052208Z"
    }
   },
   "outputs": [
    {
     "data": {
      "text/plain": [
       "[5, 4, 3, 2, 1]"
      ]
     },
     "execution_count": 3,
     "metadata": {},
     "output_type": "execute_result"
    }
   ],
   "source": [
    "a.sort(reverse=True)\n",
    "\n",
    "a"
   ]
  },
  {
   "cell_type": "code",
   "execution_count": 4,
   "metadata": {
    "ExecuteTime": {
     "end_time": "2022-04-25T08:04:49.807170Z",
     "start_time": "2022-04-25T08:04:49.787415Z"
    }
   },
   "outputs": [
    {
     "data": {
      "text/plain": [
       "[1, 2, 3, 4, 5]"
      ]
     },
     "execution_count": 4,
     "metadata": {},
     "output_type": "execute_result"
    }
   ],
   "source": [
    "b = a\n",
    "\n",
    "a.sort()\n",
    "\n",
    "b # sorted"
   ]
  },
  {
   "cell_type": "code",
   "execution_count": 5,
   "metadata": {
    "ExecuteTime": {
     "end_time": "2022-04-25T08:05:10.950236Z",
     "start_time": "2022-04-25T08:05:10.935544Z"
    }
   },
   "outputs": [
    {
     "data": {
      "text/plain": [
       "[1, 2, 3, 4, 5]"
      ]
     },
     "execution_count": 5,
     "metadata": {},
     "output_type": "execute_result"
    }
   ],
   "source": [
    "b = a.copy() # copy !\n",
    "\n",
    "a.sort(reverse=True)\n",
    "\n",
    "b # not sorted"
   ]
  },
  {
   "cell_type": "code",
   "execution_count": 6,
   "metadata": {
    "ExecuteTime": {
     "end_time": "2022-04-25T08:05:13.319312Z",
     "start_time": "2022-04-25T08:05:13.307484Z"
    }
   },
   "outputs": [
    {
     "data": {
      "text/plain": [
       "[5, 4, 3, 2, 1]"
      ]
     },
     "execution_count": 6,
     "metadata": {},
     "output_type": "execute_result"
    }
   ],
   "source": [
    "a"
   ]
  },
  {
   "cell_type": "markdown",
   "metadata": {},
   "source": [
    "# Два/три указателя"
   ]
  },
  {
   "cell_type": "markdown",
   "metadata": {},
   "source": [
    "Метод двух указателей работает, когда мы имеем дело с монотонными функциями.  \n",
    "> Функция называется монотонно возрастающей, если каждое её значение строго больше предыдущего. Функция называется монотонно неубывающей, если каждое её значение не меньше предыдущего. Аналогично функция может быть монотонно убывающей (каждое значение строго меньше предыдущего) или монотонно невозрастающей (каждое значение не больше предыдущего). Если функция обладает хотя бы одним из этих свойств, то она монотонная."
   ]
  },
  {
   "cell_type": "markdown",
   "metadata": {},
   "source": [
    "**Off-by-one** — это ошибка в индексе на 1. Это самый распространённый класс ошибок в таких задачах (на два указателя)."
   ]
  },
  {
   "cell_type": "markdown",
   "metadata": {},
   "source": [
    "Пример задачи - найти максимальное число одинаковых подряд идущих символов в строке:"
   ]
  },
  {
   "cell_type": "code",
   "execution_count": 8,
   "metadata": {
    "ExecuteTime": {
     "end_time": "2022-04-26T08:03:47.835894Z",
     "start_time": "2022-04-26T08:03:47.827386Z"
    }
   },
   "outputs": [],
   "source": [
    "# tests\n",
    "tests = {\n",
    "    'aababbb': 3,\n",
    "    'aababb': 2,\n",
    "    'aaababa': 3,\n",
    "    'abcde': 1,\n",
    "    '': 0,\n",
    "    'aaa': 3\n",
    "}"
   ]
  },
  {
   "cell_type": "code",
   "execution_count": 9,
   "metadata": {
    "ExecuteTime": {
     "end_time": "2022-04-26T08:03:48.576478Z",
     "start_time": "2022-04-26T08:03:48.562381Z"
    }
   },
   "outputs": [],
   "source": [
    "# two pointers, O(n):\n",
    "def max_consecutive_elements(input_str):\n",
    "    result = 0\n",
    "    cur_idx = 0\n",
    "    while cur_idx < len(input_str):\n",
    "        next_idx = cur_idx\n",
    "        while next_idx < len(input_str) and input_str[next_idx] == input_str[cur_idx]:\n",
    "            next_idx += 1\n",
    "            \n",
    "        result = max(result, next_idx - cur_idx)\n",
    "        cur_idx = next_idx\n",
    "        \n",
    "    return result"
   ]
  },
  {
   "cell_type": "code",
   "execution_count": 10,
   "metadata": {
    "ExecuteTime": {
     "end_time": "2022-04-26T08:03:49.355157Z",
     "start_time": "2022-04-26T08:03:49.348154Z"
    }
   },
   "outputs": [],
   "source": [
    "for input_v, result_v in tests.items():\n",
    "    assert max_consecutive_elements(input_v) == result_v"
   ]
  },
  {
   "cell_type": "markdown",
   "metadata": {},
   "source": [
    "Мы тут справляемся за $O(n)$, потому что не пробегаем два раза ни по одному символу в строке: если последовательность закончилась, мы сразу ставим `cur_idx` в её конец (`next_idx`).  \n",
    "\n",
    "А вот если бы использовали цикл `for`, т.е. прошлись бы переменной `cur_idx` по каждому символу, и потом бы от него замеряли длину последовательности, то получилось бы $O(n\\log{n})$ в среднем, и $O(n^2)$ в худшем случае."
   ]
  },
  {
   "cell_type": "markdown",
   "metadata": {},
   "source": [
    "# Бинарный поиск"
   ]
  },
  {
   "cell_type": "markdown",
   "metadata": {},
   "source": [
    "Вспомним реализацию метода на примере классической задачи. Есть _упорядоченный_ массив целых чисел, нужно определить, есть ли в нём число `x`."
   ]
  },
  {
   "cell_type": "code",
   "execution_count": 13,
   "metadata": {
    "ExecuteTime": {
     "end_time": "2022-04-26T08:14:52.931511Z",
     "start_time": "2022-04-26T08:14:52.917756Z"
    }
   },
   "outputs": [],
   "source": [
    "# tests\n",
    "tests = [\n",
    "    {'input': ([1,2,3], 3), 'result': True},\n",
    "    {'input': ([], 3), 'result': False},\n",
    "    {'input': ([1,2,3,4,5], 3), 'result': True},\n",
    "    {'input': ([1], 1), 'result': True},\n",
    "    {'input': ([1,2,3], 4), 'result': False},\n",
    "]"
   ]
  },
  {
   "cell_type": "code",
   "execution_count": 14,
   "metadata": {
    "ExecuteTime": {
     "end_time": "2022-04-26T08:14:53.622100Z",
     "start_time": "2022-04-26T08:14:53.605050Z"
    }
   },
   "outputs": [],
   "source": [
    "def binary_search(arr, target):\n",
    "    left_idx = 0\n",
    "    right_idx = len(arr)\n",
    "    \n",
    "    while left_idx < right_idx:\n",
    "        mid_idx = (left_idx + right_idx) // 2\n",
    "        \n",
    "        if arr[mid_idx] == target:\n",
    "            return True\n",
    "        elif arr[mid_idx] < target:\n",
    "            left_idx = mid_idx + 1\n",
    "        else:\n",
    "            right_idx = mid_idx\n",
    "            \n",
    "    return False "
   ]
  },
  {
   "cell_type": "code",
   "execution_count": 23,
   "metadata": {
    "ExecuteTime": {
     "end_time": "2022-04-26T08:16:41.962399Z",
     "start_time": "2022-04-26T08:16:41.954796Z"
    }
   },
   "outputs": [],
   "source": [
    "for test_dict in tests:\n",
    "    assert binary_search(*test_dict['input']) == test_dict['result']"
   ]
  },
  {
   "cell_type": "markdown",
   "metadata": {},
   "source": [
    "Здесь сложность - $O(\\log{n})$. В общем и худшем случае интервал поиска на каждом шаге алгоритма будет сокращаться в два раза. Изначально он равен $n$, после одной итерации он будет содержать $\\frac{n}{2}$ элементов, затем $\\frac{n}{4}$, на $k$-й итерации в нём будет $\\frac{n}{2^k}$ элементов. Как только $2^k$ станет больше $n$, алгоритм завершится."
   ]
  },
  {
   "cell_type": "markdown",
   "metadata": {},
   "source": [
    "Этот метод позволяет искать не только элемент массива. Пусть нам нужно найти решение уравнения $x \\cdot \\log_2(x) = Y$. Вычислить значение выражения $x\\cdot \\log_2(x)$ легко, а найти решение уравнения математически — нет. Поскольку функция $x\\cdot \\log_2(x)$ монотонно возрастает при $x \\geqslant 1$, можно применить бинарный поиск."
   ]
  },
  {
   "cell_type": "code",
   "execution_count": 31,
   "metadata": {
    "ExecuteTime": {
     "end_time": "2022-04-26T11:48:15.566593Z",
     "start_time": "2022-04-26T11:48:15.558754Z"
    }
   },
   "outputs": [],
   "source": [
    "def equation(x):\n",
    "    return x * log2(x)"
   ]
  },
  {
   "cell_type": "code",
   "execution_count": 32,
   "metadata": {
    "ExecuteTime": {
     "end_time": "2022-04-26T11:48:16.441691Z",
     "start_time": "2022-04-26T11:48:16.422234Z"
    },
    "code_folding": []
   },
   "outputs": [],
   "source": [
    "from math import log2\n",
    "\n",
    "def solve_equation(value):\n",
    "    left, right = 1, value\n",
    "    for _ in range(100):\n",
    "        mid = (left + right) / 2\n",
    "        expr_result = mid * log2(mid)\n",
    "        if expr_result < value:\n",
    "            left = mid\n",
    "        else:\n",
    "            right = mid\n",
    "    return mid "
   ]
  },
  {
   "cell_type": "markdown",
   "metadata": {},
   "source": [
    "Здесь вместо сравнения left и right с заданной точностью мы применили фиксированное число итераций (100). Это гарантирует, что числа будут очень близки. При этом не нужно думать о том, как правильно подбирать точность сравнения."
   ]
  },
  {
   "cell_type": "code",
   "execution_count": 37,
   "metadata": {
    "ExecuteTime": {
     "end_time": "2022-04-26T11:49:29.187442Z",
     "start_time": "2022-04-26T11:49:29.170194Z"
    }
   },
   "outputs": [
    {
     "data": {
      "text/plain": [
       "4.564956833533316"
      ]
     },
     "execution_count": 37,
     "metadata": {},
     "output_type": "execute_result"
    }
   ],
   "source": [
    "y = 10\n",
    "\n",
    "x = solve_equation(y)\n",
    "\n",
    "x"
   ]
  },
  {
   "cell_type": "code",
   "execution_count": 38,
   "metadata": {
    "ExecuteTime": {
     "end_time": "2022-04-26T11:49:30.354269Z",
     "start_time": "2022-04-26T11:49:30.339378Z"
    }
   },
   "outputs": [
    {
     "data": {
      "text/plain": [
       "9.999999999999996"
      ]
     },
     "execution_count": 38,
     "metadata": {},
     "output_type": "execute_result"
    }
   ],
   "source": [
    "equation(x) # должно быть примерно равно y"
   ]
  },
  {
   "cell_type": "markdown",
   "metadata": {},
   "source": [
    "В неупорядоченном массиве применить бинарный поиск, чтобы найти элемент, не получилось бы. Как правило, бинарный поиск применяется на монотонных данных. Но некоторые задачи формально не удовлетворяют условию монотонности и, тем не менее, решаются бинарным поиском. Например:  \n",
    "> дана бинарная строка длины N, состоящая только из нулей и единиц. Гарантируется, что самый левый её элемент 0, а самый правый — 1. Найдите любое вхождение подстроки “01”.  \n",
    "\n",
    "Будем рассматривать разные подстроки и поддерживать инвариант, что самый левый символ равен нулю, а самый правый — единице. Изначально подстрока равна строке и инвариант выполняется по условию задачи. На очередном шаге рассмотрим середину подстроки: если это 0, то на следующем шаге подстрокой будет всё от этого символа до конца текущей подстроки. Аналогично, если середина равна 1, то возьмём левую часть подстроки. Таким образом, инвариант продолжает выполняться, а длина подстроки уменьшилась вдвое за одну итерацию."
   ]
  },
  {
   "cell_type": "code",
   "execution_count": 51,
   "metadata": {
    "ExecuteTime": {
     "end_time": "2022-04-26T12:17:43.170508Z",
     "start_time": "2022-04-26T12:17:43.158298Z"
    }
   },
   "outputs": [],
   "source": [
    "def find_substring_binsearch(bin_string: str):\n",
    "    left_idx = 0\n",
    "    right_idx = len(bin_string)\n",
    "    \n",
    "    while left_idx < right_idx:\n",
    "        mid_idx = (left_idx + right_idx) // 2\n",
    "        \n",
    "        if bin_string[mid_idx] == '0':\n",
    "            left_idx = mid_idx\n",
    "        elif bin_string[mid_idx] == '1':\n",
    "            right_idx = mid_idx\n",
    "        else:\n",
    "            raise ValueError()\n",
    "        \n",
    "        if (right_idx - left_idx) == 1:\n",
    "            break\n",
    "        \n",
    "    return left_idx, right_idx"
   ]
  },
  {
   "cell_type": "code",
   "execution_count": 53,
   "metadata": {
    "ExecuteTime": {
     "end_time": "2022-04-26T12:17:54.519596Z",
     "start_time": "2022-04-26T12:17:54.504000Z"
    }
   },
   "outputs": [
    {
     "data": {
      "text/plain": [
       "(3, 4)"
      ]
     },
     "execution_count": 53,
     "metadata": {},
     "output_type": "execute_result"
    }
   ],
   "source": [
    "s = '010010101001011001001001001'\n",
    "\n",
    "left_idx, right_idx = find_substring_binsearch(s)\n",
    "\n",
    "left_idx, right_idx"
   ]
  },
  {
   "cell_type": "code",
   "execution_count": 54,
   "metadata": {
    "ExecuteTime": {
     "end_time": "2022-04-26T12:18:12.822304Z",
     "start_time": "2022-04-26T12:18:12.810108Z"
    }
   },
   "outputs": [
    {
     "data": {
      "text/plain": [
       "'01'"
      ]
     },
     "execution_count": 54,
     "metadata": {},
     "output_type": "execute_result"
    }
   ],
   "source": [
    "s[left_idx]+s[right_idx]"
   ]
  },
  {
   "cell_type": "markdown",
   "metadata": {},
   "source": [
    "Как и в методе двух указателей, в бинарном поиске легко допустить незаметную ошибку в индексах. "
   ]
  },
  {
   "cell_type": "markdown",
   "metadata": {},
   "source": [
    "> найти индекс максимального элемента _упорядоченного_ массива arr, не превосходящего X. Если такого элемента не существует, вернуть -1."
   ]
  },
  {
   "cell_type": "code",
   "execution_count": 73,
   "metadata": {
    "ExecuteTime": {
     "end_time": "2022-04-26T12:38:03.507273Z",
     "start_time": "2022-04-26T12:38:03.482476Z"
    }
   },
   "outputs": [],
   "source": [
    "def find_max_index(arr, x):\n",
    "    if len(arr) < 1:\n",
    "        return -1\n",
    "    \n",
    "    result = -1\n",
    "    \n",
    "    left_idx = 0\n",
    "    right_idx = len(arr)\n",
    "    \n",
    "    while left_idx < right_idx:\n",
    "        mid_idx = (left_idx + right_idx) // 2\n",
    "        \n",
    "        if arr[mid_idx] > x:\n",
    "            right_idx = mid_idx\n",
    "        elif arr[mid_idx] <= x:\n",
    "            left_idx = mid_idx\n",
    "            result = max(result, left_idx)\n",
    "        else:\n",
    "            raise ValueError()\n",
    "            \n",
    "        if (right_idx - left_idx) == 1:\n",
    "            break\n",
    "            \n",
    "    return left_idx"
   ]
  },
  {
   "cell_type": "code",
   "execution_count": 74,
   "metadata": {
    "ExecuteTime": {
     "end_time": "2022-04-26T12:38:04.200412Z",
     "start_time": "2022-04-26T12:38:04.185159Z"
    }
   },
   "outputs": [],
   "source": [
    "# tests\n",
    "tests = [\n",
    "    {'input': ([1,2,3], 3), 'result': 2},\n",
    "    {'input': ([], 3), 'result': -1},\n",
    "    {'input': ([1,2,3,4,5], 0), 'result': 0},\n",
    "    {'input': ([1], 1), 'result': 0},\n",
    "    {'input': ([1,2,3], 4), 'result': 2},\n",
    "]"
   ]
  },
  {
   "cell_type": "code",
   "execution_count": 75,
   "metadata": {
    "ExecuteTime": {
     "end_time": "2022-04-26T12:38:04.927949Z",
     "start_time": "2022-04-26T12:38:04.917429Z"
    }
   },
   "outputs": [],
   "source": [
    "for test_dict in tests:\n",
    "    try:\n",
    "        assert find_max_index(*test_dict['input']) == test_dict['result']\n",
    "    except:\n",
    "        print()\n",
    "        print('Breaks with input', test_dict['input'])\n",
    "        print('Func result:', find_max_index(*test_dict['input']))\n",
    "        print('Expected result:', test_dict['result'])"
   ]
  },
  {
   "cell_type": "markdown",
   "metadata": {},
   "source": [
    "Более элегантное решение:"
   ]
  },
  {
   "cell_type": "code",
   "execution_count": null,
   "metadata": {},
   "outputs": [],
   "source": [
    "def max_lower_or_equal(sorted_arr, value):\n",
    "    # выносим в начало проверку на существование. Здесь все варианты с -1 (поэтому дальше обходимся без result)\n",
    "    if not sorted_arr or sorted_arr[0] > value:\n",
    "        return -1\n",
    "\n",
    "    left_idx, right_idx = 0, len(sorted_arr)\n",
    "    while left_idx + 1 < right_idx: # +1 заменяет \"if (right_idx - left_idx) == 1: break\"\n",
    "        mid_idx = (left_idx + right_idx) // 2\n",
    "        if sorted_arr[mid_idx] <= value:\n",
    "            left_idx = mid_idx\n",
    "        else:\n",
    "            right_idx = mid_idx\n",
    "    return left_idx "
   ]
  },
  {
   "cell_type": "markdown",
   "metadata": {},
   "source": [
    "При любой реализации бинарного поиска можно допустить ошибку. Вот как минимизировать вероятность её появления:\n",
    "* Используйте полуинтервалы (`left = 0`, `right = len(arr)`), а не интервалы (когда правая граница включена). Сформулируйте для себя инвариант. Для задачи выше он будет звучать как “`arr[left]` не превосходит искомый элемент, `arr[right]`, наоборот, превосходит”. Тогда при чтении кода вы можете проверить этот инвариант. Именно поэтому в примере кода выше мы вынесли проверку существования искомого элемента в отдельное условие. Если такого элемента в массиве не существует, то инвариант при инициализации не выполнялся бы и решение было бы некорректным.\n",
    "* Проверяйте три простых теста:  \n",
    "    - [1, 2], ответ 1. Для задачи выше это будет arr = [1, 2], X = 1.\n",
    "    - [1, 2], ответ 2. Для задачи выше это будет arr = [1, 2], X = 2.\n",
    "    - Ответа нет. Для задачи выше это будет arr = [1, 2], X = 0."
   ]
  },
  {
   "cell_type": "markdown",
   "metadata": {},
   "source": [
    "# Рекурсия и поиск с возвратом"
   ]
  },
  {
   "cell_type": "markdown",
   "metadata": {},
   "source": [
    "Рекурсия — это когда функция вызывает сама себя. Рекурсия — не какой-то конкретный алгоритм, а техника, которая позволяет реализовывать алгоритмы.  "
   ]
  },
  {
   "cell_type": "markdown",
   "metadata": {},
   "source": [
    "## Задачи, которые решаются итеративно"
   ]
  },
  {
   "cell_type": "markdown",
   "metadata": {},
   "source": [
    "Самый простой и известный пример — числа Фибоначчи. Они задаются рекуррентным соотношением $f_i = f_{i-1} + f_{i-2}$, начальные условия обычно задаются как $f_0 = 0$, $f_1 = 1$. Задача: написать функцию, которая принимает целое число $n$ и возвращает $n$-ное число Фибоначчи. Можно написать рекурсивное решение, но в нём тогда нужно правильно учесть:\n",
    "* Начальные условия, чтобы решение не ушло в бесконечный цикл.\n",
    "* Мемоизацию промежуточных результатов (сохранение результатов промежуточных вычислений), чтобы решение работало за линейное время, а не за экспоненту."
   ]
  },
  {
   "cell_type": "code",
   "execution_count": null,
   "metadata": {},
   "outputs": [],
   "source": [
    "def nth_fibonacci_recursive(n):\n",
    "    SENTINEL = -1\n",
    "    # Переменная для мемоизации\n",
    "    numbers = [SENTINEL] * (n + 1)\n",
    "\n",
    "    def nth_fibonacci_(n):\n",
    "        if n <= 1:\n",
    "            return n\n",
    "        elif numbers[n] != SENTINEL:\n",
    "            return numbers[n]\n",
    "        else:\n",
    "            result = nth_fibonacci_(n - 1) + nth_fibonacci_(n - 2)\n",
    "            numbers[n] = result\n",
    "            return result\n",
    "\n",
    "    return nth_fibonacci_(n) "
   ]
  },
  {
   "cell_type": "code",
   "execution_count": null,
   "metadata": {},
   "outputs": [],
   "source": [
    "def nth_fibonacci_iterative(n):\n",
    "    if n <= 1:\n",
    "        return n\n",
    "    previous, current = 0, 1\n",
    "    for _ in range(n - 1):\n",
    "        previous, current = current, previous + current\n",
    "    return current "
   ]
  },
  {
   "cell_type": "markdown",
   "metadata": {},
   "source": [
    "Если вы знаете, как решить задачу итеративно и рекурсивно и сомневаетесь, какой способ лучше использовать — пишите итеративное решение. Так проще избежать ошибок."
   ]
  },
  {
   "cell_type": "markdown",
   "metadata": {},
   "source": [
    "## Разбор выражений"
   ]
  },
  {
   "cell_type": "markdown",
   "metadata": {},
   "source": [
    "Такие задачи не очень популярны на собеседованиях из-за высокой сложности, поэтому не будем разбирать их подробно. Приведём два примера:  \n",
    "1. Рассмотрим простой алгоритм сжатия строки. Если в строке есть несколько подряд идущих одинаковых подстрок, можно заменить их на группу. Например, строку `aabaabaab` можно записать как `3(aab)`. Можно алгоритм применить к сжатой строке, получив вложенные группы: `3(2ab)`. Дана сжатая строка, требуется её распаковать. Например, для строки `a2(a2(bс))3db` ответ будет `aabcbcabcbcdddb`.\n",
    "2. Написать калькулятор арифметических выражений, содержащих операции `+, -, *, /`, а также скобки."
   ]
  },
  {
   "cell_type": "markdown",
   "metadata": {},
   "source": [
    "## Поиск с возвратом (Backtracking)"
   ]
  },
  {
   "cell_type": "markdown",
   "metadata": {},
   "source": [
    "Это метод решения задач, где требуется перебор вариантов.  \n",
    "\n",
    "Рассмотрим задачу: дано число N, нужно сгенерировать все правильные скобочные последовательности из N открывающих и N закрывающих скобок.  \n",
    "\n",
    "В задачах на полный перебор число возможных вариантов растёт экспоненциально относительно входных данных, поэтому ограничения обычно очень маленькие. Например здесь кол-во вариантов - $O(4^N)$  \n",
    "\n",
    "При решении переборных задач результат не всегда удобно передавать через возвращаемое значение. Тогда приходится пользоваться аккумуляторами. В таком случае нужно внимательно следить за изменением их состояний."
   ]
  },
  {
   "cell_type": "code",
   "execution_count": 76,
   "metadata": {
    "ExecuteTime": {
     "end_time": "2022-04-26T13:17:34.471431Z",
     "start_time": "2022-04-26T13:17:34.454728Z"
    }
   },
   "outputs": [],
   "source": [
    "def generate(n):\n",
    "    result = []\n",
    "\n",
    "    def generate_(left_open, left_closed, accum):\n",
    "        if not left_open and not left_closed:\n",
    "            result.append(accum)\n",
    "            return\n",
    "        if left_open:\n",
    "            generate_(left_open - 1, left_closed, accum + '(')\n",
    "        if left_closed > left_open:\n",
    "            generate_(left_open, left_closed - 1, accum + ')')\n",
    "\n",
    "    generate_(n, n, '')\n",
    "    return result "
   ]
  },
  {
   "cell_type": "code",
   "execution_count": 81,
   "metadata": {
    "ExecuteTime": {
     "end_time": "2022-04-27T06:55:37.411470Z",
     "start_time": "2022-04-27T06:55:37.405785Z"
    }
   },
   "outputs": [
    {
     "data": {
      "text/plain": [
       "['(((())))',\n",
       " '((()()))',\n",
       " '((())())',\n",
       " '((()))()',\n",
       " '(()(()))',\n",
       " '(()()())',\n",
       " '(()())()',\n",
       " '(())(())',\n",
       " '(())()()',\n",
       " '()((()))',\n",
       " '()(()())',\n",
       " '()(())()',\n",
       " '()()(())',\n",
       " '()()()()']"
      ]
     },
     "execution_count": 81,
     "metadata": {},
     "output_type": "execute_result"
    }
   ],
   "source": [
    "generate(4)"
   ]
  },
  {
   "cell_type": "markdown",
   "metadata": {},
   "source": [
    "Это решение хорошее. Скорее всего, на собеседовании его примут. Но на каждом шаге мы копируем строку, поэтому решение можно ускорить в N раз, если использовать и для текущей строки аккумулятор."
   ]
  },
  {
   "cell_type": "code",
   "execution_count": 78,
   "metadata": {
    "ExecuteTime": {
     "end_time": "2022-04-26T13:17:36.998080Z",
     "start_time": "2022-04-26T13:17:36.984666Z"
    }
   },
   "outputs": [],
   "source": [
    "def generate(n):\n",
    "    result = []\n",
    "\n",
    "    def generate_(left_open, left_closed, accum):\n",
    "        if not left_open and not left_closed:\n",
    "            result.append(''.join(accum))\n",
    "            return\n",
    "        if left_open:\n",
    "            accum.append('(')\n",
    "            generate_(left_open - 1, left_closed, accum)\n",
    "            accum.pop()\n",
    "        if left_closed > left_open:\n",
    "            accum.append(')')\n",
    "            generate_(left_open, left_closed - 1, accum)\n",
    "            accum.pop()\n",
    "\n",
    "    generate_(n, n, [])\n",
    "    return result "
   ]
  },
  {
   "cell_type": "code",
   "execution_count": 79,
   "metadata": {
    "ExecuteTime": {
     "end_time": "2022-04-26T13:17:37.491364Z",
     "start_time": "2022-04-26T13:17:37.479464Z"
    }
   },
   "outputs": [
    {
     "data": {
      "text/plain": [
       "['((()))', '(()())', '(())()', '()(())', '()()()']"
      ]
     },
     "execution_count": 79,
     "metadata": {},
     "output_type": "execute_result"
    }
   ],
   "source": [
    "generate(3)"
   ]
  },
  {
   "cell_type": "markdown",
   "metadata": {},
   "source": [
    "## Рекурсивный обход"
   ]
  },
  {
   "cell_type": "markdown",
   "metadata": {},
   "source": [
    "В реальной жизни рекурсию очень удобно применять для обхода графов или деревьев — таких как файловая система. Метод называется «поиск в глубину». Мы рассмотрим данный алгоритм более подробно в уроке «Алгоритмы на графах»."
   ]
  },
  {
   "cell_type": "markdown",
   "metadata": {},
   "source": [
    "## Метод «Разделяй и властвуй» (Divide-and-conquer)"
   ]
  },
  {
   "cell_type": "markdown",
   "metadata": {
    "ExecuteTime": {
     "end_time": "2022-04-26T13:23:57.595568Z",
     "start_time": "2022-04-26T13:23:57.590133Z"
    }
   },
   "source": [
    "Этот метод работает так:  \n",
    "* Исходные данные разделяются на несколько частей.  \n",
    "* Для каждой из частей функция вызывается рекурсивно.  \n",
    "* Результаты рекурсивных вызовов объединяются.  \n",
    "Этот метод лежит в основе эффективных алгоритмов сортировки. Им будет посвящен весь следующий урок."
   ]
  },
  {
   "cell_type": "markdown",
   "metadata": {},
   "source": [
    "# об асимптотической сложности переборных задач"
   ]
  },
  {
   "cell_type": "markdown",
   "metadata": {},
   "source": [
    "Задача: создать список всех возможных перестановок чисел от 1 до N. Сколько памяти займёт результирующий список?  \n",
    "> $O(N \\cdot N!)$: Всего существует N! перестановок, каждая — длины N.  \n",
    "> $O(N^{N+1})$: С точки зрения порядка роста, это то же самое, что и $O(N \\cdot N!)$. Факториал — самая быстрорастущая функция, которая может вам встретиться в задачах на собеседованиях."
   ]
  },
  {
   "cell_type": "markdown",
   "metadata": {},
   "source": [
    "# Сортировки"
   ]
  },
  {
   "cell_type": "markdown",
   "metadata": {},
   "source": [
    "На собеседованиях редко просят написать именно алгоритм сортировки, кандидат может пользоваться функциями сортировки из стандартной библиотеки языка. Поэтому достаточно знать:\n",
    "* Время работы различных алгоритмов сортировок в среднем и худшем случае.\n",
    "* Затраты по памяти.\n",
    "* Общую идею реализации хотя бы одного быстрого алгоритма.\n",
    "* Как вызвать сортировку в вашем языке программирования.  \n",
    "\n",
    "Начнём с того, что вспомним главную идею основных алгоритмов сортировки:  \n",
    "* **Вставками**: Элементы по очереди, слева направо, добавляются в отсортированную часть массива.  \n",
    "* **Слиянием**: Массив делится пополам, сортировка рекурсивно вызывается для обеих частей, затем создаётся временный массив, в который по порядку складываются значения из обеих частей.  \n",
    "* **Быстрая**: Выбирается элемент. Все меньшие элементы переносятся в левую часть, бо́льшие — в правую. Затем алгоритм вызывается рекурсивно от левой и правой частей.  \n",
    "* **Пирамидальная**: Используется вспомогательная структура данных, которая позволяет быстро находить максимальный элемент.  \n",
    "\n",
    "Мы вынесли информацию по затратам в сводную таблицу:  "
   ]
  },
  {
   "cell_type": "markdown",
   "metadata": {},
   "source": [
    "| Сортировка    | Время работы в среднем/худшем  | Затраты по памяти в среднем/худшем |  \n",
    "|---------------|--------------------------------|------------------------------------|  \n",
    "| Вставками     | $O(n^2)$/$O(n^2)$              | $O(1)$/$O(1)$                      |  \n",
    "| Быстрая       | $O(n \\log n)$/$O(n^2)$         | $O(\\log n)$/$O(n)$                 |  \n",
    "| Слиянием      | $O(n \\log n)$/$O(n \\log n)$    | $O(n)$/$O(n)$                      |  \n",
    "| Пирамидальная | $O(n \\log n)$/$O(n \\log n)$    | $O(1)$/$O(1)$                      |  "
   ]
  },
  {
   "cell_type": "markdown",
   "metadata": {},
   "source": [
    "Обратите внимание, что быстрая сортировка в худшем случае может работать плохо, но вероятность этого крайне мала. Чтобы гарантировать быстрое выполнение даже в худшем случае, существуют комбинации алгоритмов, например, **интроспективная сортировка, Introsort**. Основа алгоритма — быстрая сортировка с модификациями:\n",
    "* Если глубина рекурсии превышает пороговое значение, зависящее от log n, то алгоритм использует пирамидальную сортировку.\n",
    "* Если на текущем шаге нужно отсортировать небольшое количество элементов, то используется сортировка вставками.  \n",
    "\n",
    "На практике в основном используются только алгоритмы со временем работы $O(n\\log n)$, кроме случаев очень маленьких n.  \n",
    "\n",
    "**Python** юзает [Timsort](https://ru.wikipedia.org/wiki/Timsort): `arr.sort()` или `sorted_arr = sorted(arr)`"
   ]
  },
  {
   "cell_type": "markdown",
   "metadata": {},
   "source": [
    "# Алгоритмы на графах"
   ]
  },
  {
   "cell_type": "markdown",
   "metadata": {},
   "source": [
    "На собеседованиях в крупные зарубежные компании графы и деревья — самые популярные темы. Несмотря на то, что деревья — частный случай графов, задачи сильно различаются, поэтому мы рассмотрим их в разных уроках. Начнём с графов.  \n",
    "\n",
    "Граф состоит из множества вершин $V$ и множества рёбер $E$. Каждое ребро соединяет пару вершин из $V$. По аналогии с обозначениями из теории множеств пишут, что граф содержит $|V|$ вершин и $|E|$ рёбер.  \n",
    "\n",
    "Задачи на графы с алгоритмических собеседований можно классифицировать по трём признакам:  \n",
    "* типу графа,  \n",
    "* способу задания,  \n",
    "* что нужно в этом графе найти.  "
   ]
  },
  {
   "cell_type": "markdown",
   "metadata": {},
   "source": [
    "## Типы графов"
   ]
  },
  {
   "cell_type": "markdown",
   "metadata": {},
   "source": [
    "Графы — очень богатая тема, поэтому можно привести много классов графов по разным измерениям. Мы ограничимся только тем, что важно в контексте алгоритмических собеседований.  "
   ]
  },
  {
   "cell_type": "markdown",
   "metadata": {},
   "source": [
    "### По наличию направления"
   ]
  },
  {
   "cell_type": "markdown",
   "metadata": {},
   "source": [
    "Графы бывают ориентированные (направленные) и неориентированные (ненаправленные).  \n",
    "\n",
    "В первом случае наличие ребра $(v, u)$ означает, что по этому ребру можно пройти из вершины $v$ в вершину $u$. Существование обратного ребра не гарантируется. Аналог из реальной жизни: дорога с односторонним движением.  \n",
    "\n",
    "В неориентированном графе по любому ребру можно пройти в обе стороны.  \n",
    "\n",
    "Технически стандартные способы задания графов поддерживают только ориентированные рёбра. Поэтому, чтобы задать неориентированный граф, обычно для каждого ребра $(v, u)$ заводят два ориентированных: $(v, u)$ и $(u, v)$. Аналогия из предыдущего пункта работает и в этом случае: если по дороге можно двигаться в обе стороны, то можно считать, что у нас две разные дороги в зависимости от направления.  \n",
    "\n",
    "Если тип графа неясен из условия, спрашивайте интервьюера, чтобы не упустить этот нюанс."
   ]
  },
  {
   "cell_type": "markdown",
   "metadata": {},
   "source": [
    "**Задача:** дан набор слов, стартовое и конечное слово. За один ход можно взять текущее слово и заменить его на любое другое из этого набора, если они отличаются ровно на один символ. Например, дан набор\n",
    "`[”cat”, “cap”, “tab”, “tap”]`, начальное слово `“cat”`, конечное — `“tap”`. Можно совершить цепочку преобразований `“cat” → “cap” → “tap”`, а\n",
    "`“cap” → “tab” → “tap”` нельзя, поскольку `“cap”` и `“tab”` отличаются не в одном символе.  \n",
    "За какое наименьшее число ходов можно превратить стартовое слово в конечное?"
   ]
  },
  {
   "cell_type": "markdown",
   "metadata": {
    "ExecuteTime": {
     "end_time": "2022-04-27T07:04:40.722273Z",
     "start_time": "2022-04-27T07:04:40.715854Z"
    }
   },
   "source": [
    "### По наличию весов рёбер"
   ]
  },
  {
   "cell_type": "markdown",
   "metadata": {},
   "source": [
    "Рёбра графов могут иметь веса, тогда граф называется взвешенным. Можно считать вес штрафом, который нужно заплатить за проход по ребру. В реальной жизни таким весом могла бы быть длина дороги или время, за которое по ней можно проехать. Обычно мы хотим найти минимальный штраф (расстояние или время), чтобы добраться из одной вершины в другую. Бывают и другие задачи для взвешенных графов, но они почти не встречаются на собеседованиях."
   ]
  },
  {
   "cell_type": "markdown",
   "metadata": {},
   "source": [
    "### По наличию циклов"
   ]
  },
  {
   "cell_type": "markdown",
   "metadata": {},
   "source": [
    "Говорят, что в графе есть цикл, если можно стартовать в некоторой вершине и вернуться в неё после перемещения по рёбрам, не проходя дважды по одному ребру.  \n",
    "\n",
    "Граф называется ациклическим, если в нём нет циклов. Если граф при этом неориентированный и связный, он называется «дерево». Про алгоритмы на деревьях мы поговорим в следующем уроке.  \n",
    "\n",
    "> К ориентированным графам неприменимо понятие «дерево». Если в ориентированном графе нет цикла, то он так и называется — ациклический ориентированный граф. Иногда можно встретить аббревиатуру DAG — directed acyclic graph.  "
   ]
  },
  {
   "cell_type": "markdown",
   "metadata": {
    "ExecuteTime": {
     "end_time": "2022-04-27T07:09:56.246277Z",
     "start_time": "2022-04-27T07:09:56.241422Z"
    }
   },
   "source": [
    "### вероятные задачи"
   ]
  },
  {
   "cell_type": "markdown",
   "metadata": {},
   "source": [
    "На собеседовании могут встретиться задачи:\n",
    "* Определить, есть ли цикл в ориентированном графе.\n",
    "* Определить, есть ли цикл в неориентированном графе.\n",
    "* Найти топологическую сортировку вершин ориентированного графа.  \n",
    "\n",
    "Если у вас есть свободное время — можете повторить соответствующие алгоритмы. Если времени не очень много — лучше потратить его на другие темы, поскольку данные задачи встречаются не очень часто."
   ]
  },
  {
   "cell_type": "markdown",
   "metadata": {},
   "source": [
    "## Представления графов"
   ]
  },
  {
   "cell_type": "markdown",
   "metadata": {},
   "source": [
    "Чтобы представить граф в памяти, его можно явно задать с помощью списка рёбер, матрицы смежности или списка смежных вершин. Это классические способы, их обычно разбирают при изучении алгоритмов и структур данных, поэтому не будем на них подробно останавливаться.  \n",
    "\n",
    "Другой популярный на собеседованиях вариант — описание карты и правил движения по ней. Пример: дано описание поля размера $N\\times M$ с помощью массива строк одинаковой длины, в котором символ точка $‘.’$ означает свободную клетку, а решётка $‘#’$ — занятую. Из свободной клетки за один ход можно переместиться в любую соседнюю по стороне свободную клетку. Нужно определить длину кратчайшего пути из левого верхнего угла в правый нижний. Если такого пути не существует, вернуть $-1$. Выходить за пределы поля нельзя.  \n",
    "В таких задачах часто проще обойтись без стандартных способов представления, а придумать свой."
   ]
  },
  {
   "cell_type": "markdown",
   "metadata": {},
   "source": [
    "## Алгоритмы на графах"
   ]
  },
  {
   "cell_type": "markdown",
   "metadata": {},
   "source": [
    "На собеседованиях время сильно ограничено, поэтому задачи требуют только базовых навыков. Обычно в задаче требуется сделать что-то из следующего:  \n",
    "* Проверить существование пути из одной вершины в другую или определить, является ли неориентированный граф связным.  \n",
    "* Найти кратчайший путь в невзвешенном графе.  \n",
    "* Найти кратчайший путь во взвешенном графе.  \n",
    "\n",
    "Первая задача решается поиском в глубину или ширину, вторая — поиском в ширину, третья — алгоритмом Дейкстры. Это стандартные алгоритмы."
   ]
  },
  {
   "cell_type": "code",
   "execution_count": 154,
   "metadata": {
    "ExecuteTime": {
     "end_time": "2022-04-28T08:09:51.859195Z",
     "start_time": "2022-04-28T08:09:51.848870Z"
    }
   },
   "outputs": [],
   "source": [
    "import networkx as nx\n",
    "from pyvis.network import Network\n",
    "import numpy as np"
   ]
  },
  {
   "cell_type": "code",
   "execution_count": null,
   "metadata": {},
   "outputs": [],
   "source": [
    "# https://networkx.org/documentation/stable/reference/generators.html\n",
    "# https://networkx.org/documentation/stable/reference/convert.html\n",
    "\n",
    "V = 7 # The number of nodes.\n",
    "p = 0.3 # Probability for edge creation.\n",
    "\n",
    "G = nx.fast_gnp_random_graph(n=V, p=p, seed=42, directed=False) # NetworkX\n",
    "\n",
    "adj_dict = nx.to_dict_of_lists(G)\n",
    "\n",
    "adj_dict"
   ]
  },
  {
   "cell_type": "code",
   "execution_count": 97,
   "metadata": {
    "ExecuteTime": {
     "end_time": "2022-04-27T13:00:16.410366Z",
     "start_time": "2022-04-27T13:00:16.381619Z"
    }
   },
   "outputs": [
    {
     "data": {
      "text/html": [
       "\n",
       "        <iframe\n",
       "            width=\"900px\"\n",
       "            height=\"600px\"\n",
       "            src=\"nx.html\"\n",
       "            frameborder=\"0\"\n",
       "            allowfullscreen\n",
       "            \n",
       "        ></iframe>\n",
       "        "
      ],
      "text/plain": [
       "<IPython.lib.display.IFrame at 0x7f8e7cb21ee0>"
      ]
     },
     "execution_count": 97,
     "metadata": {},
     "output_type": "execute_result"
    }
   ],
   "source": [
    "# plot\n",
    "\n",
    "# nx.draw(G, with_labels=True) # AttributeError: module 'matplotlib.cbook' has no attribute 'iterable'\n",
    "\n",
    "nt = Network('600px', '900px', notebook=True, directed=False) # PyVis\n",
    "\n",
    "nt.from_nx(G) # PyVis from NetworkX\n",
    "\n",
    "nt.show('nx.html')"
   ]
  },
  {
   "cell_type": "markdown",
   "metadata": {},
   "source": [
    "### Поиск в ширину"
   ]
  },
  {
   "cell_type": "markdown",
   "metadata": {},
   "source": [
    "**Определение:**  \n",
    "\n",
    "Поиск в ширину — это алгоритм, ищущий по дереву (или графу), просматривая по уровням начиная с корня.  \n",
    "\n",
    "Алгоритм находит все узлы текущего уровня, обычно двигаясь слева направо.  \n",
    "В ходе этого процесса он регистрирует все дочерние узлы, связанные с узлами на текущем уровне.  \n",
    "По завершении поиска на текущем уровне, алгоритм переходит на крайний левый узел следующего уровня.  \n",
    "Последним анализируется крайний правый узел самого нижнего уровня.  \n",
    "\n",
    "**Что вам нужно знать:**  \n",
    "Поиск в ширину оптимален для поиска по дереву, чья ширина превышает глубину.  \n",
    "Во время хождения по дереву, алгоритм сохраняет информацию о нём в очереди.  \n",
    "В связи с использованием очереди такой метод поиска потребляет больше памяти, чем поиск в глубину.  \n",
    "Очередь использует память для хранения указателей.  \n",
    "\n",
    "**Эффективность («О» большое):**  \n",
    "$$O(|E| + |V|)$$  \n",
    "$E$ — количество рёбер.  \n",
    "$V$ — количество вершин.  "
   ]
  },
  {
   "cell_type": "code",
   "execution_count": null,
   "metadata": {},
   "outputs": [],
   "source": []
  },
  {
   "cell_type": "markdown",
   "metadata": {},
   "source": [
    "Есть ли путь из одной ноды в другую? Мы сможем утверждать, что путь есть, если мы его найдем:"
   ]
  },
  {
   "cell_type": "code",
   "execution_count": 125,
   "metadata": {
    "ExecuteTime": {
     "end_time": "2022-04-28T05:18:53.059995Z",
     "start_time": "2022-04-28T05:18:53.054483Z"
    }
   },
   "outputs": [],
   "source": [
    "def has_way_bfs(adj_dict, start_node, end_node):\n",
    "    # ищем, есть ли путь из start_node в end_node\n",
    "    # BFS - Breadth-First Search, поиск в ширину\n",
    "    if start_node == end_node:\n",
    "        return True\n",
    "    \n",
    "    visited_nodes = set() # это на случай циклов, в деревьях такого нет\n",
    "    queue = [start_node]\n",
    "    while queue: # пока там что-то есть\n",
    "        current_node = queue.pop(0)\n",
    "        neighbours_list = adj_dict.get(current_node)\n",
    "        \n",
    "        for node in neighbours_list:\n",
    "            if node == end_node:\n",
    "                return True\n",
    "            if (node not in visited_nodes) and (node not in queue): # защита от циклов, в деревьях такого нет\n",
    "                queue.append(node)\n",
    "        \n",
    "        visited_nodes.add(current_node)\n",
    "        \n",
    "    return False"
   ]
  },
  {
   "cell_type": "code",
   "execution_count": 126,
   "metadata": {
    "ExecuteTime": {
     "end_time": "2022-04-28T05:18:55.024934Z",
     "start_time": "2022-04-28T05:18:54.991634Z"
    }
   },
   "outputs": [
    {
     "data": {
      "text/html": [
       "\n",
       "        <iframe\n",
       "            width=\"900px\"\n",
       "            height=\"600px\"\n",
       "            src=\"nx.html\"\n",
       "            frameborder=\"0\"\n",
       "            allowfullscreen\n",
       "            \n",
       "        ></iframe>\n",
       "        "
      ],
      "text/plain": [
       "<IPython.lib.display.IFrame at 0x7f8e7d5e10a0>"
      ]
     },
     "execution_count": 126,
     "metadata": {},
     "output_type": "execute_result"
    }
   ],
   "source": [
    "# example\n",
    "G = nx.fast_gnp_random_graph(\n",
    "    n=7, # The number of nodes. \n",
    "    p=0.3, # Probability for edge creation.\n",
    "    seed=42, \n",
    "    directed=False\n",
    ")\n",
    "\n",
    "nt = Network('600px', '900px', notebook=True, directed=False) # PyVis\n",
    "nt.from_nx(G)\n",
    "nt.show('nx.html')"
   ]
  },
  {
   "cell_type": "code",
   "execution_count": 128,
   "metadata": {
    "ExecuteTime": {
     "end_time": "2022-04-28T05:19:19.867764Z",
     "start_time": "2022-04-28T05:19:19.854246Z"
    }
   },
   "outputs": [
    {
     "data": {
      "text/plain": [
       "True"
      ]
     },
     "execution_count": 128,
     "metadata": {},
     "output_type": "execute_result"
    }
   ],
   "source": [
    "has_way_bfs(\n",
    "    adj_dict=nx.to_dict_of_lists(G), \n",
    "    start_node=6, \n",
    "    end_node=1\n",
    ")"
   ]
  },
  {
   "cell_type": "code",
   "execution_count": null,
   "metadata": {},
   "outputs": [],
   "source": []
  },
  {
   "cell_type": "markdown",
   "metadata": {},
   "source": [
    "Связный ли граф (неориенторованный)? Он тогда связный, когда из одной ноды можно попасть во все другие:"
   ]
  },
  {
   "cell_type": "code",
   "execution_count": 129,
   "metadata": {
    "ExecuteTime": {
     "end_time": "2022-04-28T05:19:22.669117Z",
     "start_time": "2022-04-28T05:19:22.655181Z"
    }
   },
   "outputs": [],
   "source": [
    "def is_connected_bfs(adj_dict):\n",
    "    # проверяем, что граф (неориенторованный) - связный\n",
    "    # BFS - Breadth-First Search, поиск в ширину\n",
    "    all_nodes = set(adj_dict.keys())\n",
    "    \n",
    "    start_node = all_nodes.pop()\n",
    "    \n",
    "    queue = [start_node]\n",
    "    while queue: # пока там что-то есть\n",
    "        current_node = queue.pop(0)\n",
    "        neighbours_list = adj_dict.get(current_node)\n",
    "        \n",
    "        for node in neighbours_list:\n",
    "            if node in all_nodes: # значит ещё не были\n",
    "                all_nodes.remove(node)\n",
    "                queue.append(node)\n",
    "            \n",
    "                if len(all_nodes) == 0:\n",
    "                    return True\n",
    "        \n",
    "    return False"
   ]
  },
  {
   "cell_type": "code",
   "execution_count": 134,
   "metadata": {
    "ExecuteTime": {
     "end_time": "2022-04-28T05:19:54.050624Z",
     "start_time": "2022-04-28T05:19:54.032889Z"
    }
   },
   "outputs": [
    {
     "data": {
      "text/html": [
       "\n",
       "        <iframe\n",
       "            width=\"900px\"\n",
       "            height=\"600px\"\n",
       "            src=\"nx.html\"\n",
       "            frameborder=\"0\"\n",
       "            allowfullscreen\n",
       "            \n",
       "        ></iframe>\n",
       "        "
      ],
      "text/plain": [
       "<IPython.lib.display.IFrame at 0x7f8e7c1d6af0>"
      ]
     },
     "execution_count": 134,
     "metadata": {},
     "output_type": "execute_result"
    }
   ],
   "source": [
    "# example\n",
    "G = nx.fast_gnp_random_graph(\n",
    "    n=7, # The number of nodes. \n",
    "    p=0.2, # Probability for edge creation.\n",
    "    seed=42, \n",
    "    directed=False\n",
    ")\n",
    "\n",
    "nt = Network('600px', '900px', notebook=True, directed=False) # PyVis\n",
    "nt.from_nx(G)\n",
    "nt.show('nx.html')"
   ]
  },
  {
   "cell_type": "code",
   "execution_count": 135,
   "metadata": {
    "ExecuteTime": {
     "end_time": "2022-04-28T05:19:58.122499Z",
     "start_time": "2022-04-28T05:19:58.113223Z"
    }
   },
   "outputs": [
    {
     "data": {
      "text/plain": [
       "False"
      ]
     },
     "execution_count": 135,
     "metadata": {},
     "output_type": "execute_result"
    }
   ],
   "source": [
    "is_connected_bfs(\n",
    "    adj_dict=nx.to_dict_of_lists(G)\n",
    ")"
   ]
  },
  {
   "cell_type": "code",
   "execution_count": null,
   "metadata": {},
   "outputs": [],
   "source": []
  },
  {
   "cell_type": "markdown",
   "metadata": {},
   "source": [
    "А теперь кратчайший путь (в невзвешенном графе). Вот это вопросик посерьезнее.  \n",
    "\n",
    "Хотяя... Мы всегда проходимся по порядку удаленности: сначала на 1 шаг, потом на 2 шага и т.п. Так что не пропустим кратчайший путь. Главное - как-то его сохранить (не сохранив заодно тупиковые ветки). Но если вопрос только в длине пути - это мы можем легко сделать: просто уровень вложенности надо сохранить. Вот:"
   ]
  },
  {
   "cell_type": "code",
   "execution_count": 136,
   "metadata": {
    "ExecuteTime": {
     "end_time": "2022-04-28T05:20:13.045834Z",
     "start_time": "2022-04-28T05:20:13.026585Z"
    }
   },
   "outputs": [],
   "source": [
    "def shortest_way_cost(adj_dict, start_node, end_node):\n",
    "    # кратчайший путь из start_node в end_node (в невзвешенном графе)\n",
    "    # BFS - Breadth-First Search, поиск в ширину\n",
    "    costs = {n: -1 for n in adj_dict.keys()}\n",
    "    \n",
    "    if start_node == end_node:\n",
    "        return 0\n",
    "    \n",
    "    costs[start_node] = 0 # чтоб не циклиться в неё\n",
    "    \n",
    "    queue = [start_node]\n",
    "    while queue: # пока там что-то есть\n",
    "        current_node = queue.pop(0)\n",
    "        neighbours_list = adj_dict.get(current_node)\n",
    "        for node in neighbours_list:\n",
    "            if costs[node] > -1: # уже были тут\n",
    "                continue\n",
    "            \n",
    "            costs[node] = costs[current_node] + 1\n",
    "            \n",
    "            # print(costs)\n",
    "            \n",
    "            if node == end_node:\n",
    "                return costs[node]\n",
    "            \n",
    "            queue.append(node)\n",
    "        \n",
    "    return -1 # нет пути"
   ]
  },
  {
   "cell_type": "code",
   "execution_count": 137,
   "metadata": {
    "ExecuteTime": {
     "end_time": "2022-04-28T05:20:15.183647Z",
     "start_time": "2022-04-28T05:20:15.153350Z"
    }
   },
   "outputs": [
    {
     "data": {
      "text/html": [
       "\n",
       "        <iframe\n",
       "            width=\"900px\"\n",
       "            height=\"600px\"\n",
       "            src=\"nx.html\"\n",
       "            frameborder=\"0\"\n",
       "            allowfullscreen\n",
       "            \n",
       "        ></iframe>\n",
       "        "
      ],
      "text/plain": [
       "<IPython.lib.display.IFrame at 0x7f8e7c9321c0>"
      ]
     },
     "execution_count": 137,
     "metadata": {},
     "output_type": "execute_result"
    }
   ],
   "source": [
    "# example\n",
    "G = nx.fast_gnp_random_graph(\n",
    "    n=7, # The number of nodes. \n",
    "    p=0.3, # Probability for edge creation.\n",
    "    seed=42, \n",
    "    directed=False\n",
    ")\n",
    "\n",
    "nt = Network('600px', '900px', notebook=True, directed=False) # PyVis\n",
    "nt.from_nx(G)\n",
    "nt.show('nx.html')"
   ]
  },
  {
   "cell_type": "code",
   "execution_count": 139,
   "metadata": {
    "ExecuteTime": {
     "end_time": "2022-04-28T05:20:40.766508Z",
     "start_time": "2022-04-28T05:20:40.754788Z"
    }
   },
   "outputs": [
    {
     "data": {
      "text/plain": [
       "2"
      ]
     },
     "execution_count": 139,
     "metadata": {},
     "output_type": "execute_result"
    }
   ],
   "source": [
    "shortest_way_cost(\n",
    "    adj_dict=nx.to_dict_of_lists(G), \n",
    "    start_node=4, \n",
    "    end_node=2\n",
    ")"
   ]
  },
  {
   "cell_type": "markdown",
   "metadata": {},
   "source": [
    "Теоретически, так и до всех можно посчитать путь. Но нам это не обязательно, поэтому прерываем раньше."
   ]
  },
  {
   "cell_type": "markdown",
   "metadata": {},
   "source": [
    "### Поиск в глубину"
   ]
  },
  {
   "cell_type": "markdown",
   "metadata": {},
   "source": [
    "**Определение:**  \n",
    "\n",
    "Поиск в глубину — это алгоритм, ищущий по дереву (или графу) сначала в глубину начиная с корня.  \n",
    "\n",
    "Алгоритм идёт по дереву, переходя между уровнями по левым дочерним узлам, пока не дойдёт до самого низа.  \n",
    "Завершив проход по ветви, алгоритм возвращается обратно, просматривая правые дочерние узлы этой ветви. Причём, если возможно, выбирает самые левые из узлов, расположенных справа от предыдущего маршрута.  \n",
    "Завершив просмотр всей ветви, алгоритм переходит к узлу, расположенному справа от корня, и снова идёт по левым дочерним узлам до самого дна.  \n",
    "Последним анализируется крайний правый узел (расположенный справа от всех своих предшественников).  \n",
    "\n",
    "**Что вам нужно знать:**  \n",
    "Алгоритм оптимален для поиска по дереву, чья глубина превышает ширину.  \n",
    "Для работы алгоритма используется стек.  \n",
    "Поскольку стек является LIFO-структурой, ему не нужно отслеживать указатели узлов, поэтому потребляется меньше памяти, чем в случае с поиском в ширину.  \n",
    "Когда алгоритм не может дальше идти по левой стороне, он начинает анализировать стек.  \n",
    "\n",
    "**Эффективность («О» большое):**  \n",
    "$$O(|E| + |V|)$$  \n",
    "$E$ — количество рёбер.  \n",
    "$V$ — количество вершин."
   ]
  },
  {
   "cell_type": "code",
   "execution_count": null,
   "metadata": {},
   "outputs": [],
   "source": []
  },
  {
   "cell_type": "markdown",
   "metadata": {},
   "source": [
    "Есть ли путь из одной ноды в другую? Мы сможем утверждать, что путь есть, если мы его найдем:"
   ]
  },
  {
   "cell_type": "code",
   "execution_count": 107,
   "metadata": {
    "ExecuteTime": {
     "end_time": "2022-04-28T04:42:18.361305Z",
     "start_time": "2022-04-28T04:42:18.348514Z"
    }
   },
   "outputs": [],
   "source": [
    "def has_way_dfs(adj_dict, start_node, end_node):\n",
    "    # ищем, есть ли путь из start_node в end_node\n",
    "    # DFS - Depth-First Search, поиск в глубину\n",
    "    if start_node == end_node:\n",
    "        return True\n",
    "    \n",
    "    visited_nodes = set() # это на случай циклов, в деревьях такого нет\n",
    "    \n",
    "    def dfs_(current_node):\n",
    "        visited_nodes.add(current_node)\n",
    "        neighbours_list = adj_dict.get(current_node)\n",
    "        \n",
    "        for node in neighbours_list:\n",
    "            print(current_node)\n",
    "            if node == end_node:\n",
    "                return True\n",
    "            if node not in visited_nodes:\n",
    "                return dfs_(node)\n",
    "                \n",
    "        return False\n",
    "        \n",
    "    return dfs_(start_node)"
   ]
  },
  {
   "cell_type": "code",
   "execution_count": 102,
   "metadata": {
    "ExecuteTime": {
     "end_time": "2022-04-28T04:37:02.582264Z",
     "start_time": "2022-04-28T04:37:02.566915Z"
    }
   },
   "outputs": [
    {
     "data": {
      "text/html": [
       "\n",
       "        <iframe\n",
       "            width=\"900px\"\n",
       "            height=\"600px\"\n",
       "            src=\"nx.html\"\n",
       "            frameborder=\"0\"\n",
       "            allowfullscreen\n",
       "            \n",
       "        ></iframe>\n",
       "        "
      ],
      "text/plain": [
       "<IPython.lib.display.IFrame at 0x7f8e7ca93a30>"
      ]
     },
     "execution_count": 102,
     "metadata": {},
     "output_type": "execute_result"
    }
   ],
   "source": [
    "# example\n",
    "G = nx.fast_gnp_random_graph(\n",
    "    n=7, # The number of nodes. \n",
    "    p=0.1, # Probability for edge creation.\n",
    "    seed=42, \n",
    "    directed=False\n",
    ")\n",
    "\n",
    "nt = Network('600px', '900px', notebook=True, directed=False) # PyVis\n",
    "nt.from_nx(G)\n",
    "nt.show('nx.html')"
   ]
  },
  {
   "cell_type": "code",
   "execution_count": 109,
   "metadata": {
    "ExecuteTime": {
     "end_time": "2022-04-28T04:49:25.982293Z",
     "start_time": "2022-04-28T04:49:25.966729Z"
    }
   },
   "outputs": [
    {
     "name": "stdout",
     "output_type": "stream",
     "text": [
      "2\n"
     ]
    },
    {
     "data": {
      "text/plain": [
       "True"
      ]
     },
     "execution_count": 109,
     "metadata": {},
     "output_type": "execute_result"
    }
   ],
   "source": [
    "has_way_dfs(\n",
    "    adj_dict=nx.to_dict_of_lists(G), \n",
    "    start_node=2, \n",
    "    end_node=6\n",
    ")"
   ]
  },
  {
   "cell_type": "code",
   "execution_count": null,
   "metadata": {},
   "outputs": [],
   "source": []
  },
  {
   "cell_type": "markdown",
   "metadata": {},
   "source": [
    "Связный ли граф (неориенторованный)? Он тогда связный, когда из одной ноды можно попасть во все другие:"
   ]
  },
  {
   "cell_type": "code",
   "execution_count": 147,
   "metadata": {
    "ExecuteTime": {
     "end_time": "2022-04-28T05:30:41.674205Z",
     "start_time": "2022-04-28T05:30:41.658281Z"
    }
   },
   "outputs": [],
   "source": [
    "def is_connected_dfs(adj_dict):\n",
    "    # проверяем, что граф (неориенторованный) - связный\n",
    "    # DFS - Depth-First Search, поиск в глубину\n",
    "    all_nodes = set(adj_dict.keys())\n",
    "    if len(all_nodes) == 0:\n",
    "        return True\n",
    "        \n",
    "    start_node = all_nodes.pop()\n",
    "    print('start_node:', start_node)\n",
    "    \n",
    "    def dfs_(current_node):\n",
    "        print('current_node:', current_node)\n",
    "        \n",
    "        neighbours_list = adj_dict.get(current_node)\n",
    "        \n",
    "        for node in neighbours_list:\n",
    "            print('node:', node)\n",
    "            if node in all_nodes: # значит ещё не были\n",
    "                all_nodes.remove(node)\n",
    "                if len(all_nodes) == 0:\n",
    "                    print('branch return True')\n",
    "                    return True\n",
    "                \n",
    "                dfs_(node)\n",
    "\n",
    "    dfs_(start_node)\n",
    "    \n",
    "    if len(all_nodes) == 0:\n",
    "        return True\n",
    "    else:\n",
    "        return False"
   ]
  },
  {
   "cell_type": "code",
   "execution_count": 149,
   "metadata": {
    "ExecuteTime": {
     "end_time": "2022-04-28T05:30:56.206250Z",
     "start_time": "2022-04-28T05:30:56.191395Z"
    }
   },
   "outputs": [
    {
     "data": {
      "text/html": [
       "\n",
       "        <iframe\n",
       "            width=\"900px\"\n",
       "            height=\"600px\"\n",
       "            src=\"nx.html\"\n",
       "            frameborder=\"0\"\n",
       "            allowfullscreen\n",
       "            \n",
       "        ></iframe>\n",
       "        "
      ],
      "text/plain": [
       "<IPython.lib.display.IFrame at 0x7f8e77eb94f0>"
      ]
     },
     "execution_count": 149,
     "metadata": {},
     "output_type": "execute_result"
    }
   ],
   "source": [
    "# example\n",
    "G = nx.fast_gnp_random_graph(\n",
    "    n=7, # The number of nodes. \n",
    "    p=0.1, # Probability for edge creation.\n",
    "    seed=42, \n",
    "    directed=False\n",
    ")\n",
    "\n",
    "nt = Network('600px', '900px', notebook=True, directed=False) # PyVis\n",
    "nt.from_nx(G)\n",
    "nt.show('nx.html')"
   ]
  },
  {
   "cell_type": "code",
   "execution_count": 150,
   "metadata": {
    "ExecuteTime": {
     "end_time": "2022-04-28T05:30:59.948618Z",
     "start_time": "2022-04-28T05:30:59.927798Z"
    }
   },
   "outputs": [
    {
     "name": "stdout",
     "output_type": "stream",
     "text": [
      "start_node: 0\n",
      "current_node: 0\n",
      "node: 5\n",
      "current_node: 5\n",
      "node: 0\n",
      "node: 4\n",
      "current_node: 4\n",
      "node: 3\n",
      "current_node: 3\n",
      "node: 4\n",
      "node: 5\n"
     ]
    },
    {
     "data": {
      "text/plain": [
       "False"
      ]
     },
     "execution_count": 150,
     "metadata": {},
     "output_type": "execute_result"
    }
   ],
   "source": [
    "is_connected_dfs(\n",
    "    adj_dict=nx.to_dict_of_lists(G)\n",
    ")"
   ]
  },
  {
   "cell_type": "markdown",
   "metadata": {},
   "source": [
    "### Алгоритм Дейкстры"
   ]
  },
  {
   "cell_type": "markdown",
   "metadata": {},
   "source": [
    "https://python-scripts.com/dijkstras-algorithm  \n",
    "\n",
    "В случае когда число рёбер графа примерно соответствует числу пар вершин $(|V|^2)$, простая реализация алгоритма Дейкстры будет давать асимптотику $O(|V|^2+|E|)$, что лучше варианта с приоритетной очередью.  \n",
    "\n",
    "Если число рёбер сильно меньше количества пар вершин (такой граф называют разреженным), то вариант с приоритетной очередью будет работать быстрее. А оценка Дейкстры будет $O(∣E∣ \\log{∣V∣})$"
   ]
  },
  {
   "cell_type": "markdown",
   "metadata": {},
   "source": [
    "Найти кратчайший путь во взвешенном графе:"
   ]
  },
  {
   "cell_type": "code",
   "execution_count": 171,
   "metadata": {
    "ExecuteTime": {
     "end_time": "2022-04-28T09:12:10.088056Z",
     "start_time": "2022-04-28T09:12:10.081750Z"
    }
   },
   "outputs": [],
   "source": [
    "def shortest_way_cost_weighted(graph, start_node, end_node):\n",
    "    dist = [float(\"inf\")] * len(graph)\n",
    "    \n",
    "    dist[start_node] = 0\n",
    "    \n",
    "    all_nodes = set(adj_dict.keys())\n",
    "    \n",
    "    while all_nodes:\n",
    "        # ищем минимальную ноду\n",
    "        min_dist = float(\"inf\")\n",
    "        min_node = None\n",
    "        for node in all_nodes: \n",
    "            if dist[node] < min_dist:\n",
    "                min_dist = dist[node]\n",
    "                min_node = node\n",
    "        \n",
    "        # условие для выхода\n",
    "        if min_node == end_node:\n",
    "            return min_dist\n",
    "        \n",
    "        # идём в минимальную ноду, и там работаем\n",
    "        all_nodes.remove(min_node)\n",
    "        neighbours_dict = graph.get(min_node)\n",
    "        for neighbour_node, weight in neighbours_dict.items():\n",
    "            if neighbour_node in all_nodes:\n",
    "                total_dist = weight + min_dist\n",
    "                if total_dist < dist[neighbour_node]:\n",
    "                    dist[neighbour_node] = total_dist\n",
    "                    \n",
    "    return -1 # если всё обошли, и ничего не нашли"
   ]
  },
  {
   "cell_type": "code",
   "execution_count": 170,
   "metadata": {
    "ExecuteTime": {
     "end_time": "2022-04-28T08:48:27.460895Z",
     "start_time": "2022-04-28T08:48:27.438005Z"
    }
   },
   "outputs": [
    {
     "data": {
      "text/html": [
       "\n",
       "        <iframe\n",
       "            width=\"900px\"\n",
       "            height=\"600px\"\n",
       "            src=\"nx.html\"\n",
       "            frameborder=\"0\"\n",
       "            allowfullscreen\n",
       "            \n",
       "        ></iframe>\n",
       "        "
      ],
      "text/plain": [
       "<IPython.lib.display.IFrame at 0x7f8e77de8b50>"
      ]
     },
     "execution_count": 170,
     "metadata": {},
     "output_type": "execute_result"
    }
   ],
   "source": [
    "# example\n",
    "V = 7 # number of nodes. \n",
    "\n",
    "adjacency_matrix = np.random.randint(\n",
    "    low=-5, \n",
    "    high=5, \n",
    "    size=(V,V), \n",
    "    dtype=int\n",
    ")\n",
    "adjacency_matrix = np.where(adjacency_matrix > 0, adjacency_matrix, 0)\n",
    "for i in range(V):\n",
    "    adjacency_matrix[i,i] = 0\n",
    "\n",
    "G = nx.from_numpy_matrix(adjacency_matrix)\n",
    "\n",
    "nt = Network('600px', '900px', notebook=True, directed=False) # PyVis\n",
    "nt.from_nx(G)\n",
    "nt.show('nx.html')"
   ]
  },
  {
   "cell_type": "code",
   "execution_count": 169,
   "metadata": {
    "ExecuteTime": {
     "end_time": "2022-04-28T08:24:01.236724Z",
     "start_time": "2022-04-28T08:24:01.225984Z"
    }
   },
   "outputs": [
    {
     "data": {
      "text/plain": [
       "{0: {1: 1, 5: 2, 2: 1, 4: 1},\n",
       " 1: {0: 1, 2: 1, 5: 4, 4: 4},\n",
       " 2: {1: 1, 0: 1, 3: 2, 4: 1, 5: 4, 6: 4},\n",
       " 3: {2: 2, 4: 3, 6: 4},\n",
       " 4: {2: 1, 3: 3, 0: 1, 1: 4, 4: 2, 6: 1},\n",
       " 5: {0: 2, 1: 4, 2: 4, 5: 2, 6: 2},\n",
       " 6: {3: 4, 4: 1, 5: 2, 2: 4, 6: 1}}"
      ]
     },
     "execution_count": 169,
     "metadata": {},
     "output_type": "execute_result"
    }
   ],
   "source": [
    "graph = {}\n",
    "for node, connections in dict(G.adj).items():\n",
    "    graph[node] = {}\n",
    "    for neighbour_node, weight_dict in dict(connections).items():\n",
    "        graph[node][neighbour_node] = weight_dict['weight']\n",
    "\n",
    "graph"
   ]
  },
  {
   "cell_type": "code",
   "execution_count": 174,
   "metadata": {
    "ExecuteTime": {
     "end_time": "2022-04-28T09:14:06.410569Z",
     "start_time": "2022-04-28T09:14:06.400846Z"
    }
   },
   "outputs": [
    {
     "data": {
      "text/plain": [
       "3"
      ]
     },
     "execution_count": 174,
     "metadata": {},
     "output_type": "execute_result"
    }
   ],
   "source": [
    "shortest_way_cost_weighted(\n",
    "    graph=graph, \n",
    "    start_node=5, \n",
    "    end_node=2\n",
    ")"
   ]
  },
  {
   "cell_type": "markdown",
   "metadata": {},
   "source": [
    "Если хочется сам путь, то надо его хранить в виде листа (последовательности нод) для каждой посещенной ноды. И при переходе туда - складывать путь ноды, из которой пришли + путь до самой."
   ]
  },
  {
   "cell_type": "markdown",
   "metadata": {},
   "source": [
    "### Сравнение"
   ]
  },
  {
   "cell_type": "markdown",
   "metadata": {},
   "source": [
    "**Сравнение поисков в ширину и в глубину**  \n",
    "\n",
    "Выбирайте тип поиска в соответствии с размером и формой дерева:  \n",
    "* Для широких, мелких деревьев используйте поиск в ширину.  \n",
    "* Для глубоких, узких деревьев используйте поиск в глубину.  \n",
    "\n",
    "**Нюансы:**  \n",
    "* Поскольку поиск в ширину использует очереди для хранения информации об узлах и их детях, то он может занять больше памяти, чем доступно на вашем компьютере. (Но вам вряд ли придётся об этом беспокоиться)   \n",
    "* Если применять поиск в глубину по очень глубокому дереву, то алгоритм может уходить слишком далеко вниз. Подробнее об этом читайте здесь.  \n",
    "* **Поиск в ширину — циклический алгоритм**.  \n",
    "* **Поиск в глубину — рекурсивный алгоритм**.  "
   ]
  },
  {
   "cell_type": "markdown",
   "metadata": {},
   "source": [
    "# Деревья"
   ]
  },
  {
   "cell_type": "markdown",
   "metadata": {},
   "source": [
    "На собеседованиях дерево задаётся одним из двух способов:  \n",
    "* Как обычный граф, матрицей смежности или списком смежных вершин. При этом гарантируется, что граф — дерево.\n",
    "* Структурой, описывающей узел бинарного дерева. На вход вашему решению передаётся корень дерева. В подобной задаче вам может потребоваться описать такую структуру. Убедитесь, что помните, как это делать в вашем языке программирования. На всякий случай потренируйтесь решать задачи без подготовленного шаблона, чтобы не допустить ошибку на собеседовании.  \n",
    "\n",
    "Короткая шпаргалка:  \n",
    "```\n",
    "class TreeNode:\n",
    "    def __init__(self, val):\n",
    "        self.val = val\n",
    "        self.left = None\n",
    "        self.right = None\n",
    "\n",
    "def traverse(root):\n",
    "    ... \n",
    "```  \n",
    "\n",
    "Обратите внимание, что связь, как правило, односторонняя: из вершины нет указателя на родительскую вершину. Построить такие указатели за один обход можно. Но нужно уточнить у интервьюера, можно ли так делать или от вас ждут решение без этого.  \n",
    "\n",
    "У всех возможных задач на деревья общая идея решения: нужно применить поиск в глубину, то есть рекурсивный обход дерева, начиная с корня.  \n",
    "\n",
    "Вспомним, какие бывают способы обхода деревьев:  \n",
    "* _Preorder_: сначала посещаем текущую вершину, затем рассматриваем её поддеревья.  \n",
    "* _Inorder_: рассматриваем левое поддерево, посещаем текущую вершину и затем рассматриваем правое поддерево. Применим только к бинарным деревьям.  \n",
    "* _Postorder_: рассматриваем все поддеревья текущей вершины, затем посещаем её.  "
   ]
  },
  {
   "cell_type": "markdown",
   "metadata": {},
   "source": [
    "**Задача:** Дано бинарное дерево, нужно вывести список списков значений вершин «по слоям». В каждом слое значения должны идти слева направо. Для дерева:  \n",
    "```\n",
    "     5\n",
    "    / \\\n",
    "   /   \\\n",
    "  3     1\n",
    "   \\   /\n",
    "    4 2 \n",
    "```\n",
    "нужно вернуть `[[5], [3, 1], [4, 2]]`"
   ]
  },
  {
   "cell_type": "code",
   "execution_count": 176,
   "metadata": {
    "ExecuteTime": {
     "end_time": "2022-04-28T09:44:45.888522Z",
     "start_time": "2022-04-28T09:44:45.882509Z"
    }
   },
   "outputs": [],
   "source": [
    "class TreeNode:\n",
    "    def __init__(self, val):\n",
    "        self.val = val\n",
    "        self.left = None\n",
    "        self.right = None\n",
    "        \n",
    "        \n",
    "def get_layered_representation(root):\n",
    "    result = []\n",
    "    DFS(root, 0, result)\n",
    "    return result\n",
    "\n",
    "\n",
    "def DFS(node, depth, result):\n",
    "    if not node:\n",
    "        return\n",
    "    # Т.к. мы выбрали preorder, то результат нужно увеличивать\n",
    "    # не больше, чем на 1\n",
    "    if depth >= len(result):\n",
    "        result.append([])\n",
    "    result[depth].append(node.val)\n",
    "    DFS(node.left, depth + 1, result)\n",
    "    DFS(node.right, depth + 1, result)"
   ]
  },
  {
   "cell_type": "code",
   "execution_count": 177,
   "metadata": {
    "ExecuteTime": {
     "end_time": "2022-04-28T09:44:47.157594Z",
     "start_time": "2022-04-28T09:44:47.143728Z"
    }
   },
   "outputs": [
    {
     "data": {
      "text/plain": [
       "[[5], [3, 1], [4, 2]]"
      ]
     },
     "execution_count": 177,
     "metadata": {},
     "output_type": "execute_result"
    }
   ],
   "source": [
    "tree = TreeNode(5)\n",
    "tree.left = TreeNode(3)\n",
    "tree.right = TreeNode(1)\n",
    "tree.left.right = TreeNode(4)\n",
    "tree.right.left = TreeNode(2)\n",
    "\n",
    "get_layered_representation(tree)"
   ]
  },
  {
   "cell_type": "markdown",
   "metadata": {},
   "source": [
    "# Динамическое программирование"
   ]
  },
  {
   "cell_type": "markdown",
   "metadata": {},
   "source": [
    "Динамическое программирование (для краткости будем иногда писать ДП) — это не конкретный алгоритм, а техника, которая позволяет эффективно решать довольно широкий класс задач. Такие задачи часто встречаются на собеседованиях. В этом уроке мы расскажем:  \n",
    "* об основной идее динамического программирования,\n",
    "* о типах задач на собеседованиях."
   ]
  },
  {
   "cell_type": "markdown",
   "metadata": {},
   "source": [
    "Начнём с классического примера. \n",
    "\n",
    "**Задача:** Дан массив `arr` из $N$ целых чисел. Найдите длину максимальной возрастающей подпоследовательности в этом массиве. Например, при `arr=[2, 3, 6, 4, 1, 3, 5, 4, 7]` искомая подпоследовательность — `[2, 3, 4, 5, 7]` и поэтому ответ равен 5.  \n",
    "\n",
    "**Наивное решение:**  \n",
    "1. Перебрать все возможные подпоследовательности.  \n",
    "2. Для каждой из них проверить, является ли она возрастающей.  \n",
    "3. Вывести максимальную длину.  \n",
    "\n",
    "Сложность - $O(N \\cdot 2^N)$  \n",
    "\n",
    "Разберём более быстрый алгоритм, решающий эту задачу."
   ]
  },
  {
   "cell_type": "markdown",
   "metadata": {},
   "source": [
    "## Метод динамического программирования"
   ]
  },
  {
   "cell_type": "markdown",
   "metadata": {},
   "source": [
    "Очень неформально можно сказать, что метод динамического программирования заключается в том, чтобы найти некоторую вспомогательную величину, которая:  \n",
    "* помогает получить ответ на задачу,  \n",
    "* считается понятным образом.  \n",
    "\n",
    "Метод динамического программирования состоит в том, чтобы ответить на следующие вопросы:  \n",
    "1. **Что является состоянием?** (это та вспомогательная величина, которую мы хотим найти)  \n",
    "1. **Как переходить между состояниями?**  \n",
    "1. **Что является начальным состоянием?**  \n",
    "1. **Что является ответом на задачу?** (его надо получить из вспомогательной величины, состояния)  \n",
    "\n",
    "В нашей ситуации:\n",
    "заведём такой массив `dp` длины $N$, что в `dp[i]` будет записана длина максимальной возрастающей подпоследовательности, заканчивающаяся элементом на позиции `i`. Ответом на исходную задачу будет максимум из элементов `dp`. А чтобы вычислить `dp[i]` нужно пройтись по всем индексам `j < i`, выбрать максимум среди таких `dp[j]`, что `arr[j] < arr[i]` и прибавить к нему `1`. Если не существует таких `j`, что `j < i` и `arr[j] < arr[i]`, то `dp[i] = 1`, потому что любая последовательность из одного элемента удовлетворяет условию возрастания.\n",
    "\n",
    "Итого:\n",
    "1. **Что является состоянием?** длина максимальной возрастающей подпоследовательности, заканчивающаяся элементом на позиции `i`;\n",
    "1. **Как переходить между состояниями?** Вычисляем `dp` в порядке возрастания `i` по правилу `dp[i] = max(dp[j], для j < i, arr[j] < arr[i]) + 1`.\n",
    "1. **Что является начальным состоянием?** `dp[0] = 1`.\n",
    "1. **Что является ответом на задачу?** - `max(dp)`\n",
    "\n",
    "С таким решением мы получаем сложность $O(N^2)$: для каждого из $N$ элементов мы просматриваем все предыдущие, то есть $O(N)$, поэтому совокупно получается $O(N^2)$."
   ]
  },
  {
   "cell_type": "code",
   "execution_count": 178,
   "metadata": {
    "ExecuteTime": {
     "end_time": "2022-04-28T10:09:42.159733Z",
     "start_time": "2022-04-28T10:09:42.154720Z"
    }
   },
   "outputs": [],
   "source": [
    "def longest_increasing_subsequence(arr):\n",
    "    dp = [1] * len(arr)\n",
    "    for i in range(1, len(arr)):\n",
    "        for j in range(i):\n",
    "            if arr[j] < arr[i]:\n",
    "                dp[i] = max(dp[i], dp[j] + 1)\n",
    "    return max(dp)"
   ]
  },
  {
   "cell_type": "code",
   "execution_count": 180,
   "metadata": {
    "ExecuteTime": {
     "end_time": "2022-04-28T10:10:07.155931Z",
     "start_time": "2022-04-28T10:10:07.144634Z"
    }
   },
   "outputs": [
    {
     "data": {
      "text/plain": [
       "5"
      ]
     },
     "execution_count": 180,
     "metadata": {},
     "output_type": "execute_result"
    }
   ],
   "source": [
    "longest_increasing_subsequence([2, 3, 6, 4, 1, 3, 5, 4, 7])"
   ]
  },
  {
   "cell_type": "markdown",
   "metadata": {},
   "source": [
    "Мы рассмотрели задачу **линейного ДП**. Это самый распространённый тип задач ДП, но мы коротко рассмотрим, какие ещё могут встретиться вам на собеседованиях.  "
   ]
  },
  {
   "cell_type": "markdown",
   "metadata": {},
   "source": [
    "## Квадратичное ДП"
   ]
  },
  {
   "cell_type": "markdown",
   "metadata": {},
   "source": [
    "Квадратичное ДП встречается в задачах, где множество состояний описывается не массивом, а матрицей. Рассмотрим классический пример.  \n",
    "\n",
    "К строке можно применить одну из операций редактирования:  \n",
    "* Добавить в произвольное место любой символ.  \n",
    "* Заменить один символ на любой другой.  \n",
    "* Удалить символ.  \n",
    "\n",
    "_Расстояние Левенштейна_ (или редакционное расстояние) между строками `s` и `t` — это минимальное количество операций редактирования, которые нужно применить к `s`, чтобы получить `t`.  \n",
    "\n",
    "**Задача:** Даны две строки `s` и `t`, найдите расстояние Левенштейна между ними.  "
   ]
  },
  {
   "cell_type": "markdown",
   "metadata": {},
   "source": [
    "Опишем решение в терминах динамического программирования.\n",
    "1. **Что является состоянием?** `dp[i][j]` — расстояние редактирования между префиксом длины `i` строки `s` и префиксом длины `j` строки `t`.  \n",
    "\n",
    "2. **Как переходить между состояниями?**  \n",
    "    * Операция добавления в первую строку ведёт к пересчёту: `dp[i][j + 1]` = `dp[i][j] + 1`  \n",
    "    * Замена: `dp[i + 1][j + 1] = dp[i][j] + 1`  \n",
    "    * Удаление: `dp[i + 1][j] = dp[i][j] + 1`  \n",
    "    * Если же текущие символы совпадают, то никакие операции не нужны: `dp[i + 1][j + 1] = dp[i][j]`  \n",
    "    \n",
    "    Для каждого состояния результат будет минимумом из приведённых переходов: \n",
    "    ```\n",
    "    dp[i][j] = min(dp[i - 1][j], dp[i - 1][j - 1], dp[i][j - 1]) + 1\n",
    "    if s[i - 1] == t[j - 1]:\n",
    "        dp[i][j] = min(dp[i][j], dp[i - 1][j - 1]) \n",
    "    ```\n",
    "    В реальном коде нужно быть аккуратным в реализации и не допустить обращения к несуществующим индексам.\n",
    "\n",
    "3. **Что является начальным состоянием?** `dp[0][0] = 0`\n",
    "\n",
    "4. **Что является ответом на задачу?** `dp[len(s)][len(t)]`"
   ]
  },
  {
   "cell_type": "code",
   "execution_count": null,
   "metadata": {},
   "outputs": [],
   "source": []
  },
  {
   "cell_type": "markdown",
   "metadata": {},
   "source": [
    "**Задача о рюкзаке:** есть $N$ предметов, вес каждого — положительное целое число. Веса записаны в массиве `arr`. Рюкзак может выдержать содержимое не тяжелее `X`. Выберите такое подмножество предметов, чтобы их суммарный вес был максимальный, но не превосходил `X`.  \n",
    "\n",
    "Это как раз такая задача, в которой очень важно уточнить ограничения на входные данные.  \n",
    "\n",
    "Разберём решение за $O(N \\cdot X)$, поскольку во многих реалистичных ситуациях оно будет быстрее полного перебора ($O(N \\cdot 2^N)$)."
   ]
  },
  {
   "cell_type": "markdown",
   "metadata": {},
   "source": [
    "Идея очень проста: будем считать, какие суммы возможно достичь, набирая по одному элементу.  \n",
    "1. **Что является состоянием?** Булевский массив `dp` размерности `[N+1][X+1]`. `dp[i][j]` — достижима ли сумма `j`, если мы рассмотрели первые `i` элементов.  \n",
    "2. **Как переходить между состояниями?** `dp[i][j] = True` тогда и только тогда, когда `dp[i - 1][j - arr[i - 1]] == True`  \n",
    "3. **Что является начальным состоянием?** `dp[0][0] = True`\n",
    "4. **Что является ответом на задачу?** Максимальный `i` такой, что `dp[N][i] == True`   \n",
    "\n",
    "Можно уменьшить объём потребляемой памяти: нам не нужно хранить состояния для `i - 2` и раньше. Поэтому `dp[2][X+1]` будет достаточно, а переходы можно описывать как `dp[i % 2][j] = dp[(i + 1) % 2][j - arr[i - 1]]`."
   ]
  },
  {
   "cell_type": "code",
   "execution_count": null,
   "metadata": {},
   "outputs": [],
   "source": []
  },
  {
   "cell_type": "markdown",
   "metadata": {},
   "source": [
    "# Жадные алгоритмы"
   ]
  },
  {
   "cell_type": "markdown",
   "metadata": {},
   "source": [
    "Жадный алгоритм — такой, в котором на каждом шаге выбирается локально оптимальное решение. \n",
    "\n",
    "Одна из наиболее классических задач на эту тему: есть $N$ соревнований по спортивному программированию, `i`-е из них проходит в промежуток времени $[a_i, b_i)$. Какое максимальное количество соревнований можно выбрать, чтобы в любой момент времени проходило не более одного соревнования из этого набора?  \n",
    "\n",
    "Чтобы решить эту задачу, нужно упорядочить соревнования по времени окончания соревнования и выбирать по следующему правилу: если предыдущее соревнование закончилось к началу рассматриваемого, то мы добавляем текущее соревнование к итоговому набору. Если нет — переходим к следующему.  \n",
    "\n",
    "На собеседованиях жадные алгоритмы чаще всего встречаются в задачах вроде первой задачи из этого урока — прорешайте их. Ещё полезно изучить темы, связанные с **кодом Хаффмана** и **минимальным остовным деревом**."
   ]
  },
  {
   "cell_type": "code",
   "execution_count": null,
   "metadata": {},
   "outputs": [],
   "source": []
  },
  {
   "cell_type": "markdown",
   "metadata": {},
   "source": [
    "# Задачи на реализацию"
   ]
  },
  {
   "cell_type": "markdown",
   "metadata": {},
   "source": [
    "Задачи на реализацию — это не алгоритмы в привычном понимании, но они встречаются часто, поэтому про них тоже нужно поговорить.  \n",
    "\n",
    "Как правило, в подобных задачах не появляется вопрос оптимальности. Самое сложное — придумать такой способ написать решение, чтобы не допустить ошибок."
   ]
  },
  {
   "cell_type": "markdown",
   "metadata": {},
   "source": [
    "# Структуры данных"
   ]
  },
  {
   "cell_type": "markdown",
   "metadata": {},
   "source": [
    "## Динамический массив"
   ]
  },
  {
   "cell_type": "markdown",
   "metadata": {},
   "source": [
    "Он выполняет те же задачи, что и обычные массивы, только позволяет менять свой размер во время выполнения.  \n",
    "\n",
    "**Основные операции:**\n",
    "* обращение по индексу элемента динамического массива (например, `arr[idx]`) всегда происходит за $O(1)$.  \n",
    "* добавление элемента в конец динамического массива: $O(1)$ в среднем, $O(n)$ в худшем (если нужно проихвести реаллокацию, т.е. выделить новый кусок памяти, бОльший, чем был). Аналогично работает операция удаления.\n",
    "* добавление элемента в середину динамического массива: $O(n)$ в среднем, $O(n)$ в худшем. Аналогично работает операция удаления.\n",
    "* поиск по значению: $O(n)$ в среднем, $O(n)$ в худшем.  \n",
    "\n",
    "в языке Python `list` — это динамический массив.  \n",
    "\n",
    "Динамический массив подходит в случаях, когда нужно сохранить последовательность в некотором порядке. Можно обращаться к элементам последовательности по номеру, а не по значению. Добавлять и удалять можно только последние элементы.  \n",
    "\n",
    "Ещё динамический массив можно использовать вместо хеш-таблицы в случае, если ключи представляют собой небольшие неотрицательные целые числа.  \n",
    "\n",
    "Оба случая демонстрируются в примере из урока «Деревья», где мы сохраняли ключи дерева в список списков.  "
   ]
  },
  {
   "cell_type": "markdown",
   "metadata": {},
   "source": [
    "## Стек (LIFO)"
   ]
  },
  {
   "cell_type": "markdown",
   "metadata": {},
   "source": [
    "Стек — структура данных, которая позволяет быстро добавить элемент в конец и быстро получить последний элемент. В общем случае другие операции стек может либо не поддерживать, либо выполнять неэффективно.  \n",
    "\n",
    "Несмотря на то, что стек выглядит очень просто, это удобная абстракция для решения некоторых задач. Например, задачу про правильные скобочные последовательности (ПСП) можно решить с помощью стека, в котором хранятся только открывающие скобки. Будем рассматривать символы строки по очереди слева направо. Если встретим открывающую скобку любого типа, поместим её в стек. Если текущая скобка — закрывающая, то она должна соответствовать скобке на вершине стека. Если это так, просто удаляем вершину из стека, а если нет, то переданная строка — не ПСП. Если мы рассмотрели все символы и после этого стек пуст — скобочная последовательность правильная."
   ]
  },
  {
   "cell_type": "markdown",
   "metadata": {},
   "source": [
    "## Очередь (FIFO)"
   ]
  },
  {
   "cell_type": "markdown",
   "metadata": {},
   "source": [
    "Очередь реализует быстрые операции добавления в конец и извлечения из начала очереди.  \n",
    "\n",
    "Хотя динамические массивы и не поддерживают быстрое извлечение элемента из начала массива, на них можно построить очередь. Для этого нужно добавить ещё один указатель, который будет показывать первый элемент в очереди. Когда надо извлечь элемент из начала, этот первый элемент возвращается, а указатель смещается на один элемент вправо.  \n",
    "\n",
    "**Основные операции:**\n",
    "* добавление элемента в конец: $O(1)$\n",
    "* удаление элемента из начала: $O(1)$\n",
    "* всё остальное (обращение по индексу, удаление из конца, добавление в начало, поиск по значению): $O(n)$\n",
    "\n",
    "В Python есть `queue.Queue`  \n",
    "\n",
    "Очередь используется в алгоритме поиска в ширину.  "
   ]
  },
  {
   "cell_type": "markdown",
   "metadata": {},
   "source": [
    "## Связный список"
   ]
  },
  {
   "cell_type": "markdown",
   "metadata": {},
   "source": [
    "Односвязный список — это структура данных, в которой каждый элемент имеет значение и указатель на следующий элемент. Если элемент также содержит указатель на предыдущий, то список называется двусвязным.  \n",
    "\n",
    "В связном списке каждый элемент, кроме последнего, ссылается на следующий элемент.  \n",
    "\n",
    "Когда в задаче говорится «дан связный список», обычно имеется ввиду, что заполнена структура списка и в функцию передаётся голова списка:  \n",
    "```\n",
    "class ListNode:\n",
    "    def __init__(self, val):\n",
    "        self.val = val\n",
    "        self.next = None\n",
    "\n",
    "def solve(head):\n",
    "    # Здесь нужно написать решение предполагая,\n",
    "    # что список уже заполнен\n",
    "```\n",
    "\n",
    "**Основные операции:**\n",
    "* добавление элемента в конец/на следующую позицию за текущим: $O(1)$  \n",
    "* удаление элемента из начала/текущего элемента: $O(1)$  \n",
    "* обращение по индексу и поиск по значению: $O(n)$  \n",
    "\n",
    "Т.е. в динамическом массиве быстро обращаться по индексу, но долго вставлять и удалять элементы на произвольные позиции. А в связном списке удобно удобно вставлять и удалять элементы куда попало, но долго искать по индексу.  \n",
    "\n",
    "В Python отсутствует!"
   ]
  },
  {
   "cell_type": "markdown",
   "metadata": {},
   "source": [
    "Список — не совсем обычная структура данных в контексте алгоритмических собеседований. С другими структурами данных часто нужно придумать, как их правильно применить и использовать реализации из стандартной библиотеки. А задачи на списки обычно формулируются явно. Разберём пример.  \n",
    "\n",
    "**Задача:** дана голова односвязного списка, в каждом элементе которого записано целое положительное число. Нужно удалить все узлы с нечётными значениями.  \n",
    "\n",
    "Идея решения в таких задачах очевидна, а вот с реализацией нужно быть очень аккуратным. Есть несколько советов, как сделать свою жизнь проще при решении таких задач:  \n",
    "* Выделить вспомогательные функции, например, `remove_next`. Обратите внимание, что в случае односвязного списка для удаления элемента нужно знать предыдущий, только текущего недостаточно.  \n",
    "* Создать дополнительную голову `fakehead`. В этом случае не нужно будет обрабатывать отдельно случай, когда голова попадает в интервал, с которым надо что-то сделать. Результирующий список будет начинаться со следующего после `fakehead` элемента.  \n",
    "\n",
    "Приведём решение задачи с учётом этих соображений:"
   ]
  },
  {
   "cell_type": "code",
   "execution_count": null,
   "metadata": {},
   "outputs": [],
   "source": [
    "#___________________________\n",
    "class ListNode:\n",
    "    def __init__(self, val):\n",
    "        self.val = val\n",
    "        self.next = None\n",
    "#___________________________\n",
    "\n",
    "\n",
    "def remove_next(node):\n",
    "    to_remove = node.next\n",
    "    node.next = node.next.next\n",
    "    del to_remove \n",
    "    \n",
    "def remove_odd(head):\n",
    "    fakehead = ListNode()\n",
    "    fakehead.next = head\n",
    "    current = fakehead\n",
    "    while current and current.next:\n",
    "        if current.next.val % 2 == 1:\n",
    "            remove_next(current)\n",
    "        else:\n",
    "            current = current.next\n",
    "    return fakehead.next"
   ]
  },
  {
   "cell_type": "markdown",
   "metadata": {},
   "source": [
    "Другая классическая задача: дана голова односвязного списка, нужно поменять узлы местами так, чтобы значения шли в порядке неубывания. Проще говоря, нужно отсортировать список, не копируя элементы.  \n",
    "\n",
    "Когда речь идёт о списках, проще всего реализовать сортировку слиянием или вставками. Но последняя работает за $O(N^2)$, поэтому лучше всего выбирать сортировку слиянием."
   ]
  },
  {
   "cell_type": "markdown",
   "metadata": {},
   "source": [
    "## Хеш-таблица"
   ]
  },
  {
   "cell_type": "markdown",
   "metadata": {},
   "source": [
    "Хеш-таблица — это структура данных поиска. Она позволяет быстро добавлять, искать и удалять элементы. На её основе реализованы контейнеры множество и словарь.  \n",
    "\n",
    "**Основные операции:**  \n",
    "* Добавление элемента: в среднем $O(1)$, в худшем $O(n)$;  \n",
    "* Поиск элемента: в среднем $O(1)$, в худшем $O(n)$;  \n",
    "* Удаление элемента: в среднем $O(1)$, в худшем $O(n)$.  \n",
    "\n",
    "Python: `set`, `dict`  \n",
    "\n",
    "Используйте множество, когда вам нужно быстро проверять, существует элемент в коллекции или нет.  \n",
    "Используйте словарь, когда вам нужно что-то считать для элементов, которые не представляют собой непрерывный отрезок целых чисел. Например, задача: дан текст, нужно посчитать число вхождений каждого слова в текст.  "
   ]
  },
  {
   "cell_type": "markdown",
   "metadata": {},
   "source": [
    "**Дополнительные замечания**  \n",
    "* Не храните во множестве или ключах словарей вещественные числа. Как вы знаете, из-за особенностей представления вещественные числа нельзя сравнивать на точное равенство. Например, `0.1 + 0.2 != 0.3`, поэтому можно допустить ошибку, при которой в хеш-таблице не будет находиться элемент, хотя по смыслу он там должен быть.  \n",
    "* Ключи словарей и элементы множеств изменять нельзя. Языки программирования по-разному защищают от этого. К примеру, в Python нельзя хранить во множествах или ключах словарей изменяемые структуры, поэтому нужно предварительно провести преобразования `list → tuple, set → frozenset`.  \n",
    "* Для корректной работы хеш-таблиц у ключей должна существовать хеш-функция. Она уже определена для большинства классов, встроенных в языки и их стандартные библиотеки. Чтобы использовать объекты пользовательских классов как ключи в хеш-таблицах, нужно определить соответствующий метод, в Python - `__hash__`.  "
   ]
  },
  {
   "cell_type": "markdown",
   "metadata": {},
   "source": [
    "## Бинарная куча и приоритетная очередь"
   ]
  },
  {
   "cell_type": "markdown",
   "metadata": {},
   "source": [
    "Бинарная (двоичная) куча — структура данных, которая эффективно реализует следующие операции:\n",
    "* добавить элемент,\n",
    "* найти максимальный элемент,\n",
    "* удалить максимальный элемент.  \n",
    "\n",
    "При создании кучи можно задать параметры так, чтобы она поддерживала операции с минимальным элементом, а не максимальным.  \n",
    "\n",
    "Приоритетная очередь — абстрактная структура данных, которая предоставляет те же операции. Можно сказать, что приоритетная очередь — это интерфейс, а бинарная куча — конкретная реализация этого интерфейса.  \n",
    "\n",
    "Куча представляет собой полное бинарное дерево, в котором каждый элемент не меньше своих потомков. Таким образом, максимальный элемент всегда находится в корне, поэтому доступ к нему происходит за $O(1)$.  \n",
    "\n",
    "> Бинарное дерево называется *полным*, если на каждом уровне, кроме последнего, существуют все вершины. А на последнем уровне вершины заполнены слева направо."
   ]
  },
  {
   "cell_type": "markdown",
   "metadata": {},
   "source": [
    "Добавление элемента происходит так: новый элемент изначально помещается на первую доступную позицию. То есть:\n",
    "Если последний уровень дерева заполнен, то новый элемент становится левым потомком самой левой вершины на последнем уровне.  \n",
    "В противном случае он помещается на самую левую позицию на последнем уровне.  \n",
    "\n",
    "Дальше этот элемент сравнивается с родителем. Если родитель оказывается меньше, то они меняются местами и процесс повторяется, на этот раз уже для нового родителя элемента. Этот этап называется _просеиванием вверх_.  \n",
    "\n",
    "Удаление максимального элемента устроено так: в корень ставится элемент с последней позиции. Дальше мы сравниваем его с потомками: если он не меньше обоих потомков, то больше ничего делать не нужно. Иначе максимальный потомок и данный элемент меняются местами. Процесс повторяется для новой позиции элемента. Этот этап называется _просеиванием вниз_.  "
   ]
  },
  {
   "cell_type": "markdown",
   "metadata": {},
   "source": [
    "**Основные операции**  \n",
    "Операции добавления элемента и извлечения максимального работают за время, пропорциональное высоте дерева. Поскольку оно полное, его высота всегда будет логарифмической от числа вершин, поэтому время работы этих операций — $O(\\log n)$.  \n",
    "\n",
    "* Получить значение максимального элемента: в среднем $O(1)$, в худшем $O(1)$;  \n",
    "* Добавить произвольный элемент: в среднем $O(\\log n)$, в худшем $O(\\log n)$;  \n",
    "* Удалить максимальный элемент: в среднем $O(\\log n)$, в худшем $O(\\log n)$;  \n",
    "* Найти элемент по значению: в среднем $O(n)$, в худшем $O(n)$;  \n",
    "* Удалить элемент по значению: в среднем $O(n)$, в худшем $O(n)$;  \n",
    "\n",
    "В Python: `heapq`  \n",
    "\n",
    "> Если вам для решения задачи потребуется стандартная структура данных, которой нет в вашем языке программирования — скажите об этом интервьюеру. Вам будет достаточно описать интерфейс этой структуры данных и решать задачу, как будто такая структура данных у вас есть."
   ]
  },
  {
   "cell_type": "markdown",
   "metadata": {},
   "source": [
    "**Когда использовать**\n",
    "Когда вы решаете задачу поиска и удаления минимума или максимума в пополняемой коллекции. Классический пример — алгоритм Дейкстры. Приоритет каждой вершины — расстояние до неё от начальной вершины. На каждом шаге мы извлекаем вершину с минимальным расстоянием. Если при рассмотрении соседей текущей вершины какие-то расстояния обновились — помещаем эти вершины в очередь.  \n",
    "\n",
    "Если в дополнение к этому вам нужно удалять произвольные элементы из коллекции, то вместо приоритетной очереди лучше использовать сбалансированное дерево поиска, о котором мы расскажем в следующем уроке."
   ]
  },
  {
   "cell_type": "markdown",
   "metadata": {},
   "source": [
    "**Дополнительные замечания**\n",
    "Чтобы элементы можно было поместить в кучу, они должны быть сравнимы. То есть должны быть определены операторы или методы сравнения. Как и в случае с хеш-функциями, сравнение определено для классов стандартной библиотеки, а для пользовательских классов нужно определять методы, в Python - `__lt__`  "
   ]
  },
  {
   "cell_type": "markdown",
   "metadata": {},
   "source": [
    "## Двоичное дерево поиска"
   ]
  },
  {
   "cell_type": "markdown",
   "metadata": {},
   "source": [
    "Основная идея, лежащая в основе двоичного дерева поиска, заключается в том, что для любой вершины выполняется условие, которое мы сейчас опишем. Рассмотрим некоторую вершину `v` со значением `x`. В левом поддереве вершины `v` находятся вершины со значением, не превосходящим `x`, а в правом — строго больше `x`.  \n",
    "\n",
    "Опишем алгоритм поиска некоторого значения `y`. Начиная с корня дерева, сравниваем значение в текущей вершине с `y`. Если оно равно — элемент найден, если значение в вершине меньше `y`, то идём в правое поддерево, иначе — в левое. Если соответствующего поддерева не существует, значит такого элемента нет в дереве.  \n",
    "\n",
    "Сложность поиска соответствует глубине дерева. Если дерево построить неудачно, то сложность будет линейная. Поэтому при вставке и удалении применяется балансировка, то есть перестроение структуры дерева таким образом, чтобы глубина всегда была логарифмическая от числа вершин.  \n",
    "\n",
    "> Ходит легенда, что на собеседованиях в крупные компании просят реализовать балансировку двоичных деревьев поиска. Это неправда, знать наизусть эти алгоритмы не нужно, достаточно знать, что они есть.  "
   ]
  },
  {
   "cell_type": "markdown",
   "metadata": {},
   "source": [
    "Итак, основные операции — добавление, удаление и поиск элемента работают за $O(\\log N)$. Время поиска минимального и максимального элементов зависит от реализации, но не больше $O(\\log N)$. Наличие операции удаления уже существенно расширяет возможности относительно бинарной кучи.  \n",
    "\n",
    "Но дерево поддерживает много других интересных операций. Небольшой модификацией алгоритма поиска элемента можно так же быстро находить минимальный элемент не меньше заданного. Аналогичным способом работают индексы в базах данных, которые позволяют выбирать данные по диапазону.  "
   ]
  },
  {
   "cell_type": "markdown",
   "metadata": {},
   "source": [
    "В Python не входит в стандартную библиотеку, можно использовать:  \n",
    "* Множество: `SortedList` из модуля `sortedcontainers`\n",
    "* Словарь: `SortedDict` из модуля `sortedcontainers`\n",
    "\n",
    "Бинарное дерево поиска — мощная структура данных, которая часто применяется на практике. Однако на собеседованиях задачи относительно несложные, поэтому обычно они решаются с помощью хеш-таблицы или двоичной кучи. Единственное исключение — задачи, в которых нужно находить статистику в скользящем окне.  \n",
    "\n",
    "**Задача:** Дан массив целых чисел длины $N$ и число $K$. Для каждого окна длины $K$ найдите его медиану."
   ]
  },
  {
   "cell_type": "code",
   "execution_count": null,
   "metadata": {},
   "outputs": [],
   "source": []
  },
  {
   "cell_type": "code",
   "execution_count": null,
   "metadata": {},
   "outputs": [],
   "source": [
    "def find_neighbours(matrix, i, j, visited_nodes):\n",
    "    n = len(matrix)\n",
    "    m = len(matrix[0])\n",
    "    \n",
    "    v = matrix[i][j]\n",
    "    \n",
    "    neighbours = []\n",
    "    \n",
    "    if ((i-1) >= 0) and (matrix[i-1][j] > v) and ((i-1, j) not in visited_nodes):\n",
    "        neighbours.append((i-1, j))\n",
    "    if ((i+1) < n) and (matrix[i+1][j] > v) and ((i+1, j) not in visited_nodes):\n",
    "        neighbours.append((i+1, j))\n",
    "        \n",
    "    if ((j-1) >= 0) and (matrix[i][j-1] > v) and ((i, j-1) not in visited_nodes):\n",
    "        neighbours.append((i, j-1))\n",
    "    if ((j+1) < m) and (matrix[i][j+1] > v) and ((i, j+1) not in visited_nodes):\n",
    "        neighbours.append((i, j+1))\n",
    "        \n",
    "    return neighbours"
   ]
  },
  {
   "cell_type": "code",
   "execution_count": 207,
   "metadata": {
    "ExecuteTime": {
     "end_time": "2022-04-28T15:40:33.813969Z",
     "start_time": "2022-04-28T15:40:33.810531Z"
    }
   },
   "outputs": [],
   "source": [
    "from typing import List\n",
    "\n",
    "\n",
    "def get_longest_increasing_path(matrix: List[List[int]]) -> int:\n",
    "    # your code goes here\n",
    "    return 0\n",
    "\n",
    "def read_matrix() -> List[List[int]]:\n",
    "    n, m = map(int, input().split())\n",
    "    matrix = []\n",
    "    for i in range(n):\n",
    "        matrix.append(list(map(int, input().split())))\n",
    "    return matrix\n",
    "\n",
    "matrix = read_matrix()\n",
    "print(get_longest_increasing_path(matrix))"
   ]
  },
  {
   "cell_type": "code",
   "execution_count": null,
   "metadata": {},
   "outputs": [],
   "source": []
  },
  {
   "cell_type": "code",
   "execution_count": null,
   "metadata": {},
   "outputs": [],
   "source": []
  },
  {
   "cell_type": "markdown",
   "metadata": {},
   "source": [
    "# Вероятность"
   ]
  },
  {
   "cell_type": "markdown",
   "metadata": {
    "ExecuteTime": {
     "end_time": "2022-04-29T04:33:12.106132Z",
     "start_time": "2022-04-29T04:33:12.098173Z"
    }
   },
   "source": [
    "**Формула суммы первых n-членов геометрической прогрессии:**  \n",
    "$S_{n}=\\frac{a(1-r^{n})}{1-r}$, где $n$ — количество суммируемых членов, $a$ — первый член, $r$ — знаменатель прогрессии. _Знаменатель прогрессии_ — это число, на которое нужно домножить предыдущий член, чтобы получить следующий.  \n",
    "\n",
    "**Формула суммы первых n-членов арифметической прогрессии:**  \n",
    "$S_{n}=\\frac{a_1+a_n}{2} \\cdot n$, где $n$ — количество суммируемых членов, $a_1$ — первый член, $a_n$ — последний член.  \n",
    "$S_{n}=\\frac{2a_1+d \\cdot (n-1)}{2} \\cdot n$, где $n$ — количество суммируемых членов, $a_1$ — первый член, $d$ — разность арифметической прогрессии. Разность арифметической прогрессии - на сколько отличаются между собой последовательные элементы (следующий - текущий или текущий - предыдущий), \"шаг\" прогрессии.  "
   ]
  },
  {
   "cell_type": "markdown",
   "metadata": {},
   "source": [
    "вероятность одновременного наступления нескольких **независимых** событий равна _произведению_ их вероятностей. "
   ]
  },
  {
   "cell_type": "markdown",
   "metadata": {},
   "source": [
    "Если речь о **хотя бы**, то обычно проще рассуждать от противного: если хотя бы раз `А`, то _оба раза_ `не А`. А искать вероятность _оба раза_ `не А` можно через формулу независимых событий - перемножить."
   ]
  },
  {
   "cell_type": "markdown",
   "metadata": {},
   "source": [
    "**Несовместные события** не пересекаются, но и не исчерпывают всё вероятностное пространство. Или исчерпывают, но мы точно не знаем: все противоположные события несовмсестны, но не все несовместные - противоположны.  \n",
    "\n",
    "Можно задать больше двух событий, каждое из которых не будет пересекаться ни с одним другим. В таком случае говорят, что события **попарно несовместны**, — какие два события тут ни выбрать, они будут взаимно исключать друг друга."
   ]
  },
  {
   "cell_type": "code",
   "execution_count": 214,
   "metadata": {
    "ExecuteTime": {
     "end_time": "2022-04-29T06:02:15.409823Z",
     "start_time": "2022-04-29T06:02:15.400857Z"
    }
   },
   "outputs": [
    {
     "data": {
      "text/plain": [
       "70"
      ]
     },
     "execution_count": 214,
     "metadata": {},
     "output_type": "execute_result"
    }
   ],
   "source": [
    "len(list(range(31,101)))"
   ]
  },
  {
   "cell_type": "code",
   "execution_count": null,
   "metadata": {},
   "outputs": [],
   "source": []
  }
 ],
 "metadata": {
  "kernelspec": {
   "display_name": "Python [conda env:sandbox]",
   "language": "python",
   "name": "conda-env-sandbox-py"
  },
  "language_info": {
   "codemirror_mode": {
    "name": "ipython",
    "version": 3
   },
   "file_extension": ".py",
   "mimetype": "text/x-python",
   "name": "python",
   "nbconvert_exporter": "python",
   "pygments_lexer": "ipython3",
   "version": "3.8.13"
  },
  "toc": {
   "base_numbering": 1,
   "nav_menu": {},
   "number_sections": true,
   "sideBar": true,
   "skip_h1_title": false,
   "title_cell": "Table of Contents",
   "title_sidebar": "Contents",
   "toc_cell": false,
   "toc_position": {
    "height": "calc(100% - 180px)",
    "left": "10px",
    "top": "150px",
    "width": "345.797px"
   },
   "toc_section_display": true,
   "toc_window_display": true
  },
  "varInspector": {
   "cols": {
    "lenName": 16,
    "lenType": 16,
    "lenVar": 40
   },
   "kernels_config": {
    "python": {
     "delete_cmd_postfix": "",
     "delete_cmd_prefix": "del ",
     "library": "var_list.py",
     "varRefreshCmd": "print(var_dic_list())"
    },
    "r": {
     "delete_cmd_postfix": ") ",
     "delete_cmd_prefix": "rm(",
     "library": "var_list.r",
     "varRefreshCmd": "cat(var_dic_list()) "
    }
   },
   "types_to_exclude": [
    "module",
    "function",
    "builtin_function_or_method",
    "instance",
    "_Feature"
   ],
   "window_display": false
  }
 },
 "nbformat": 4,
 "nbformat_minor": 4
}
