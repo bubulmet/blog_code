{
 "cells": [
  {
   "cell_type": "markdown",
   "metadata": {},
   "source": [
    "# попробуем почекать всякие задачки"
   ]
  },
  {
   "cell_type": "markdown",
   "metadata": {},
   "source": [
    "## init"
   ]
  },
  {
   "cell_type": "code",
   "execution_count": 1,
   "metadata": {
    "ExecuteTime": {
     "end_time": "2022-06-08T17:36:14.148178Z",
     "start_time": "2022-06-08T17:36:14.141652Z"
    }
   },
   "outputs": [],
   "source": [
    "import warnings\n",
    "warnings.filterwarnings('ignore')"
   ]
  },
  {
   "cell_type": "code",
   "execution_count": 2,
   "metadata": {
    "ExecuteTime": {
     "end_time": "2022-06-08T17:36:16.235469Z",
     "start_time": "2022-06-08T17:36:14.785453Z"
    }
   },
   "outputs": [],
   "source": [
    "import math\n",
    "import numpy as np\n",
    "import pandas as pd\n",
    "from matplotlib import pyplot as plt\n",
    "\n",
    "%matplotlib inline"
   ]
  },
  {
   "cell_type": "code",
   "execution_count": 3,
   "metadata": {
    "ExecuteTime": {
     "end_time": "2022-06-08T17:36:16.249885Z",
     "start_time": "2022-06-08T17:36:16.247277Z"
    }
   },
   "outputs": [],
   "source": [
    "plt.rcParams[\"figure.figsize\"] = (17,8)\n",
    "plt.style.use('ggplot')\n",
    "\n",
    "np.random.seed(42)"
   ]
  },
  {
   "cell_type": "markdown",
   "metadata": {},
   "source": [
    "## лапша"
   ]
  },
  {
   "cell_type": "markdown",
   "metadata": {},
   "source": [
    "**Задача:**  \n",
    "\n",
    "У нас есть кастрюля с макаронинами. Мы берем два конца, связываем. Каково мат. ожидание кол-ва колец?"
   ]
  },
  {
   "cell_type": "markdown",
   "metadata": {},
   "source": [
    "**Решение:**  \n",
    "\n",
    "Идея: на каждом шаге мы уменьшаем кол-во макаронин на одну. Что бы не случилось: завязали мы петлю, или связали две макаронины, их становится на одну меньше (две связанных макаронины дают одну, просто в два раза длиннее). И процесс продолжается до тех пор, пока не останется двух свободных концов. Т.е. ряд кол-ва макаронин будет такой: $n, n-1, n-2, ..., 2, 1$  \n",
    "\n",
    "Вероятность получить кольцо на каждом шаге - $\\frac{1}{m}$, где $m$ - кол-во макаронин на данном шаге. Почему? Ну идея такая: мы берем 1 конец, а потом ищем ещё один конец. Этот второй конец будет принадлежать одной из $m$ макаронин, имеющимся на этом шаге. Так вот, кольцо получится только в том случае, если этот второй конец принадлежит той же макаронине, что и первый вытянутый конец. А способов вытянуть его - один из $m$.  \n",
    "\n",
    "Получается, что мы с вероятностью $\\frac{1}{n}$ получим кольцо на первом шаге, с вероятностью $\\frac{1}{n-1}$ - на втором и т.д. На предпоследнем шаге это будет $\\frac{1}{2}$, на последнем - $\\frac{1}{1}=1$: в конце мы точно получаем кольцо.  \n",
    "\n",
    "Работать с изменчивыми вероятностями я не умею. Хочется привести к схеме Бернулли. И вот я не знаю, насколько это правильно. Но мне хочется думать, что можно взять \"среднюю\" вероятность кольца. Попробуем.  \n",
    "\n",
    "Для начала посмотрим, как по факту получается:"
   ]
  },
  {
   "cell_type": "code",
   "execution_count": 4,
   "metadata": {
    "ExecuteTime": {
     "end_time": "2022-06-08T17:36:18.539470Z",
     "start_time": "2022-06-08T17:36:18.531039Z"
    }
   },
   "outputs": [],
   "source": [
    "def true_setting(n, runs=500, plot=True):\n",
    "    circles = []\n",
    "    for r in range(runs):\n",
    "        counter = 0\n",
    "        for i in range(1, n+1):\n",
    "            v = np.random.uniform(low=0.0, high=1.0)\n",
    "            if v < (1/i):\n",
    "                counter += 1\n",
    "        circles.append(counter)\n",
    "    \n",
    "    mean = np.mean(circles)\n",
    "    \n",
    "    if plot:\n",
    "        ax = plt.axes()\n",
    "        ax.hist(circles, bins=50, alpha=0.5)\n",
    "        ax.axvline(mean, label=f'mean={mean}')\n",
    "        ax.legend()\n",
    "        plt.show();\n",
    "        \n",
    "    return mean"
   ]
  },
  {
   "cell_type": "code",
   "execution_count": 5,
   "metadata": {
    "ExecuteTime": {
     "end_time": "2022-06-08T17:36:19.602269Z",
     "start_time": "2022-06-08T17:36:19.181962Z"
    }
   },
   "outputs": [
    {
     "data": {
      "image/png": "[encoded data removed]",
      "text/plain": [
       "<Figure size 1224x576 with 1 Axes>"
      ]
     },
     "metadata": {},
     "output_type": "display_data"
    },
    {
     "data": {
      "text/plain": [
       "5.144"
      ]
     },
     "execution_count": 5,
     "metadata": {},
     "output_type": "execute_result"
    }
   ],
   "source": [
    "true_setting(n=100, runs=500)"
   ]
  },
  {
   "cell_type": "markdown",
   "metadata": {},
   "source": [
    "Теперь о среднем. Посчитаем его в лоб:"
   ]
  },
  {
   "cell_type": "code",
   "execution_count": 20,
   "metadata": {
    "ExecuteTime": {
     "end_time": "2022-05-30T16:40:31.176626Z",
     "start_time": "2022-05-30T16:40:31.159919Z"
    }
   },
   "outputs": [],
   "source": [
    "def mean_p(n):\n",
    "    ps_sum = 0\n",
    "    for i in range(1, n+1):\n",
    "        ps_sum += (1/i)\n",
    "        \n",
    "    return ps_sum / n"
   ]
  },
  {
   "cell_type": "code",
   "execution_count": 21,
   "metadata": {
    "ExecuteTime": {
     "end_time": "2022-05-30T16:40:32.163546Z",
     "start_time": "2022-05-30T16:40:32.152120Z"
    }
   },
   "outputs": [
    {
     "data": {
      "text/plain": [
       "0.05187377517639621"
      ]
     },
     "execution_count": 21,
     "metadata": {},
     "output_type": "execute_result"
    }
   ],
   "source": [
    "mean_p(n=100)"
   ]
  },
  {
   "cell_type": "markdown",
   "metadata": {},
   "source": [
    "Что дальше делать со средней вероятностью - понятно: по формуле для биномиального распределения мат. ожидание будет $np$. При $n=100$ и $p \\approx 0.05$ получается $\\approx 5$, что соответствует нарисованному выше графику.  \n",
    "\n",
    "Вроде норм. Почекаем на других примерах:  "
   ]
  },
  {
   "cell_type": "code",
   "execution_count": 23,
   "metadata": {
    "ExecuteTime": {
     "end_time": "2022-05-30T16:42:16.923449Z",
     "start_time": "2022-05-30T16:42:15.988755Z"
    }
   },
   "outputs": [
    {
     "data": {
      "text/plain": [
       "(7.646, 7.485470860550343)"
      ]
     },
     "execution_count": 23,
     "metadata": {},
     "output_type": "execute_result"
    }
   ],
   "source": [
    "n = 1000\n",
    "\n",
    "experiment_mean = true_setting(n, runs=500, plot=False)\n",
    "theory_mean = mean_p(n) * n\n",
    "\n",
    "experiment_mean, theory_mean"
   ]
  },
  {
   "cell_type": "markdown",
   "metadata": {},
   "source": [
    "Похоже на правду. Остается понять, как выразить среднюю вероятность через $n$.  \n",
    "\n",
    "А нам тут поможет, оказывается, сумма первых $n$ [гармонических чисел](https://ru.wikipedia.org/wiki/%D0%93%D0%B0%D1%80%D0%BC%D0%BE%D0%BD%D0%B8%D1%87%D0%B5%D1%81%D0%BA%D0%BE%D0%B5_%D1%87%D0%B8%D1%81%D0%BB%D0%BE). И там получается так:  \n",
    "$$\\sum_{k=1}^n \\frac{1}{k} \\approx \\ln{n} + \\gamma $$  \n",
    "\n",
    "Где $ \\gamma $ - это [постоянная Эйлера — Маскерони](https://ru.wikipedia.org/wiki/%D0%9F%D0%BE%D1%81%D1%82%D0%BE%D1%8F%D0%BD%D0%BD%D0%B0%D1%8F_%D0%AD%D0%B9%D0%BB%D0%B5%D1%80%D0%B0_%E2%80%94_%D0%9C%D0%B0%D1%81%D0%BA%D0%B5%D1%80%D0%BE%D0%BD%D0%B8).  \n",
    "\n",
    "Остается только поделить потом это на $n$, и получаем среднюю вероятность.\n",
    "\n",
    "Пробуем:  "
   ]
  },
  {
   "cell_type": "code",
   "execution_count": 37,
   "metadata": {
    "ExecuteTime": {
     "end_time": "2022-05-30T17:12:16.263728Z",
     "start_time": "2022-05-30T17:12:16.259366Z"
    }
   },
   "outputs": [],
   "source": [
    "def mean_p_theory(n): \n",
    "    # from sympy.core.numbers import EulerGamma\n",
    "    EulerGamma = 0.5772156649\n",
    "    p_sum = np.log(n) + EulerGamma\n",
    "    return p_sum / n"
   ]
  },
  {
   "cell_type": "code",
   "execution_count": 41,
   "metadata": {
    "ExecuteTime": {
     "end_time": "2022-05-30T17:15:16.271161Z",
     "start_time": "2022-05-30T17:15:06.847391Z"
    }
   },
   "outputs": [
    {
     "data": {
      "text/plain": [
       "(9.84, 9.787556036876182)"
      ]
     },
     "execution_count": 41,
     "metadata": {},
     "output_type": "execute_result"
    }
   ],
   "source": [
    "n = 10000\n",
    "\n",
    "experiment_mean = true_setting(n, runs=500, plot=False)\n",
    "theory_mean = mean_p_theory(n) * n\n",
    "\n",
    "experiment_mean, theory_mean"
   ]
  },
  {
   "cell_type": "markdown",
   "metadata": {},
   "source": [
    "Штош, похоже )  \n",
    "\n",
    "Итого: средняя вероятность - это рабочий варик. А эксперимент Бернулли нас вовсе никогда не подведет. Ну и последняя составляющая успеха - гармонические числа."
   ]
  },
  {
   "cell_type": "markdown",
   "metadata": {},
   "source": [
    "## три броска кубика"
   ]
  },
  {
   "cell_type": "markdown",
   "metadata": {},
   "source": [
    "**Задача:**  \n",
    "\n",
    "Каково мат. ожидание очков, если можно кинуть кубик три раза? Ну т.е. можно перебросить.  "
   ]
  },
  {
   "cell_type": "markdown",
   "metadata": {},
   "source": [
    "**Решение:**  \n",
    "\n",
    "Для начала надо определиться со статегией. И это нам поможет сделать расчет матожидания одного броска:  "
   ]
  },
  {
   "cell_type": "code",
   "execution_count": 6,
   "metadata": {
    "ExecuteTime": {
     "end_time": "2022-06-08T17:36:24.976359Z",
     "start_time": "2022-06-08T17:36:24.964249Z"
    }
   },
   "outputs": [
    {
     "data": {
      "text/plain": [
       "3.5"
      ]
     },
     "execution_count": 6,
     "metadata": {},
     "output_type": "execute_result"
    }
   ],
   "source": [
    "(1 + 2 + 3 + 4 + 5 + 6) / 6"
   ]
  },
  {
   "cell_type": "markdown",
   "metadata": {},
   "source": [
    "Итак, единичный бросок дает нам в среднем 3.5 очка. Значит, если выпадет 4-6 - можно и не перебрасывать. А вот 1-3 - лучше перебросить, возможно выбьем больше.  "
   ]
  },
  {
   "cell_type": "code",
   "execution_count": null,
   "metadata": {},
   "outputs": [],
   "source": []
  },
  {
   "cell_type": "code",
   "execution_count": null,
   "metadata": {},
   "outputs": [],
   "source": []
  },
  {
   "cell_type": "markdown",
   "metadata": {
    "ExecuteTime": {
     "end_time": "2022-05-30T17:21:29.633484Z",
     "start_time": "2022-05-30T17:21:29.629484Z"
    }
   },
   "source": [
    "## театр и гардеробы"
   ]
  },
  {
   "cell_type": "code",
   "execution_count": null,
   "metadata": {},
   "outputs": [],
   "source": []
  }
 ],
 "metadata": {
  "kernelspec": {
   "display_name": "Python [conda env:sandbox]",
   "language": "python",
   "name": "conda-env-sandbox-py"
  },
  "language_info": {
   "codemirror_mode": {
    "name": "ipython",
    "version": 3
   },
   "file_extension": ".py",
   "mimetype": "text/x-python",
   "name": "python",
   "nbconvert_exporter": "python",
   "pygments_lexer": "ipython3",
   "version": "3.8.13"
  },
  "toc": {
   "base_numbering": 1,
   "nav_menu": {},
   "number_sections": true,
   "sideBar": true,
   "skip_h1_title": true,
   "title_cell": "Table of Contents",
   "title_sidebar": "Contents",
   "toc_cell": false,
   "toc_position": {},
   "toc_section_display": true,
   "toc_window_display": true
  },
  "varInspector": {
   "cols": {
    "lenName": 16,
    "lenType": 16,
    "lenVar": 40
   },
   "kernels_config": {
    "python": {
     "delete_cmd_postfix": "",
     "delete_cmd_prefix": "del ",
     "library": "var_list.py",
     "varRefreshCmd": "print(var_dic_list())"
    },
    "r": {
     "delete_cmd_postfix": ") ",
     "delete_cmd_prefix": "rm(",
     "library": "var_list.r",
     "varRefreshCmd": "cat(var_dic_list()) "
    }
   },
   "types_to_exclude": [
    "module",
    "function",
    "builtin_function_or_method",
    "instance",
    "_Feature"
   ],
   "window_display": false
  }
 },
 "nbformat": 4,
 "nbformat_minor": 4
}
