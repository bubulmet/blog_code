{
 "cells": [
  {
   "cell_type": "markdown",
   "metadata": {},
   "source": [
    "# Простые алгоритмы"
   ]
  },
  {
   "cell_type": "markdown",
   "metadata": {},
   "source": [
    "Из [этого курса на Stepik](https://stepik.org/course/8057/syllabus)"
   ]
  },
  {
   "cell_type": "markdown",
   "metadata": {},
   "source": [
    "## init"
   ]
  },
  {
   "cell_type": "code",
   "execution_count": 1,
   "metadata": {
    "ExecuteTime": {
     "end_time": "2022-05-25T09:16:41.930199Z",
     "start_time": "2022-05-25T09:16:41.924260Z"
    }
   },
   "outputs": [],
   "source": [
    "import warnings\n",
    "warnings.filterwarnings('ignore')"
   ]
  },
  {
   "cell_type": "code",
   "execution_count": 2,
   "metadata": {
    "ExecuteTime": {
     "end_time": "2022-05-25T09:16:43.684862Z",
     "start_time": "2022-05-25T09:16:42.563020Z"
    }
   },
   "outputs": [],
   "source": [
    "import numpy as np\n",
    "import pandas as pd\n",
    "from matplotlib import pyplot as plt\n",
    "\n",
    "%matplotlib inline"
   ]
  },
  {
   "cell_type": "code",
   "execution_count": 3,
   "metadata": {
    "ExecuteTime": {
     "end_time": "2022-05-25T09:16:43.700932Z",
     "start_time": "2022-05-25T09:16:43.697421Z"
    }
   },
   "outputs": [],
   "source": [
    "plt.rcParams[\"figure.figsize\"] = (17,8)\n",
    "plt.style.use('ggplot')\n",
    "\n",
    "np.random.seed(42)"
   ]
  },
  {
   "cell_type": "markdown",
   "metadata": {},
   "source": [
    "## расстояния"
   ]
  },
  {
   "cell_type": "markdown",
   "metadata": {},
   "source": [
    "Дополнительная темка  \n",
    "\n",
    "https://docs.scipy.org/doc/scipy/reference/spatial.distance.html  \n",
    "\n",
    "https://ml-handbook.ru/chapters/metric_based/intro#%D0%B2%D1%8B%D0%B1%D0%BE%D1%80-%D0%BC%D0%B5%D1%82%D1%80%D0%B8%D0%BA%D0%B8  \n",
    "\n",
    "**Свойства метрики:**  \n",
    "* $\\rho(A, A) = 0$: расстояние до самого себя равно 0;  \n",
    "* $\\rho(A, B) = \\rho(B, A)$: метрика симметрична;  \n",
    "* $\\rho(A, B) \\leq \\rho(A, C) + \\rho(C, B)$: метрика удовлетворяет **неравенству треугольника** - расстояние между любыми двумя точками не может быть больше, чем проход между ними через промежуточный пункт (третью точку);  \n",
    "* $\\rho(A, B) \\in (0, +\\inf)$: метрика неотрицательна.\n",
    "\n",
    "> _Не все приведенные ниже \"расстояния\" удовлетворяют неравенству треугольника, т.е. не являются **метриками** в строгом математическом смысле. Но все неотрицательны и симметричны_"
   ]
  },
  {
   "cell_type": "code",
   "execution_count": 4,
   "metadata": {
    "ExecuteTime": {
     "end_time": "2022-05-25T09:16:45.322901Z",
     "start_time": "2022-05-25T09:16:45.170738Z"
    }
   },
   "outputs": [],
   "source": [
    "from scipy.spatial import distance"
   ]
  },
  {
   "cell_type": "code",
   "execution_count": 5,
   "metadata": {
    "ExecuteTime": {
     "end_time": "2022-05-25T09:16:47.533161Z",
     "start_time": "2022-05-25T09:16:47.522310Z"
    }
   },
   "outputs": [],
   "source": [
    "a = np.array([1,2,3])\n",
    "b = np.array([2,1,4])"
   ]
  },
  {
   "cell_type": "code",
   "execution_count": 38,
   "metadata": {
    "ExecuteTime": {
     "end_time": "2022-05-21T16:44:08.061943Z",
     "start_time": "2022-05-21T16:44:08.034608Z"
    }
   },
   "outputs": [
    {
     "data": {
      "text/plain": [
       "(1.7320508075688772,\n",
       " 1.7320508075688772,\n",
       " 1.7320508075688772,\n",
       " 1.7320508075688772)"
      ]
     },
     "execution_count": 38,
     "metadata": {},
     "output_type": "execute_result"
    }
   ],
   "source": [
    "# Euclidean\n",
    "temp = a - b\n",
    "\n",
    "dist0 = np.sqrt(np.sum(np.square(temp)))\n",
    "dist1 = np.linalg.norm(temp)\n",
    "dist2 = np.sqrt(np.dot(temp.T, temp))\n",
    "dist3 = distance.euclidean(a, b)\n",
    "\n",
    "dist0, dist1, dist2, dist3"
   ]
  },
  {
   "cell_type": "code",
   "execution_count": 39,
   "metadata": {
    "ExecuteTime": {
     "end_time": "2022-05-21T16:44:10.318741Z",
     "start_time": "2022-05-21T16:44:10.299500Z"
    }
   },
   "outputs": [
    {
     "data": {
      "text/plain": [
       "(3, 3)"
      ]
     },
     "execution_count": 39,
     "metadata": {},
     "output_type": "execute_result"
    }
   ],
   "source": [
    "# Manhattan (City Block)\n",
    "temp = a - b\n",
    "\n",
    "dist0 = np.sum(np.abs(temp))\n",
    "dist1 = distance.cityblock(a, b)\n",
    "\n",
    "dist0, dist1"
   ]
  },
  {
   "cell_type": "markdown",
   "metadata": {},
   "source": [
    "Менее чувствительно к выбросам в многомерном пространстве. Например, если у нас 1000 признаков, и по 999 два объекта близки, а по 1000-му - отличаются заметнее, евклидово расстояние возведет в квадрат, усилит эту разницу, а манхэттен - нет."
   ]
  },
  {
   "cell_type": "code",
   "execution_count": 40,
   "metadata": {
    "ExecuteTime": {
     "end_time": "2022-05-21T16:44:11.993614Z",
     "start_time": "2022-05-21T16:44:11.948736Z"
    }
   },
   "outputs": [
    {
     "data": {
      "text/plain": [
       "(0.06686105036831302, 0.06686105036831302, 0.06686105036831325)"
      ]
     },
     "execution_count": 40,
     "metadata": {},
     "output_type": "execute_result"
    }
   ],
   "source": [
    "# Cosine distance\n",
    "dist0 = 1 - ( np.dot(a.T, b) / ( np.sqrt(np.sum(np.square(a))) * np.sqrt(np.sum(np.square(b))) ) )\n",
    "dist1 = 1 - (np.dot(a.T, b) / ( np.linalg.norm(a) * np.linalg.norm(b) ) )\n",
    "dist2 = distance.cosine(a, b)\n",
    "\n",
    "dist0, dist1, dist2"
   ]
  },
  {
   "cell_type": "markdown",
   "metadata": {},
   "source": [
    "Любят в NLP. Потому что не зависит от нормы (длины вектора). Представим, что у нас bag of words, и мы тупо считаем кол-во вхождений. Вот если у нас тех же слов, но не по одному, а по 2 встречается, тема же от этого не меняется. А норма меняется - в два раза больше становится. Поэтому и юзается расстояние, не зависящее от нормы, длины вектора. Только его направление нас интересует.  \n",
    "\n",
    "Но кажется тут с правилом треугольника проблемы..."
   ]
  },
  {
   "cell_type": "markdown",
   "metadata": {},
   "source": [
    "**Кстати!**  \n",
    "\n",
    "$ \\frac{u \\cdot v}{||u||_2 * ||v||_2} $ называют _cosine similarity_ между векторами $u$ и $v$, то есть _косинусное сходство_. Здесь $u \\cdot v$ - это скалярное произведение векторов $u$ и $v$, а $||u||_2$ - это $L_2$-норма, она же Евклидова норма, она же длина вектора $u$.  \n",
    "\n",
    "Так вот:  \n",
    "$ cosine\\_distance = 1 - cosine\\_similarity $  \n",
    "$ cosine\\_similarity = 1 - cosine\\_distance $  \n",
    "\n",
    "А вот Манхеттенское расстояние - это к вопросу об $L_1$-норме: сумма модулей. А $L_2$-норма, она же Евклидова - это про корень из суммы квадратов."
   ]
  },
  {
   "cell_type": "code",
   "execution_count": 10,
   "metadata": {
    "ExecuteTime": {
     "end_time": "2022-05-25T09:22:04.810257Z",
     "start_time": "2022-05-25T09:22:04.791173Z"
    }
   },
   "outputs": [
    {
     "data": {
      "text/plain": [
       "(1.4422495703074083, 1.4422495703074083)"
      ]
     },
     "execution_count": 10,
     "metadata": {},
     "output_type": "execute_result"
    }
   ],
   "source": [
    "# Minkowski distance\n",
    "\n",
    "p = 3\n",
    "\n",
    "dist0 = np.sum(\n",
    "    np.abs(a - b)**p\n",
    ")**(1/p)\n",
    "dist1 = distance.minkowski(a, b, p)\n",
    "\n",
    "dist0, dist1"
   ]
  },
  {
   "cell_type": "markdown",
   "metadata": {},
   "source": [
    "Метрика Минковского - это обобщение евклидовой ($p=2$) и манхэттенской ($p=1$) метрик. В данном случае $p$ - параметр.  \n",
    "Формула, для наглядности:  \n",
    "$$\\rho(u, v, p) = (\\sum_i |u_i - v_i|^p )^\\frac{1}{p}$$"
   ]
  },
  {
   "cell_type": "code",
   "execution_count": 11,
   "metadata": {
    "ExecuteTime": {
     "end_time": "2022-05-25T09:27:33.539402Z",
     "start_time": "2022-05-25T09:27:33.532800Z"
    }
   },
   "outputs": [
    {
     "data": {
      "text/plain": [
       "(0.6666666666666667, 0.6666666666666666)"
      ]
     },
     "execution_count": 11,
     "metadata": {},
     "output_type": "execute_result"
    }
   ],
   "source": [
    "# for bools:\n",
    "# Jaccard-Needham dissimilarity\n",
    "a = np.array([True, False, True, False])\n",
    "b = np.array([False, True, True, False])\n",
    "\n",
    "dist0 = 1 - np.sum(a & b) / np.sum(a | b)\n",
    "dist1 = distance.jaccard(a, b)\n",
    "\n",
    "dist0, dist1"
   ]
  },
  {
   "cell_type": "markdown",
   "metadata": {},
   "source": [
    "Расстояние Жаккара, также как и косинусное расстояние, может легко превратиться в \"близость\": достаточно убрать `1-`. Если в терминах множеств говорить (а булев массив как раз может кодировать множества: входит в него элемент, или нет), получится так:  \n",
    "$$\\rho(U, V) = 1 - \\frac{|U \\cap V|}{|U \\cup V|}$$  \n",
    "\n",
    "Ну и с правилом треугольника тут тоже всё так себе, похоже..."
   ]
  },
  {
   "cell_type": "markdown",
   "metadata": {},
   "source": [
    "## восстановление данных/рекомендации"
   ]
  },
  {
   "cell_type": "code",
   "execution_count": 47,
   "metadata": {
    "ExecuteTime": {
     "end_time": "2022-05-21T17:16:18.761955Z",
     "start_time": "2022-05-21T17:16:18.726362Z"
    }
   },
   "outputs": [
    {
     "data": {
      "text/html": [
       "<div>\n",
       "<style scoped>\n",
       "    .dataframe tbody tr th:only-of-type {\n",
       "        vertical-align: middle;\n",
       "    }\n",
       "\n",
       "    .dataframe tbody tr th {\n",
       "        vertical-align: top;\n",
       "    }\n",
       "\n",
       "    .dataframe thead th {\n",
       "        text-align: right;\n",
       "    }\n",
       "</style>\n",
       "<table border=\"1\" class=\"dataframe\">\n",
       "  <thead>\n",
       "    <tr style=\"text-align: right;\">\n",
       "      <th></th>\n",
       "      <th>0</th>\n",
       "      <th>1</th>\n",
       "      <th>2</th>\n",
       "      <th>3</th>\n",
       "      <th>4</th>\n",
       "    </tr>\n",
       "  </thead>\n",
       "  <tbody>\n",
       "    <tr>\n",
       "      <th>0</th>\n",
       "      <td>105.009857</td>\n",
       "      <td>106.928964</td>\n",
       "      <td>86.399506</td>\n",
       "      <td>104.645074</td>\n",
       "      <td>105.861449</td>\n",
       "    </tr>\n",
       "    <tr>\n",
       "      <th>1</th>\n",
       "      <td>85.712972</td>\n",
       "      <td>137.315490</td>\n",
       "      <td>109.476658</td>\n",
       "      <td>76.173930</td>\n",
       "      <td>113.131072</td>\n",
       "    </tr>\n",
       "    <tr>\n",
       "      <th>2</th>\n",
       "      <td>80.506367</td>\n",
       "      <td>115.741692</td>\n",
       "      <td>123.171912</td>\n",
       "      <td>83.586354</td>\n",
       "      <td>119.267523</td>\n",
       "    </tr>\n",
       "    <tr>\n",
       "      <th>3</th>\n",
       "      <td>108.255619</td>\n",
       "      <td>116.441203</td>\n",
       "      <td>137.935860</td>\n",
       "      <td>95.092238</td>\n",
       "      <td>84.925277</td>\n",
       "    </tr>\n",
       "    <tr>\n",
       "      <th>4</th>\n",
       "      <td>82.209711</td>\n",
       "      <td>83.683794</td>\n",
       "      <td>98.457966</td>\n",
       "      <td>106.823039</td>\n",
       "      <td>105.533816</td>\n",
       "    </tr>\n",
       "    <tr>\n",
       "      <th>5</th>\n",
       "      <td>116.543665</td>\n",
       "      <td>100.260038</td>\n",
       "      <td>129.070682</td>\n",
       "      <td>94.706863</td>\n",
       "      <td>154.403383</td>\n",
       "    </tr>\n",
       "    <tr>\n",
       "      <th>6</th>\n",
       "      <td>112.513347</td>\n",
       "      <td>82.856849</td>\n",
       "      <td>78.582150</td>\n",
       "      <td>109.649448</td>\n",
       "      <td>95.530744</td>\n",
       "    </tr>\n",
       "    <tr>\n",
       "      <th>7</th>\n",
       "      <td>114.280010</td>\n",
       "      <td>109.464752</td>\n",
       "      <td>98.543422</td>\n",
       "      <td>83.064126</td>\n",
       "      <td>69.703056</td>\n",
       "    </tr>\n",
       "    <tr>\n",
       "      <th>8</th>\n",
       "      <td>91.069701</td>\n",
       "      <td>117.127976</td>\n",
       "      <td>104.281875</td>\n",
       "      <td>75.085224</td>\n",
       "      <td>103.463619</td>\n",
       "    </tr>\n",
       "    <tr>\n",
       "      <th>9</th>\n",
       "      <td>107.706348</td>\n",
       "      <td>82.322851</td>\n",
       "      <td>103.074502</td>\n",
       "      <td>101.164174</td>\n",
       "      <td>77.140594</td>\n",
       "    </tr>\n",
       "  </tbody>\n",
       "</table>\n",
       "</div>"
      ],
      "text/plain": [
       "            0           1           2           3           4\n",
       "0  105.009857  106.928964   86.399506  104.645074  105.861449\n",
       "1   85.712972  137.315490  109.476658   76.173930  113.131072\n",
       "2   80.506367  115.741692  123.171912   83.586354  119.267523\n",
       "3  108.255619  116.441203  137.935860   95.092238   84.925277\n",
       "4   82.209711   83.683794   98.457966  106.823039  105.533816\n",
       "5  116.543665  100.260038  129.070682   94.706863  154.403383\n",
       "6  112.513347   82.856849   78.582150  109.649448   95.530744\n",
       "7  114.280010  109.464752   98.543422   83.064126   69.703056\n",
       "8   91.069701  117.127976  104.281875   75.085224  103.463619\n",
       "9  107.706348   82.322851  103.074502  101.164174   77.140594"
      ]
     },
     "execution_count": 47,
     "metadata": {},
     "output_type": "execute_result"
    }
   ],
   "source": [
    "shape = (10, 5)\n",
    "\n",
    "data = pd.DataFrame(\n",
    "    np.random.normal(loc=100, scale=20, size=shape)\n",
    ")\n",
    "\n",
    "data"
   ]
  },
  {
   "cell_type": "markdown",
   "metadata": {},
   "source": [
    "Сделаем пропуск в колонке **0**:  "
   ]
  },
  {
   "cell_type": "code",
   "execution_count": 48,
   "metadata": {
    "ExecuteTime": {
     "end_time": "2022-05-21T17:18:12.650617Z",
     "start_time": "2022-05-21T17:18:12.622719Z"
    }
   },
   "outputs": [
    {
     "data": {
      "text/html": [
       "<div>\n",
       "<style scoped>\n",
       "    .dataframe tbody tr th:only-of-type {\n",
       "        vertical-align: middle;\n",
       "    }\n",
       "\n",
       "    .dataframe tbody tr th {\n",
       "        vertical-align: top;\n",
       "    }\n",
       "\n",
       "    .dataframe thead th {\n",
       "        text-align: right;\n",
       "    }\n",
       "</style>\n",
       "<table border=\"1\" class=\"dataframe\">\n",
       "  <thead>\n",
       "    <tr style=\"text-align: right;\">\n",
       "      <th></th>\n",
       "      <th>0</th>\n",
       "      <th>1</th>\n",
       "      <th>2</th>\n",
       "      <th>3</th>\n",
       "      <th>4</th>\n",
       "    </tr>\n",
       "  </thead>\n",
       "  <tbody>\n",
       "    <tr>\n",
       "      <th>0</th>\n",
       "      <td>NaN</td>\n",
       "      <td>106.928964</td>\n",
       "      <td>86.399506</td>\n",
       "      <td>104.645074</td>\n",
       "      <td>105.861449</td>\n",
       "    </tr>\n",
       "    <tr>\n",
       "      <th>1</th>\n",
       "      <td>85.712972</td>\n",
       "      <td>137.315490</td>\n",
       "      <td>109.476658</td>\n",
       "      <td>76.173930</td>\n",
       "      <td>113.131072</td>\n",
       "    </tr>\n",
       "    <tr>\n",
       "      <th>2</th>\n",
       "      <td>80.506367</td>\n",
       "      <td>115.741692</td>\n",
       "      <td>123.171912</td>\n",
       "      <td>83.586354</td>\n",
       "      <td>119.267523</td>\n",
       "    </tr>\n",
       "    <tr>\n",
       "      <th>3</th>\n",
       "      <td>108.255619</td>\n",
       "      <td>116.441203</td>\n",
       "      <td>137.935860</td>\n",
       "      <td>95.092238</td>\n",
       "      <td>84.925277</td>\n",
       "    </tr>\n",
       "    <tr>\n",
       "      <th>4</th>\n",
       "      <td>82.209711</td>\n",
       "      <td>83.683794</td>\n",
       "      <td>98.457966</td>\n",
       "      <td>106.823039</td>\n",
       "      <td>105.533816</td>\n",
       "    </tr>\n",
       "    <tr>\n",
       "      <th>5</th>\n",
       "      <td>116.543665</td>\n",
       "      <td>100.260038</td>\n",
       "      <td>129.070682</td>\n",
       "      <td>94.706863</td>\n",
       "      <td>154.403383</td>\n",
       "    </tr>\n",
       "    <tr>\n",
       "      <th>6</th>\n",
       "      <td>112.513347</td>\n",
       "      <td>82.856849</td>\n",
       "      <td>78.582150</td>\n",
       "      <td>109.649448</td>\n",
       "      <td>95.530744</td>\n",
       "    </tr>\n",
       "    <tr>\n",
       "      <th>7</th>\n",
       "      <td>114.280010</td>\n",
       "      <td>109.464752</td>\n",
       "      <td>98.543422</td>\n",
       "      <td>83.064126</td>\n",
       "      <td>69.703056</td>\n",
       "    </tr>\n",
       "    <tr>\n",
       "      <th>8</th>\n",
       "      <td>91.069701</td>\n",
       "      <td>117.127976</td>\n",
       "      <td>104.281875</td>\n",
       "      <td>75.085224</td>\n",
       "      <td>103.463619</td>\n",
       "    </tr>\n",
       "    <tr>\n",
       "      <th>9</th>\n",
       "      <td>107.706348</td>\n",
       "      <td>82.322851</td>\n",
       "      <td>103.074502</td>\n",
       "      <td>101.164174</td>\n",
       "      <td>77.140594</td>\n",
       "    </tr>\n",
       "  </tbody>\n",
       "</table>\n",
       "</div>"
      ],
      "text/plain": [
       "            0           1           2           3           4\n",
       "0         NaN  106.928964   86.399506  104.645074  105.861449\n",
       "1   85.712972  137.315490  109.476658   76.173930  113.131072\n",
       "2   80.506367  115.741692  123.171912   83.586354  119.267523\n",
       "3  108.255619  116.441203  137.935860   95.092238   84.925277\n",
       "4   82.209711   83.683794   98.457966  106.823039  105.533816\n",
       "5  116.543665  100.260038  129.070682   94.706863  154.403383\n",
       "6  112.513347   82.856849   78.582150  109.649448   95.530744\n",
       "7  114.280010  109.464752   98.543422   83.064126   69.703056\n",
       "8   91.069701  117.127976  104.281875   75.085224  103.463619\n",
       "9  107.706348   82.322851  103.074502  101.164174   77.140594"
      ]
     },
     "execution_count": 48,
     "metadata": {},
     "output_type": "execute_result"
    }
   ],
   "source": [
    "data.at[0, 0] = np.nan\n",
    "\n",
    "data"
   ]
  },
  {
   "cell_type": "markdown",
   "metadata": {},
   "source": [
    "Итак, задача: заполнить дырку. Варианты среднего и медианы не смотрим. Смотрим поинтереснее."
   ]
  },
  {
   "cell_type": "markdown",
   "metadata": {},
   "source": [
    "### Близость объектов (строк)"
   ]
  },
  {
   "cell_type": "markdown",
   "metadata": {},
   "source": [
    "Считаем близость (по какой-либо метрике) нашего объекта (строки) к другим объектам по известным колонкам:  "
   ]
  },
  {
   "cell_type": "code",
   "execution_count": 55,
   "metadata": {
    "ExecuteTime": {
     "end_time": "2022-05-21T17:25:09.890761Z",
     "start_time": "2022-05-21T17:25:09.873931Z"
    }
   },
   "outputs": [
    {
     "data": {
      "text/plain": [
       "1    106.928964\n",
       "2     86.399506\n",
       "3    104.645074\n",
       "4    105.861449\n",
       "Name: 0, dtype: float64"
      ]
     },
     "execution_count": 55,
     "metadata": {},
     "output_type": "execute_result"
    }
   ],
   "source": [
    "nan_object = data.loc[0, 1:4]\n",
    "\n",
    "nan_object"
   ]
  },
  {
   "cell_type": "code",
   "execution_count": 56,
   "metadata": {
    "ExecuteTime": {
     "end_time": "2022-05-21T17:25:10.456772Z",
     "start_time": "2022-05-21T17:25:10.436208Z"
    }
   },
   "outputs": [
    {
     "data": {
      "text/plain": [
       "1    48.159624\n",
       "2    45.310777\n",
       "3    57.236863\n",
       "4    26.279179\n",
       "5    65.729683\n",
       "6    27.791096\n",
       "7    43.898425\n",
       "8    36.101707\n",
       "9    41.479157\n",
       "dtype: float64"
      ]
     },
     "execution_count": 56,
     "metadata": {},
     "output_type": "execute_result"
    }
   ],
   "source": [
    "distances = data.loc[1:, 1:4].apply(lambda x: distance.euclidean(x, nan_object),  axis=1)\n",
    "\n",
    "distances"
   ]
  },
  {
   "cell_type": "markdown",
   "metadata": {},
   "source": [
    "> тут нужно, чтобы значения были нормированы (шкалированы, отмасштабированы). Иначе расстояние посчитается криво."
   ]
  },
  {
   "cell_type": "markdown",
   "metadata": {},
   "source": [
    "Теперь смотрим, какие значения в интересующей нас колонке (признак **0**) у известных нам объектов:  "
   ]
  },
  {
   "cell_type": "code",
   "execution_count": 57,
   "metadata": {
    "ExecuteTime": {
     "end_time": "2022-05-21T17:25:38.273422Z",
     "start_time": "2022-05-21T17:25:38.265810Z"
    }
   },
   "outputs": [
    {
     "data": {
      "text/plain": [
       "1     85.712972\n",
       "2     80.506367\n",
       "3    108.255619\n",
       "4     82.209711\n",
       "5    116.543665\n",
       "6    112.513347\n",
       "7    114.280010\n",
       "8     91.069701\n",
       "9    107.706348\n",
       "Name: 0, dtype: float64"
      ]
     },
     "execution_count": 57,
     "metadata": {},
     "output_type": "execute_result"
    }
   ],
   "source": [
    "nan_column_values = data.loc[1:, 0]\n",
    "\n",
    "nan_column_values"
   ]
  },
  {
   "cell_type": "markdown",
   "metadata": {},
   "source": [
    "И вот теперь взвешиваем значения на расстояния (точнее, на близость - меру, обратную расстоянию), и получаем искомое значение:"
   ]
  },
  {
   "cell_type": "code",
   "execution_count": 72,
   "metadata": {
    "ExecuteTime": {
     "end_time": "2022-05-21T17:41:03.468436Z",
     "start_time": "2022-05-21T17:41:03.459898Z"
    }
   },
   "outputs": [
    {
     "data": {
      "text/plain": [
       "98.6886027455759"
      ]
     },
     "execution_count": 72,
     "metadata": {},
     "output_type": "execute_result"
    }
   ],
   "source": [
    "similarity = 1 / distances\n",
    "\n",
    "fill_value = np.sum(nan_column_values * similarity) * (1 / np.sum(similarity))\n",
    "\n",
    "fill_value"
   ]
  },
  {
   "cell_type": "markdown",
   "metadata": {},
   "source": [
    "`* (1 / np.sum(similarity))` - это для нормирования. Как вариант, можно `similarity` перевести в значения, дающие в сумме 1:  "
   ]
  },
  {
   "cell_type": "code",
   "execution_count": 73,
   "metadata": {
    "ExecuteTime": {
     "end_time": "2022-05-21T17:41:04.650188Z",
     "start_time": "2022-05-21T17:41:04.635501Z"
    }
   },
   "outputs": [
    {
     "data": {
      "text/plain": [
       "1.0"
      ]
     },
     "execution_count": 73,
     "metadata": {},
     "output_type": "execute_result"
    }
   ],
   "source": [
    "norm_similarity = similarity / sum(similarity)\n",
    "\n",
    "sum(norm_similarity)"
   ]
  },
  {
   "cell_type": "code",
   "execution_count": 74,
   "metadata": {
    "ExecuteTime": {
     "end_time": "2022-05-21T17:41:05.211803Z",
     "start_time": "2022-05-21T17:41:05.195794Z"
    }
   },
   "outputs": [
    {
     "data": {
      "text/plain": [
       "98.68860274557589"
      ]
     },
     "execution_count": 74,
     "metadata": {},
     "output_type": "execute_result"
    }
   ],
   "source": [
    "fill_value = np.sum(nan_column_values * norm_similarity)\n",
    "\n",
    "fill_value"
   ]
  },
  {
   "cell_type": "code",
   "execution_count": 75,
   "metadata": {
    "ExecuteTime": {
     "end_time": "2022-05-21T17:41:55.899694Z",
     "start_time": "2022-05-21T17:41:55.885120Z"
    }
   },
   "outputs": [
    {
     "data": {
      "text/plain": [
       "98.68860274557588"
      ]
     },
     "execution_count": 75,
     "metadata": {},
     "output_type": "execute_result"
    }
   ],
   "source": [
    "np.dot(nan_column_values, norm_similarity) # ещё так можно прописать"
   ]
  },
  {
   "cell_type": "markdown",
   "metadata": {},
   "source": [
    "### Корреляция признаков (колонок)"
   ]
  },
  {
   "cell_type": "markdown",
   "metadata": {},
   "source": [
    "Берем значения нашего объекта по известным столбцам:"
   ]
  },
  {
   "cell_type": "code",
   "execution_count": 77,
   "metadata": {
    "ExecuteTime": {
     "end_time": "2022-05-21T17:47:53.025368Z",
     "start_time": "2022-05-21T17:47:52.996561Z"
    }
   },
   "outputs": [
    {
     "data": {
      "text/plain": [
       "1    106.928964\n",
       "2     86.399506\n",
       "3    104.645074\n",
       "4    105.861449\n",
       "Name: 0, dtype: float64"
      ]
     },
     "execution_count": 77,
     "metadata": {},
     "output_type": "execute_result"
    }
   ],
   "source": [
    "nan_object = data.loc[0, 1:4]\n",
    "\n",
    "nan_object"
   ]
  },
  {
   "cell_type": "markdown",
   "metadata": {},
   "source": [
    "Берем матрицу без нашего объекта:"
   ]
  },
  {
   "cell_type": "code",
   "execution_count": 93,
   "metadata": {
    "ExecuteTime": {
     "end_time": "2022-05-21T17:56:47.779226Z",
     "start_time": "2022-05-21T17:56:47.762284Z"
    }
   },
   "outputs": [
    {
     "data": {
      "text/html": [
       "<div>\n",
       "<style scoped>\n",
       "    .dataframe tbody tr th:only-of-type {\n",
       "        vertical-align: middle;\n",
       "    }\n",
       "\n",
       "    .dataframe tbody tr th {\n",
       "        vertical-align: top;\n",
       "    }\n",
       "\n",
       "    .dataframe thead th {\n",
       "        text-align: right;\n",
       "    }\n",
       "</style>\n",
       "<table border=\"1\" class=\"dataframe\">\n",
       "  <thead>\n",
       "    <tr style=\"text-align: right;\">\n",
       "      <th></th>\n",
       "      <th>0</th>\n",
       "      <th>1</th>\n",
       "      <th>2</th>\n",
       "      <th>3</th>\n",
       "      <th>4</th>\n",
       "    </tr>\n",
       "  </thead>\n",
       "  <tbody>\n",
       "    <tr>\n",
       "      <th>1</th>\n",
       "      <td>85.712972</td>\n",
       "      <td>137.315490</td>\n",
       "      <td>109.476658</td>\n",
       "      <td>76.173930</td>\n",
       "      <td>113.131072</td>\n",
       "    </tr>\n",
       "    <tr>\n",
       "      <th>2</th>\n",
       "      <td>80.506367</td>\n",
       "      <td>115.741692</td>\n",
       "      <td>123.171912</td>\n",
       "      <td>83.586354</td>\n",
       "      <td>119.267523</td>\n",
       "    </tr>\n",
       "    <tr>\n",
       "      <th>3</th>\n",
       "      <td>108.255619</td>\n",
       "      <td>116.441203</td>\n",
       "      <td>137.935860</td>\n",
       "      <td>95.092238</td>\n",
       "      <td>84.925277</td>\n",
       "    </tr>\n",
       "    <tr>\n",
       "      <th>4</th>\n",
       "      <td>82.209711</td>\n",
       "      <td>83.683794</td>\n",
       "      <td>98.457966</td>\n",
       "      <td>106.823039</td>\n",
       "      <td>105.533816</td>\n",
       "    </tr>\n",
       "    <tr>\n",
       "      <th>5</th>\n",
       "      <td>116.543665</td>\n",
       "      <td>100.260038</td>\n",
       "      <td>129.070682</td>\n",
       "      <td>94.706863</td>\n",
       "      <td>154.403383</td>\n",
       "    </tr>\n",
       "    <tr>\n",
       "      <th>6</th>\n",
       "      <td>112.513347</td>\n",
       "      <td>82.856849</td>\n",
       "      <td>78.582150</td>\n",
       "      <td>109.649448</td>\n",
       "      <td>95.530744</td>\n",
       "    </tr>\n",
       "    <tr>\n",
       "      <th>7</th>\n",
       "      <td>114.280010</td>\n",
       "      <td>109.464752</td>\n",
       "      <td>98.543422</td>\n",
       "      <td>83.064126</td>\n",
       "      <td>69.703056</td>\n",
       "    </tr>\n",
       "    <tr>\n",
       "      <th>8</th>\n",
       "      <td>91.069701</td>\n",
       "      <td>117.127976</td>\n",
       "      <td>104.281875</td>\n",
       "      <td>75.085224</td>\n",
       "      <td>103.463619</td>\n",
       "    </tr>\n",
       "    <tr>\n",
       "      <th>9</th>\n",
       "      <td>107.706348</td>\n",
       "      <td>82.322851</td>\n",
       "      <td>103.074502</td>\n",
       "      <td>101.164174</td>\n",
       "      <td>77.140594</td>\n",
       "    </tr>\n",
       "  </tbody>\n",
       "</table>\n",
       "</div>"
      ],
      "text/plain": [
       "            0           1           2           3           4\n",
       "1   85.712972  137.315490  109.476658   76.173930  113.131072\n",
       "2   80.506367  115.741692  123.171912   83.586354  119.267523\n",
       "3  108.255619  116.441203  137.935860   95.092238   84.925277\n",
       "4   82.209711   83.683794   98.457966  106.823039  105.533816\n",
       "5  116.543665  100.260038  129.070682   94.706863  154.403383\n",
       "6  112.513347   82.856849   78.582150  109.649448   95.530744\n",
       "7  114.280010  109.464752   98.543422   83.064126   69.703056\n",
       "8   91.069701  117.127976  104.281875   75.085224  103.463619\n",
       "9  107.706348   82.322851  103.074502  101.164174   77.140594"
      ]
     },
     "execution_count": 93,
     "metadata": {},
     "output_type": "execute_result"
    }
   ],
   "source": [
    "other_objects_matrix = data.loc[1:] # без строки nan_object\n",
    "\n",
    "other_objects_matrix"
   ]
  },
  {
   "cell_type": "markdown",
   "metadata": {},
   "source": [
    "На ней считаем средние по столбцам:"
   ]
  },
  {
   "cell_type": "code",
   "execution_count": 94,
   "metadata": {
    "ExecuteTime": {
     "end_time": "2022-05-21T17:56:48.833589Z",
     "start_time": "2022-05-21T17:56:48.818015Z"
    }
   },
   "outputs": [
    {
     "data": {
      "text/plain": [
       "1    105.023850\n",
       "2    109.177225\n",
       "3     91.705044\n",
       "4    102.566565\n",
       "dtype: float64"
      ]
     },
     "execution_count": 94,
     "metadata": {},
     "output_type": "execute_result"
    }
   ],
   "source": [
    "columns_means = other_objects_matrix.mean()[1:] # без колонки nan_column\n",
    "\n",
    "columns_means"
   ]
  },
  {
   "cell_type": "code",
   "execution_count": 96,
   "metadata": {
    "ExecuteTime": {
     "end_time": "2022-05-21T17:58:05.369088Z",
     "start_time": "2022-05-21T17:58:05.356485Z"
    }
   },
   "outputs": [
    {
     "data": {
      "text/plain": [
       "99.86641539469383"
      ]
     },
     "execution_count": 96,
     "metadata": {},
     "output_type": "execute_result"
    }
   ],
   "source": [
    "nan_column_mean = other_objects_matrix[0].mean()\n",
    "\n",
    "nan_column_mean"
   ]
  },
  {
   "cell_type": "markdown",
   "metadata": {},
   "source": [
    "И корреляцию столбца с неизвестным VS все остальные столбцы:"
   ]
  },
  {
   "cell_type": "code",
   "execution_count": 95,
   "metadata": {
    "ExecuteTime": {
     "end_time": "2022-05-21T17:56:51.896185Z",
     "start_time": "2022-05-21T17:56:51.871968Z"
    }
   },
   "outputs": [
    {
     "data": {
      "text/plain": [
       "1   -0.341277\n",
       "2   -0.026963\n",
       "3    0.337373\n",
       "4   -0.192735\n",
       "dtype: float64"
      ]
     },
     "execution_count": 95,
     "metadata": {},
     "output_type": "execute_result"
    }
   ],
   "source": [
    "nan_column_corr = other_objects_matrix.corrwith(other_objects_matrix[0])[1:] \n",
    "# без колонки nan_column (без корреляции с самой собой)\n",
    "\n",
    "nan_column_corr"
   ]
  },
  {
   "cell_type": "markdown",
   "metadata": {},
   "source": [
    "Тут мы рассматриваем отклонение значений `nan_object` от средних, и взвешиваем это дело на корреляцию (со столбцом, в котором неизвестное значение). И получившееся \"отклонение\" добавляем к среднему значению по столбцу с неизвестным:"
   ]
  },
  {
   "cell_type": "code",
   "execution_count": 98,
   "metadata": {
    "ExecuteTime": {
     "end_time": "2022-05-21T17:59:38.382566Z",
     "start_time": "2022-05-21T17:59:38.373981Z"
    }
   },
   "outputs": [
    {
     "data": {
      "text/plain": [
       "103.97903293857124"
      ]
     },
     "execution_count": 98,
     "metadata": {},
     "output_type": "execute_result"
    }
   ],
   "source": [
    "fill_value = \\\n",
    "    nan_column_mean + (\n",
    "        np.sum(nan_column_corr * (nan_object - columns_means)) / np.sum(np.abs(nan_column_corr))\n",
    "    )\n",
    "\n",
    "fill_value"
   ]
  },
  {
   "cell_type": "markdown",
   "metadata": {},
   "source": [
    "Тут опять `np.sum(np.abs(nan_column_corr))` - элемент нормализации. Можно заранее нормализовать веса:  "
   ]
  },
  {
   "cell_type": "code",
   "execution_count": 101,
   "metadata": {
    "ExecuteTime": {
     "end_time": "2022-05-21T18:09:33.352507Z",
     "start_time": "2022-05-21T18:09:33.333070Z"
    }
   },
   "outputs": [
    {
     "data": {
      "text/plain": [
       "103.97903293857124"
      ]
     },
     "execution_count": 101,
     "metadata": {},
     "output_type": "execute_result"
    }
   ],
   "source": [
    "weights = nan_column_corr / np.sum(np.abs(nan_column_corr))\n",
    "\n",
    "fill_value = nan_column_mean + np.sum(weights * (nan_object - columns_means))\n",
    "\n",
    "fill_value"
   ]
  },
  {
   "cell_type": "code",
   "execution_count": 102,
   "metadata": {
    "ExecuteTime": {
     "end_time": "2022-05-21T18:10:35.482715Z",
     "start_time": "2022-05-21T18:10:35.467975Z"
    }
   },
   "outputs": [
    {
     "data": {
      "text/plain": [
       "103.97903293857124"
      ]
     },
     "execution_count": 102,
     "metadata": {},
     "output_type": "execute_result"
    }
   ],
   "source": [
    "# или даже так:\n",
    "nan_column_mean + np.dot(weights, (nan_object - columns_means))"
   ]
  },
  {
   "cell_type": "code",
   "execution_count": null,
   "metadata": {},
   "outputs": [],
   "source": []
  },
  {
   "cell_type": "code",
   "execution_count": 109,
   "metadata": {
    "ExecuteTime": {
     "end_time": "2022-05-22T12:57:05.758199Z",
     "start_time": "2022-05-22T12:57:05.720874Z"
    }
   },
   "outputs": [
    {
     "data": {
      "text/html": [
       "<div>\n",
       "<style scoped>\n",
       "    .dataframe tbody tr th:only-of-type {\n",
       "        vertical-align: middle;\n",
       "    }\n",
       "\n",
       "    .dataframe tbody tr th {\n",
       "        vertical-align: top;\n",
       "    }\n",
       "\n",
       "    .dataframe thead th {\n",
       "        text-align: right;\n",
       "    }\n",
       "</style>\n",
       "<table border=\"1\" class=\"dataframe\">\n",
       "  <thead>\n",
       "    <tr style=\"text-align: right;\">\n",
       "      <th></th>\n",
       "      <th>a</th>\n",
       "      <th>b</th>\n",
       "    </tr>\n",
       "  </thead>\n",
       "  <tbody>\n",
       "    <tr>\n",
       "      <th>2</th>\n",
       "      <td>b</td>\n",
       "      <td>3</td>\n",
       "    </tr>\n",
       "    <tr>\n",
       "      <th>3</th>\n",
       "      <td>b</td>\n",
       "      <td>4</td>\n",
       "    </tr>\n",
       "  </tbody>\n",
       "</table>\n",
       "</div>"
      ],
      "text/plain": [
       "   a  b\n",
       "2  b  3\n",
       "3  b  4"
      ]
     },
     "execution_count": 109,
     "metadata": {},
     "output_type": "execute_result"
    }
   ],
   "source": [
    "df = pd.DataFrame({\n",
    "    'a': ['a', 'a', 'b', 'b'],\n",
    "    'b': [1,2,3,4]\n",
    "})\n",
    "\n",
    "lol = 'b'\n",
    "\n",
    "df.query('a == @lol')"
   ]
  },
  {
   "cell_type": "code",
   "execution_count": null,
   "metadata": {},
   "outputs": [],
   "source": []
  }
 ],
 "metadata": {
  "kernelspec": {
   "display_name": "Python [conda env:sandbox]",
   "language": "python",
   "name": "conda-env-sandbox-py"
  },
  "language_info": {
   "codemirror_mode": {
    "name": "ipython",
    "version": 3
   },
   "file_extension": ".py",
   "mimetype": "text/x-python",
   "name": "python",
   "nbconvert_exporter": "python",
   "pygments_lexer": "ipython3",
   "version": "3.8.13"
  },
  "toc": {
   "base_numbering": 1,
   "nav_menu": {},
   "number_sections": true,
   "sideBar": true,
   "skip_h1_title": true,
   "title_cell": "Table of Contents",
   "title_sidebar": "Contents",
   "toc_cell": false,
   "toc_position": {},
   "toc_section_display": true,
   "toc_window_display": true
  },
  "varInspector": {
   "cols": {
    "lenName": 16,
    "lenType": 16,
    "lenVar": 40
   },
   "kernels_config": {
    "python": {
     "delete_cmd_postfix": "",
     "delete_cmd_prefix": "del ",
     "library": "var_list.py",
     "varRefreshCmd": "print(var_dic_list())"
    },
    "r": {
     "delete_cmd_postfix": ") ",
     "delete_cmd_prefix": "rm(",
     "library": "var_list.r",
     "varRefreshCmd": "cat(var_dic_list()) "
    }
   },
   "types_to_exclude": [
    "module",
    "function",
    "builtin_function_or_method",
    "instance",
    "_Feature"
   ],
   "window_display": false
  }
 },
 "nbformat": 4,
 "nbformat_minor": 4
}
