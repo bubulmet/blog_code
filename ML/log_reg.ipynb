{
 "cells": [
  {
   "cell_type": "markdown",
   "metadata": {},
   "source": [
    "## init"
   ]
  },
  {
   "cell_type": "markdown",
   "metadata": {},
   "source": [
    "[Логистическая функция ошибки, Дьяконов](https://dyakonov.org/2018/03/12/%D0%BB%D0%BE%D0%B3%D0%B8%D1%81%D1%82%D0%B8%D1%87%D0%B5%D1%81%D0%BA%D0%B0%D1%8F-%D1%84%D1%83%D0%BD%D0%BA%D1%86%D0%B8%D1%8F-%D0%BE%D1%88%D0%B8%D0%B1%D0%BA%D0%B8/)"
   ]
  },
  {
   "cell_type": "markdown",
   "metadata": {},
   "source": [
    "* $L_1$-регуляризация - **Ridge**;   \n",
    "* $L_2$-регуляризация - **Lasso**;   \n",
    "* обе две - **ElasticNet**.   "
   ]
  },
  {
   "cell_type": "code",
   "execution_count": 16,
   "metadata": {
    "ExecuteTime": {
     "end_time": "2021-05-01T18:29:09.671781Z",
     "start_time": "2021-05-01T18:29:09.663325Z"
    }
   },
   "outputs": [],
   "source": [
    "import pandas as pd\n",
    "import numpy as np\n",
    "from sklearn.datasets import make_classification\n",
    "from sklearn.metrics import roc_auc_score\n",
    "from sklearn.linear_model import LogisticRegression as SklearnLogisticRegression\n",
    "\n",
    "import matplotlib.pyplot as plt\n",
    "\n",
    "%matplotlib inline"
   ]
  },
  {
   "cell_type": "code",
   "execution_count": 17,
   "metadata": {
    "ExecuteTime": {
     "end_time": "2021-05-01T18:29:10.268194Z",
     "start_time": "2021-05-01T18:29:10.259866Z"
    }
   },
   "outputs": [],
   "source": [
    "# украшаем графики\n",
    "plt.rcParams[\"figure.figsize\"] = (17,8)\n",
    "plt.style.use('ggplot')"
   ]
  },
  {
   "cell_type": "code",
   "execution_count": 19,
   "metadata": {
    "ExecuteTime": {
     "end_time": "2021-05-01T18:29:39.410951Z",
     "start_time": "2021-05-01T18:29:39.393748Z"
    }
   },
   "outputs": [],
   "source": [
    "from src import utils"
   ]
  },
  {
   "cell_type": "markdown",
   "metadata": {},
   "source": [
    "## data"
   ]
  },
  {
   "cell_type": "code",
   "execution_count": 20,
   "metadata": {
    "ExecuteTime": {
     "end_time": "2021-05-01T18:29:41.786898Z",
     "start_time": "2021-05-01T18:29:41.776367Z"
    }
   },
   "outputs": [],
   "source": [
    "X, y = make_classification(n_samples=100, n_features=2, n_informative=2, n_redundant=0, n_classes=2)"
   ]
  },
  {
   "cell_type": "code",
   "execution_count": 21,
   "metadata": {
    "ExecuteTime": {
     "end_time": "2021-05-01T18:29:42.478675Z",
     "start_time": "2021-05-01T18:29:42.466463Z"
    }
   },
   "outputs": [
    {
     "data": {
      "text/plain": [
       "array([[-1.13793624, -1.26910825],\n",
       "       [ 0.90927234,  1.65836079],\n",
       "       [ 1.22309295,  1.77986155],\n",
       "       [ 1.16381691, -1.71638139],\n",
       "       [ 0.98998619,  1.55877872]])"
      ]
     },
     "execution_count": 21,
     "metadata": {},
     "output_type": "execute_result"
    }
   ],
   "source": [
    "X[:5]"
   ]
  },
  {
   "cell_type": "code",
   "execution_count": 22,
   "metadata": {
    "ExecuteTime": {
     "end_time": "2021-05-01T18:29:43.313529Z",
     "start_time": "2021-05-01T18:29:43.296902Z"
    }
   },
   "outputs": [
    {
     "data": {
      "text/plain": [
       "array([0, 1, 1, 0, 1])"
      ]
     },
     "execution_count": 22,
     "metadata": {},
     "output_type": "execute_result"
    }
   ],
   "source": [
    "y[:5]"
   ]
  },
  {
   "cell_type": "markdown",
   "metadata": {},
   "source": [
    "## baseline"
   ]
  },
  {
   "cell_type": "code",
   "execution_count": 24,
   "metadata": {
    "ExecuteTime": {
     "end_time": "2021-05-01T18:30:04.115267Z",
     "start_time": "2021-05-01T18:30:04.084089Z"
    }
   },
   "outputs": [
    {
     "data": {
      "text/plain": [
       "0.9707883153261304"
      ]
     },
     "execution_count": 24,
     "metadata": {},
     "output_type": "execute_result"
    }
   ],
   "source": [
    "slr = SklearnLogisticRegression(fit_intercept=True)\n",
    "slr = slr.fit(X, y)\n",
    "\n",
    "y_pred = slr.predict_proba(X)[:, 1]\n",
    "\n",
    "roc_auc_score(y, y_pred)"
   ]
  },
  {
   "cell_type": "code",
   "execution_count": 29,
   "metadata": {
    "ExecuteTime": {
     "end_time": "2021-05-01T18:31:03.170125Z",
     "start_time": "2021-05-01T18:31:03.151784Z"
    }
   },
   "outputs": [
    {
     "data": {
      "text/plain": [
       "[0.2755436708034343, 0.0004099851535844097, 2.4531032869880334]"
      ]
     },
     "execution_count": 29,
     "metadata": {},
     "output_type": "execute_result"
    }
   ],
   "source": [
    "baseline_coefs = [slr.intercept_[0]] + list(slr.coef_[0])\n",
    "\n",
    "baseline_coefs"
   ]
  },
  {
   "cell_type": "markdown",
   "metadata": {},
   "source": [
    "## LogisticRegression"
   ]
  },
  {
   "cell_type": "markdown",
   "metadata": {},
   "source": [
    "Итак, у нас n фичей и m объектов (векторов $ x^{(i)} $ длины n) - матрица X. Есть вектор y длины m с целевой - по одному значению на объект $ x^{(i)} $. Функция для приближения - линейная:    \n",
    "$$ z = h_\\theta(x) :=\\sum\\limits_{j=0}^n \\theta_j x_j $$  "
   ]
  },
  {
   "cell_type": "markdown",
   "metadata": {},
   "source": [
    "На выходе (z) мы получаем некоторое значение, которое зачастую называт \"логит\". Почему? А есть такая функция, логит-функция:  \n",
    "$$logit(p) = \\log{\\frac{p}{1-p}} = \\log{p} - \\log{(1-p)}$$  \n",
    "\n",
    "Т.е. это функция от вероятности ($p$), которая переводит вероятность (значения от 0 до 1) в значения из $(-\\inf, +\\inf)$. И существует обратная ей функция, сигмоида:  \n",
    "$$ p = \\frac{1}{1 + e^{-x}} = \\frac{1}{1 + exp(-x)} $$  \n",
    "\n",
    "Она наоборот, переводит значение из $(-\\inf, +\\inf)$ в вероятность - значения от 0 до 1 (я тут специально выделяю $exp()$ как функцию, обратную $\\log{p}$, если рассматривать натуральный логарифм, конечно). И вот она-то нам и понадобится.\n",
    "\n",
    "Ещё заметим, что логит-функцию называют _логарифмом шансов_. Ибо выражение ${\\frac{p}{1-p}}$, по сути - это другое представление вероятности, в виде шансов: сказать, что шансы победить 3 к 1 - это то же самое, что сказать, что вероятность победить равна 0.75:  \n",
    "$$\\frac{p}{1-p} = \\frac{3}{1} \\implies \\frac{p}{1-p} = 3 \\implies p = 3(1-p) \\implies p = 3 - 3p \\implies p+3p = 3 \\implies 4p = 3 \\implies p = \\frac{3}{4} = 0.75 $$  \n",
    "\n",
    "На английском запись вероятности в виде шансов зовётся _odds_. Шансы принимают значения из $(0, +\\inf)$. Тоже хорошо, но не достаточно симметрично. Вероятности от 0 до 0.5 в виде шансов принимают значения от 0 до 1. А вероятности от 0.5 до 1 - от 1 до $+\\inf$. Вероятность же 0.5 - это один к одному, $\\frac{1}{1} = 1$.  \n",
    "\n",
    "А вот когда мы берем от этого логарифм, логит, получается красиво: вероятность 0.5 - в нуле, вероятности менее 0.5 - отрицательные, более 0.5 - положительные. Причем логиты от вероятностей 0.25 и 0.75, например, равноудалены от нуля (как сами вероятности равноудалены от 0.5).  "
   ]
  },
  {
   "cell_type": "markdown",
   "metadata": {},
   "source": [
    "Итак, чтобы получить из логита, нашего значения z, вероятность, применяем функцию-сигмоид:  \n",
    "$$ P(y=1) = \\frac{1}{1 + e^{-z}} $$  \n",
    "\n",
    "Получили вероятность того, что наше истинное значение y равно единице. Теперь надо сформулировать лосс, как будем считать ошибку?  \n",
    "\n",
    "А вот так:  \n",
    "$$\n",
    "\\begin{equation}\n",
    "  -\\begin{cases}\n",
    "    \\log(p), & если \\: y = 1 \\\\\n",
    "    \\log(1-p), & если \\: y = 0\n",
    "  \\end{cases}\n",
    "\\end{equation}\n",
    "$$\n",
    "\n",
    "Это, по сути, и есть _logloss_, логистическая функция ошибки. Здесь $p$ - вероятность $P(y=1)$, т.е. $(1-p)$ - это вероятность $P(y=0)$. Т.е. мы берем минус логарифм вероятности того $y$, который на самом деле есть.  \n",
    "\n",
    "Можно сказать так: назовём $P(y=0)$ буквой $q$. Тогда $ p = \\frac{1}{1 + e^{-z}}$, $ q = 1 - p $, и  \n",
    "$$\n",
    "\\begin{equation}\n",
    "  logloss = -\\begin{cases}\n",
    "    \\log(p), & если \\: y = 1 \\\\\n",
    "    \\log(q), & если \\: y = 0\n",
    "  \\end{cases}\n",
    "\\end{equation}\n",
    "$$  \n",
    "\n",
    "В одно выражение это можно собрать так:  \n",
    "$$ logloss(p, y) = -y \\cdot \\log(p) - (1-y) \\cdot \\log(1 - p) $$  \n",
    "\n",
    "Идея в том, что если $y=1$, то мы идём по первому слагаемому, а второе обращается в 0 (т.к. множитель $(1-y)$ обращается в ноль при $y=1$); если же $y=0$, то наоборот: первое слагаемое обращается в 0, и мы получаем только второе.  "
   ]
  },
  {
   "cell_type": "markdown",
   "metadata": {},
   "source": [
    "В общем, главный прикол вот в чем (пока на одном объекте):  \n",
    "$$  \n",
    "L(p, y) = -y \\cdot \\log(p) - (1-y) \\cdot \\log(1 - p) \\\\\n",
    "p = sigmoid(\\theta \\cdot x) = \\frac{1}{1+e^{\\theta \\cdot x}} \\\\\n",
    "\\frac {\\partial L}{\\partial \\theta} = (p-y)x\n",
    "$$  \n",
    "\n",
    "> надо бы это вывести"
   ]
  },
  {
   "cell_type": "code",
   "execution_count": null,
   "metadata": {},
   "outputs": [],
   "source": []
  },
  {
   "cell_type": "code",
   "execution_count": null,
   "metadata": {},
   "outputs": [],
   "source": []
  },
  {
   "cell_type": "markdown",
   "metadata": {},
   "source": [
    "****\n",
    "\n",
    "Наша задача - найти оптимальные коэффициенты (вектор $ \\theta $), которые минимизируют логистическую функцию потерь (на данном датасете X):  \n",
    "$$ L(\\theta, X, y) = \\sum\\limits_{i=1}^m \\ln(1 + e^{-y^{(i)} h_\\theta(x^{(i)})}) $$   \n",
    "\n",
    "Частная производная по i-той координате вектора $ \\theta $ на нескольких объектах (батче длины m) будет такой:  \n",
    "$$ \\frac {\\partial }{\\partial \\theta_j} \\sum\\limits_{i=1}^m \\ln(1 + e^{-y^{(i)} h_\\theta(x^{(i)})}) = \\sum\\limits_{i=1}^m \\frac {-y^{(i)} e^{-y^{(i)} h_\\theta(x^{(i)})} }{1 + e^{-y^{(i)} h_\\theta(x^{(i)})} } * x_j^{(i)} $$  \n",
    "\n",
    "> **здесь мы берем значения _y_ из {1, -1}, а не {1, 0}**\n",
    "\n",
    "****"
   ]
  },
  {
   "cell_type": "code",
   "execution_count": null,
   "metadata": {},
   "outputs": [],
   "source": []
  },
  {
   "cell_type": "code",
   "execution_count": null,
   "metadata": {},
   "outputs": [],
   "source": []
  },
  {
   "cell_type": "code",
   "execution_count": 65,
   "metadata": {
    "ExecuteTime": {
     "end_time": "2021-05-01T19:36:18.735002Z",
     "start_time": "2021-05-01T19:36:18.720923Z"
    }
   },
   "outputs": [],
   "source": [
    "class LogisticRegression(utils.LinearRegression): \n",
    "    def one_object_sigmoid(self, z: float) -> float:\n",
    "        # переводим логарифм шансов в вероятность\n",
    "        return 1 / (1 + np.e**(-z))\n",
    "    \n",
    "    def target_change(self, y: float) -> float:\n",
    "        # [1, 0] -> [1, -1]\n",
    "        if y == 0:\n",
    "            return -1\n",
    "        else:\n",
    "            return y\n",
    "    \n",
    "    def batch_target_change(self, y: np.array) -> np.array:\n",
    "        # [1, 0] -> [1, -1]\n",
    "        y_copy = y.copy()\n",
    "        y_copy[y_copy == 0] = -1\n",
    "        return y_copy\n",
    "    \n",
    "    def one_object_predict_proba(self, x: np.array, theta: np.array) -> float:\n",
    "        z = self.one_object_predict(x, theta)\n",
    "        return self.one_object_sigmoid(z)\n",
    "    \n",
    "    def batch_predict_proba(self, X: np.array, theta: np.array) -> np.array:\n",
    "        # предсказание для батча\n",
    "        # X - уже матрица, а не вектор; на выходе - вектор, а не скаляр\n",
    "        if self.fit_intercept and (len(X[0]) < len(theta)):\n",
    "            X = np.insert(X, 0, 1, axis=1) # добавляем фиктивный признак\n",
    "        y_pred = []\n",
    "        for x_i in X:\n",
    "            y_pred.append(self.one_object_predict_proba(x_i, theta))\n",
    "        return np.array(y_pred)\n",
    "    \n",
    "    def one_object_loss(self, x: np.array, theta: np.array, y: float) -> float:\n",
    "        # значение функции потерь для одного объекта\n",
    "        y_changed = self.target_change(y)\n",
    "        if self.fit_intercept and (len(x) < len(theta)):\n",
    "            x = np.insert(x, 0, 1) # добавляем фиктивный признак\n",
    "        predict = self.one_object_predict(x, theta)\n",
    "        margin = y_changed * predict\n",
    "        return np.log(1 + np.e**(-margin))\n",
    "    \n",
    "    def one_object_gradient(self, x: np.array, theta: np.array, y: float) -> np.array:\n",
    "        # считаем градиент на одном объекте (там же сумма, можно для батча просуммировать)\n",
    "        y_changed = self.target_change(y)\n",
    "        if self.fit_intercept and (len(x) < len(theta)):\n",
    "            x = np.insert(x, 0, 1) # добавляем фиктивный признак\n",
    "        predict = self.one_object_predict(x, theta) # float\n",
    "        margin = y_changed * predict\n",
    "        powered_e = np.e**(-margin)\n",
    "        \n",
    "        const = -y_changed * powered_e / (1 + powered_e) \n",
    "        \n",
    "        return x * const # array (new theta)"
   ]
  },
  {
   "cell_type": "code",
   "execution_count": 83,
   "metadata": {
    "ExecuteTime": {
     "end_time": "2021-05-01T20:08:31.188486Z",
     "start_time": "2021-05-01T20:08:29.907653Z"
    }
   },
   "outputs": [
    {
     "data": {
      "image/png": "[encoded data removed]",
      "text/plain": [
       "<Figure size 1224x576 with 1 Axes>"
      ]
     },
     "metadata": {},
     "output_type": "display_data"
    },
    {
     "data": {
      "text/plain": [
       "0.9715886354541816"
      ]
     },
     "execution_count": 83,
     "metadata": {},
     "output_type": "execute_result"
    }
   ],
   "source": [
    "lr = LogisticRegression()\n",
    "sgd = utils.ADAM(learning_rate=0.1, round_ndigits=5, max_epoch_count=100, mini_batch_size=8, random_seed=0)\n",
    "\n",
    "coefs = sgd.fit(lr, X, y)\n",
    "\n",
    "y_pred = lr.batch_predict_proba(X, coefs)\n",
    "\n",
    "roc_auc_score(y, y_pred)"
   ]
  },
  {
   "cell_type": "code",
   "execution_count": 79,
   "metadata": {
    "ExecuteTime": {
     "end_time": "2021-05-01T19:40:50.459382Z",
     "start_time": "2021-05-01T19:40:50.445656Z"
    }
   },
   "outputs": [
    {
     "data": {
      "text/plain": [
       "array([0.42633561, 0.07078903, 3.15659487])"
      ]
     },
     "execution_count": 79,
     "metadata": {},
     "output_type": "execute_result"
    }
   ],
   "source": [
    "coefs"
   ]
  },
  {
   "cell_type": "code",
   "execution_count": 80,
   "metadata": {
    "ExecuteTime": {
     "end_time": "2021-05-01T19:40:51.322629Z",
     "start_time": "2021-05-01T19:40:51.309874Z"
    }
   },
   "outputs": [
    {
     "data": {
      "text/plain": [
       "[0.2755436708034343, 0.0004099851535844097, 2.4531032869880334]"
      ]
     },
     "execution_count": 80,
     "metadata": {},
     "output_type": "execute_result"
    }
   ],
   "source": [
    "baseline_coefs"
   ]
  },
  {
   "cell_type": "markdown",
   "metadata": {},
   "source": [
    " Надо добавлять регуляризацию, похоже. И менять условие для выхода. А то не сходится нифига."
   ]
  },
  {
   "cell_type": "code",
   "execution_count": null,
   "metadata": {},
   "outputs": [],
   "source": []
  }
 ],
 "metadata": {
  "kernelspec": {
   "display_name": "algo-env",
   "language": "python",
   "name": "algo-env"
  },
  "language_info": {
   "codemirror_mode": {
    "name": "ipython",
    "version": 3
   },
   "file_extension": ".py",
   "mimetype": "text/x-python",
   "name": "python",
   "nbconvert_exporter": "python",
   "pygments_lexer": "ipython3",
   "version": "3.8.13"
  },
  "toc": {
   "base_numbering": 1,
   "nav_menu": {},
   "number_sections": true,
   "sideBar": true,
   "skip_h1_title": false,
   "title_cell": "Table of Contents",
   "title_sidebar": "Contents",
   "toc_cell": false,
   "toc_position": {},
   "toc_section_display": true,
   "toc_window_display": true
  },
  "varInspector": {
   "cols": {
    "lenName": 16,
    "lenType": 16,
    "lenVar": 40
   },
   "kernels_config": {
    "python": {
     "delete_cmd_postfix": "",
     "delete_cmd_prefix": "del ",
     "library": "var_list.py",
     "varRefreshCmd": "print(var_dic_list())"
    },
    "r": {
     "delete_cmd_postfix": ") ",
     "delete_cmd_prefix": "rm(",
     "library": "var_list.r",
     "varRefreshCmd": "cat(var_dic_list()) "
    }
   },
   "types_to_exclude": [
    "module",
    "function",
    "builtin_function_or_method",
    "instance",
    "_Feature"
   ],
   "window_display": false
  }
 },
 "nbformat": 4,
 "nbformat_minor": 4
}
