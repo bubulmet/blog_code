{
 "cells": [
  {
   "cell_type": "markdown",
   "metadata": {},
   "source": [
    "## init"
   ]
  },
  {
   "cell_type": "code",
   "execution_count": 1,
   "metadata": {
    "ExecuteTime": {
     "end_time": "2021-05-01T15:50:10.988924Z",
     "start_time": "2021-05-01T15:50:09.418279Z"
    }
   },
   "outputs": [],
   "source": [
    "import pandas as pd\n",
    "import numpy as np\n",
    "from sklearn.datasets import make_regression\n",
    "from sklearn.metrics import mean_squared_error\n",
    "from sklearn.linear_model import LinearRegression as SklearnLinearRegression\n",
    "\n",
    "import matplotlib.pyplot as plt\n",
    "\n",
    "%matplotlib inline"
   ]
  },
  {
   "cell_type": "code",
   "execution_count": 13,
   "metadata": {
    "ExecuteTime": {
     "end_time": "2021-05-01T15:51:01.273167Z",
     "start_time": "2021-05-01T15:51:01.268255Z"
    }
   },
   "outputs": [],
   "source": [
    "# украшаем графики\n",
    "plt.rcParams[\"figure.figsize\"] = (17,8)\n",
    "plt.style.use('ggplot')"
   ]
  },
  {
   "cell_type": "markdown",
   "metadata": {},
   "source": [
    "## data"
   ]
  },
  {
   "cell_type": "code",
   "execution_count": 18,
   "metadata": {
    "ExecuteTime": {
     "end_time": "2021-05-01T15:52:33.060620Z",
     "start_time": "2021-05-01T15:52:33.048255Z"
    }
   },
   "outputs": [],
   "source": [
    "X, y = make_regression(n_samples=100, n_features=2, n_informative=2)"
   ]
  },
  {
   "cell_type": "code",
   "execution_count": 19,
   "metadata": {
    "ExecuteTime": {
     "end_time": "2021-05-01T15:52:33.766346Z",
     "start_time": "2021-05-01T15:52:33.752069Z"
    }
   },
   "outputs": [
    {
     "data": {
      "text/plain": [
       "array([[ 0.81210244,  1.34570186],\n",
       "       [-0.21594788, -0.2250352 ],\n",
       "       [ 0.47795566,  0.8963987 ],\n",
       "       [-1.16793717, -1.39053198],\n",
       "       [-0.18892968, -0.29445037]])"
      ]
     },
     "execution_count": 19,
     "metadata": {},
     "output_type": "execute_result"
    }
   ],
   "source": [
    "X[:5]"
   ]
  },
  {
   "cell_type": "code",
   "execution_count": 20,
   "metadata": {
    "ExecuteTime": {
     "end_time": "2021-05-01T15:52:36.474686Z",
     "start_time": "2021-05-01T15:52:36.458551Z"
    }
   },
   "outputs": [
    {
     "data": {
      "text/plain": [
       "array([ 104.19929841,  -17.62301195,   69.25335902, -108.48391828,\n",
       "        -22.82743741])"
      ]
     },
     "execution_count": 20,
     "metadata": {},
     "output_type": "execute_result"
    }
   ],
   "source": [
    "y[:5]"
   ]
  },
  {
   "cell_type": "markdown",
   "metadata": {},
   "source": [
    "## baseline"
   ]
  },
  {
   "cell_type": "code",
   "execution_count": 23,
   "metadata": {
    "ExecuteTime": {
     "end_time": "2021-05-01T15:54:09.168452Z",
     "start_time": "2021-05-01T15:54:09.144594Z"
    }
   },
   "outputs": [
    {
     "data": {
      "text/plain": [
       "2.2501320549104414e-28"
      ]
     },
     "execution_count": 23,
     "metadata": {},
     "output_type": "execute_result"
    }
   ],
   "source": [
    "slr = SklearnLinearRegression(fit_intercept=True)\n",
    "slr = slr.fit(X, y)\n",
    "\n",
    "y_pred = slr.predict(X)\n",
    "\n",
    "mean_squared_error(y, y_pred)"
   ]
  },
  {
   "cell_type": "code",
   "execution_count": 26,
   "metadata": {
    "ExecuteTime": {
     "end_time": "2021-05-01T15:55:22.083218Z",
     "start_time": "2021-05-01T15:55:22.069663Z"
    }
   },
   "outputs": [
    {
     "data": {
      "text/plain": [
       "[-8.881784197001252e-16, 2.4738988659156895, 75.93824605373288]"
      ]
     },
     "execution_count": 26,
     "metadata": {},
     "output_type": "execute_result"
    }
   ],
   "source": [
    "baseline_coefs = [slr.intercept_] + list(slr.coef_)\n",
    "\n",
    "baseline_coefs"
   ]
  },
  {
   "cell_type": "markdown",
   "metadata": {},
   "source": [
    "## LinearRegression"
   ]
  },
  {
   "cell_type": "markdown",
   "metadata": {},
   "source": [
    "Итак, у нас n фичей и m объектов (векторов $ x^{(i)} $ длины n) - матрица X. Есть вектор y длины m с целевой - по одному значению на объект $ x^{(i)} $. Функция для приближения - линейная:    \n",
    "$$ \\hat{y} = h_\\theta(x) :=\\sum\\limits_{j=0}^n \\theta_j x_j $$  \n",
    "\n",
    "($ \\hat{y} $ - предсказанное значение; $ h_\\theta(x) $ - обозначение для нашей итоговой функции)\n",
    "\n",
    "Наша задача - найти оптимальные коэффициенты (вектор $ \\theta $), которые минимизируют квадратичную функцию потерь (на данном датасете X):  \n",
    "$$ L(\\theta, X) = \\frac{1}{2}\\sum\\limits_{i=1}^m (h_\\theta(x)^{(i)} - y^{(i)})^2 $$  \n",
    "\n",
    "> здесь мы берем $ \\frac{1}{2} $ вместо $ \\frac{1}{m} $ (что дало бы нам среднюю квадратичную ошибку) для более удобного дифференцирования. Какой бы множитель мы не добавили, минимум от этого не сместится.  \n",
    "\n",
    "Частная производная по j-той координате вектора $ \\theta $ на нескольких объектах (батче длины m) будет такой:  \n",
    "$$ \\frac {\\partial }{\\partial \\theta_j} (\\frac{1}{2}\\sum\\limits_{i=1}^m (h_\\theta(x)^{(i)} - y^{(i)})^2) = \\sum\\limits_{i=1}^m x_j^{(i)}(h_\\theta(x)^{(i)} - y^{(i)}) $$  "
   ]
  },
  {
   "cell_type": "code",
   "execution_count": 6,
   "metadata": {
    "ExecuteTime": {
     "end_time": "2021-05-01T15:50:11.045808Z",
     "start_time": "2021-05-01T15:50:11.031663Z"
    }
   },
   "outputs": [],
   "source": [
    "class LinearRegression():\n",
    "    def __init__(self, fit_intercept=True):\n",
    "        self.fit_intercept = fit_intercept # если True - добавляем фиктивный признак, у всех объектов равный 1\n",
    "        \n",
    "    def one_object_predict(self, x: np.array, theta: np.array) -> float:\n",
    "        # предсказание для одного объекта\n",
    "        if self.fit_intercept and (len(x) < len(theta)):\n",
    "            x = np.insert(x, 0, 1) # добавляем фиктивный признак\n",
    "        return np.sum(x * theta)\n",
    "    \n",
    "    def one_object_gradient(self, x: np.array, theta: np.array, y: float) -> np.array:\n",
    "        # считаем градиент на одном объекте (там же сумма, можно для батча просуммировать)\n",
    "        if self.fit_intercept and (len(x) < len(theta)):\n",
    "            x = np.insert(x, 0, 1) # добавляем фиктивный признак\n",
    "        predict = self.one_object_predict(x, theta) # float\n",
    "        diff = (predict - y) # float\n",
    "        return x * diff # array (new theta)\n",
    "    \n",
    "    def batch_gradient(self, X: np.array, theta: np.array, y: np.array) -> np.array:\n",
    "        # считаем градиент на батче\n",
    "        # X - уже матрица, а не вектор; y - вектор, а не скаляр\n",
    "        if self.fit_intercept and (len(X[0]) < len(theta)):\n",
    "            X = np.insert(X, 0, 1, axis=1) # добавляем фиктивный признак\n",
    "        gradient = np.zeros_like(theta)\n",
    "        for x_i, y_i in zip(X, y):\n",
    "            gradient = gradient + self.one_object_gradient(x_i, theta, y_i)\n",
    "        return gradient\n",
    "    \n",
    "    def batch_predict(self, X: np.array, theta: np.array) -> np.array:\n",
    "        # предсказание для батча\n",
    "        # X - уже матрица, а не вектор; на выходе - вектор, а не скаляр\n",
    "        if self.fit_intercept and (len(X[0]) < len(theta)):\n",
    "            X = np.insert(X, 0, 1, axis=1) # добавляем фиктивный признак\n",
    "        y_pred = []\n",
    "        for x_i in X:\n",
    "            y_pred.append(self.one_object_predict(x_i, theta))\n",
    "        return np.array(y_pred)\n",
    "    \n",
    "    def initial_theta(self, X: np.array, y: np.array) -> np.array:\n",
    "        # какой-то набор кэфов, с которого начнем спуск.\n",
    "        if self.fit_intercept:\n",
    "            X = np.insert(X, 0, 1, axis=1) # добавляем фиктивный признак\n",
    "        return np.ones_like(X[0]) # просто единички\n",
    "    \n",
    "    def one_object_loss(self, x: np.array, theta: np.array, y: float) -> float:\n",
    "        # значение функции потерь для одного объекта\n",
    "        if self.fit_intercept and (len(x) < len(theta)):\n",
    "            x = np.insert(x, 0, 1) # добавляем фиктивный признак\n",
    "        predict = self.one_object_predict(x, theta)\n",
    "        return 0.5 * (predict - y)**2\n",
    "    \n",
    "    def batch_loss(self, X: np.array, theta: np.array, y: np.array) -> float:\n",
    "        # значение функции потерь на батче\n",
    "        if self.fit_intercept and (len(X[0]) < len(theta)):\n",
    "            X = np.insert(X, 0, 1, axis=1) # добавляем фиктивный признак\n",
    "        loss = 0\n",
    "        for x_i, y_i in zip(X, y):\n",
    "            loss = loss + self.one_object_loss(x_i, theta, y_i)\n",
    "        return loss"
   ]
  },
  {
   "cell_type": "code",
   "execution_count": null,
   "metadata": {},
   "outputs": [],
   "source": []
  },
  {
   "cell_type": "code",
   "execution_count": null,
   "metadata": {},
   "outputs": [],
   "source": []
  },
  {
   "cell_type": "code",
   "execution_count": null,
   "metadata": {},
   "outputs": [],
   "source": []
  },
  {
   "cell_type": "code",
   "execution_count": null,
   "metadata": {},
   "outputs": [],
   "source": []
  },
  {
   "cell_type": "markdown",
   "metadata": {},
   "source": [
    "Собственно к линейной регрессии относится только это:  \n",
    "* $ h_\\theta $, функция-гипотеза, как строится предсказание;  \n",
    "* _L_, функция потерь;  \n",
    "* способ расчета градиента функции потерь.\n",
    "\n",
    "А дальше - градиентный спуск."
   ]
  },
  {
   "cell_type": "code",
   "execution_count": 7,
   "metadata": {
    "ExecuteTime": {
     "end_time": "2021-05-01T15:50:11.057991Z",
     "start_time": "2021-05-01T15:50:11.048304Z"
    }
   },
   "outputs": [
    {
     "data": {
      "text/plain": [
       "4"
      ]
     },
     "execution_count": 7,
     "metadata": {},
     "output_type": "execute_result"
    }
   ],
   "source": [
    "lr = LinearRegression()\n",
    "\n",
    "lr.one_object_predict(\n",
    "    np.array([1,2]),\n",
    "    np.array([1, 1, 1])\n",
    ")"
   ]
  },
  {
   "cell_type": "code",
   "execution_count": 8,
   "metadata": {
    "ExecuteTime": {
     "end_time": "2021-05-01T15:50:11.065145Z",
     "start_time": "2021-05-01T15:50:11.060617Z"
    }
   },
   "outputs": [
    {
     "data": {
      "text/plain": [
       "array([0, 0, 0])"
      ]
     },
     "execution_count": 8,
     "metadata": {},
     "output_type": "execute_result"
    }
   ],
   "source": [
    "lr.one_object_gradient(\n",
    "    np.array([1,2]),\n",
    "    np.array([1, 1, 1]),\n",
    "    4\n",
    ")"
   ]
  },
  {
   "cell_type": "markdown",
   "metadata": {
    "ExecuteTime": {
     "end_time": "2021-04-25T21:11:09.314723Z",
     "start_time": "2021-04-25T21:11:09.312179Z"
    }
   },
   "source": [
    "## SGD"
   ]
  },
  {
   "cell_type": "markdown",
   "metadata": {},
   "source": [
    "Добавляем случайности: не на всем считаем градиент на каждом шагу, а по одной записи. И сразу добавим минибатч: не по одной записи, а по небольшому кусочку. Если размер батча поставить в 1 - будет чистый SGD. А если в кол-во записей - будет просто GD, без S."
   ]
  },
  {
   "cell_type": "code",
   "execution_count": 28,
   "metadata": {
    "ExecuteTime": {
     "end_time": "2021-05-01T15:57:09.436697Z",
     "start_time": "2021-05-01T15:57:09.411863Z"
    }
   },
   "outputs": [],
   "source": [
    "class SGD():\n",
    "    def __init__(\n",
    "        self, \n",
    "        learning_rate=0.1, \n",
    "        mini_batch_size=16, \n",
    "        max_epoch_count=100, \n",
    "        round_ndigits=10, \n",
    "        random_seed=0\n",
    "    ):\n",
    "        self.learning_rate = learning_rate\n",
    "        self.mini_batch_size = mini_batch_size\n",
    "        self.max_epoch_count = max_epoch_count\n",
    "        self.round_ndigits = round_ndigits\n",
    "        self.random_seed = random_seed\n",
    "    \n",
    "    \n",
    "    def batch_generator(self, X: np.array, y: np.array):\n",
    "        assert len(X) == len(y)\n",
    "        \n",
    "        np.random.seed(seed=self.random_seed) # инициализируем генератор (псевдо)случайных чисел\n",
    "        \n",
    "        indices = np.arange(len(X)) \n",
    "        self.epoch_count = 0\n",
    "        while self.epoch_count < self.max_epoch_count:\n",
    "            np.random.shuffle(indices) # shuffle data before each epoch\n",
    "            batch = []\n",
    "            for i in indices:\n",
    "                batch.append(i)\n",
    "                if len(batch) == self.mini_batch_size:\n",
    "                    yield X[batch], y[batch]\n",
    "                    batch=[]\n",
    "            self.epoch_count += 1\n",
    "            \n",
    "            \n",
    "    def check_converge(self, gradient: np.array) -> bool:\n",
    "        # проверяем, не достаточно ли мы близки к нулю (с точностью до self.round_ndigits знака)\n",
    "        return np.all(np.abs(gradient.round(self.round_ndigits)) == 0)\n",
    "    \n",
    "    \n",
    "    def get_step(self, gradient: np.array) -> np.array:\n",
    "        # вектор смещения, который прибавляем к текущей точке\n",
    "        # пока всё просто, но потом именно здесь будут усложнения\n",
    "        return -1 * self.learning_rate * gradient\n",
    "    \n",
    "    \n",
    "    def fit(self, model, X: np.array, y: np.array) -> np.array:\n",
    "        np.random.seed(seed=self.random_seed) # инициализируем генератор (псевдо)случайных чисел\n",
    "        \n",
    "        loss_history = []\n",
    "        \n",
    "        theta = model.initial_theta(X, y)\n",
    "        for x_i, y_i in self.batch_generator(X, y):\n",
    "            \n",
    "            loss_history.append(model.batch_loss(X, theta, y))\n",
    "            \n",
    "            gradient = model.batch_gradient(x_i, theta, y_i)\n",
    "            if self.check_converge(gradient):\n",
    "                print('exit because converge')\n",
    "                break\n",
    "            theta = theta + self.get_step(gradient)\n",
    "        \n",
    "        # plot loss\n",
    "        ax = plt.axes()\n",
    "        ax.plot(loss_history)\n",
    "        plt.show();\n",
    "            \n",
    "        return theta"
   ]
  },
  {
   "cell_type": "code",
   "execution_count": 29,
   "metadata": {
    "ExecuteTime": {
     "end_time": "2021-05-01T15:57:15.059430Z",
     "start_time": "2021-05-01T15:57:15.026519Z"
    }
   },
   "outputs": [
    {
     "name": "stdout",
     "output_type": "stream",
     "text": [
      "   0  1  2  0\n",
      "0  3  3  3  3\n",
      "1  2  2  2  2\n",
      "   0  1  2  0\n",
      "0  1  1  1  1\n",
      "1  3  3  3  3\n",
      "   0  1  2  0\n",
      "0  1  1  1  1\n",
      "1  2  2  2  2\n"
     ]
    }
   ],
   "source": [
    "sgd = SGD(mini_batch_size=2, max_epoch_count=3)\n",
    "\n",
    "for x_i, y_i in sgd.batch_generator(\n",
    "    pd.DataFrame({1:[1,2,3], 2:[1,2,3], 3:[1,2,3]}).values, \n",
    "    np.array([1,2,3])\n",
    "):\n",
    "    print(pd.concat([pd.DataFrame(x_i), pd.Series(y_i).to_frame()], axis=1))"
   ]
  },
  {
   "cell_type": "code",
   "execution_count": 30,
   "metadata": {
    "ExecuteTime": {
     "end_time": "2021-05-01T15:57:18.053713Z",
     "start_time": "2021-05-01T15:57:18.035341Z"
    }
   },
   "outputs": [
    {
     "data": {
      "text/plain": [
       "False"
      ]
     },
     "execution_count": 30,
     "metadata": {},
     "output_type": "execute_result"
    }
   ],
   "source": [
    "sgd.check_converge(np.array([0.00000001, -0.0000000002]))"
   ]
  },
  {
   "cell_type": "code",
   "execution_count": 31,
   "metadata": {
    "ExecuteTime": {
     "end_time": "2021-05-01T15:57:20.937854Z",
     "start_time": "2021-05-01T15:57:20.766164Z"
    }
   },
   "outputs": [
    {
     "name": "stdout",
     "output_type": "stream",
     "text": [
      "exit because converge\n"
     ]
    },
    {
     "data": {
      "image/png": "[encoded data removed]",
      "text/plain": [
       "<Figure size 1224x576 with 1 Axes>"
      ]
     },
     "metadata": {},
     "output_type": "display_data"
    },
    {
     "data": {
      "text/plain": [
       "5.846663330803156e-24"
      ]
     },
     "execution_count": 31,
     "metadata": {},
     "output_type": "execute_result"
    }
   ],
   "source": [
    "lr = LinearRegression()\n",
    "sgd = SGD(learning_rate=0.5, round_ndigits=10, max_epoch_count=200, mini_batch_size=8, random_seed=0)\n",
    "\n",
    "coefs = sgd.fit(lr, X, y)\n",
    "\n",
    "y_pred = lr.batch_predict(X, coefs)\n",
    "\n",
    "mean_squared_error(y, y_pred)"
   ]
  },
  {
   "cell_type": "code",
   "execution_count": 32,
   "metadata": {
    "ExecuteTime": {
     "end_time": "2021-05-01T15:58:07.008771Z",
     "start_time": "2021-05-01T15:58:07.004697Z"
    }
   },
   "outputs": [
    {
     "data": {
      "text/plain": [
       "array([1.90728243e-12, 2.47389887e+00, 7.59382461e+01])"
      ]
     },
     "execution_count": 32,
     "metadata": {},
     "output_type": "execute_result"
    }
   ],
   "source": [
    "coefs"
   ]
  },
  {
   "cell_type": "markdown",
   "metadata": {},
   "source": [
    "## Adam"
   ]
  },
  {
   "cell_type": "markdown",
   "metadata": {},
   "source": [
    "Добавим пару моментов (в прямом смысле: момент 1 и момент 2)"
   ]
  },
  {
   "cell_type": "code",
   "execution_count": 43,
   "metadata": {
    "ExecuteTime": {
     "end_time": "2021-05-01T16:42:37.474419Z",
     "start_time": "2021-05-01T16:42:37.463004Z"
    }
   },
   "outputs": [],
   "source": [
    "class ADAM(SGD):\n",
    "    def __init__(\n",
    "        self, \n",
    "        learning_rate=0.1, \n",
    "        mini_batch_size=16, \n",
    "        max_epoch_count=100, \n",
    "        round_ndigits=10, \n",
    "        random_seed=0,\n",
    "        b_1 = 0.9,\n",
    "        b_2 = 0.999,\n",
    "        e=10**(-8)\n",
    "    ):\n",
    "        self.learning_rate = learning_rate\n",
    "        self.mini_batch_size = mini_batch_size\n",
    "        self.max_epoch_count = max_epoch_count\n",
    "        self.round_ndigits = round_ndigits\n",
    "        self.random_seed = random_seed\n",
    "        self.b_1 = b_1\n",
    "        self.b_2 = b_2\n",
    "        self.e = e\n",
    "    \n",
    "            \n",
    "    def get_step(\n",
    "        self, gradient: np.array, moment_1: np.array, moment_2: np.array, steps_counter: int\n",
    "    ) -> np.array:\n",
    "        # вектор смещения, который прибавляем к текущей точке\n",
    "        m_1 = self.b_1 * moment_1 + (1 - self.b_1) * gradient\n",
    "        m_1_corr = m_1 / (1 - self.b_1**steps_counter)\n",
    "        \n",
    "        m_2 = self.b_2 * moment_2 + (1 - self.b_2) * gradient * gradient\n",
    "        m_2_corr = m_2 / (1 - self.b_2**steps_counter)\n",
    "        \n",
    "        step = -1 * self.learning_rate * m_1_corr / (np.sqrt(m_2_corr) + self.e)\n",
    "        \n",
    "        return step, m_1, m_2\n",
    "    \n",
    "    \n",
    "    def fit(self, model, X: np.array, y: np.array) -> np.array:\n",
    "        np.random.seed(seed=self.random_seed) # инициализируем генератор (псевдо)случайных чисел\n",
    "        \n",
    "        loss_history = []\n",
    "        \n",
    "        theta = model.initial_theta(X, y)\n",
    "        \n",
    "        steps_counter = 0\n",
    "        moment_1 = np.zeros_like(theta)\n",
    "        moment_2 = np.zeros_like(theta)\n",
    "        \n",
    "        for x_i, y_i in self.batch_generator(X, y):\n",
    "            loss_history.append(model.batch_loss(X, theta, y))\n",
    "            \n",
    "            gradient = model.batch_gradient(x_i, theta, y_i)\n",
    "            steps_counter += 1\n",
    "            if self.check_converge(gradient):\n",
    "                print(f'exit because converge on step {steps_counter}')\n",
    "                break\n",
    "            step, moment_1, moment_2 = self.get_step(gradient, moment_1, moment_2, steps_counter)\n",
    "            theta = theta + step\n",
    "            \n",
    "        \n",
    "        # plot loss\n",
    "        ax = plt.axes()\n",
    "        ax.plot(loss_history)\n",
    "        plt.show();\n",
    "            \n",
    "        return theta"
   ]
  },
  {
   "cell_type": "code",
   "execution_count": 53,
   "metadata": {
    "ExecuteTime": {
     "end_time": "2021-05-01T16:46:01.855778Z",
     "start_time": "2021-05-01T16:46:01.072741Z"
    }
   },
   "outputs": [
    {
     "name": "stdout",
     "output_type": "stream",
     "text": [
      "exit because converge on step 1057\n"
     ]
    },
    {
     "data": {
      "image/png": "[encoded data removed]",
      "text/plain": [
       "<Figure size 1224x576 with 1 Axes>"
      ]
     },
     "metadata": {},
     "output_type": "display_data"
    },
    {
     "data": {
      "text/plain": [
       "4.83630084137239e-22"
      ]
     },
     "execution_count": 53,
     "metadata": {},
     "output_type": "execute_result"
    }
   ],
   "source": [
    "lr = LinearRegression()\n",
    "sgd = ADAM(learning_rate=0.5, round_ndigits=10, max_epoch_count=200, mini_batch_size=8, random_seed=0)\n",
    "\n",
    "coefs = sgd.fit(lr, X, y)\n",
    "\n",
    "y_pred = lr.batch_predict(X, coefs)\n",
    "\n",
    "mean_squared_error(y, y_pred)"
   ]
  },
  {
   "cell_type": "code",
   "execution_count": 54,
   "metadata": {
    "ExecuteTime": {
     "end_time": "2021-05-01T16:46:06.323268Z",
     "start_time": "2021-05-01T16:46:06.316492Z"
    }
   },
   "outputs": [
    {
     "data": {
      "text/plain": [
       "array([6.59015539e-12, 2.47389887e+00, 7.59382461e+01])"
      ]
     },
     "execution_count": 54,
     "metadata": {},
     "output_type": "execute_result"
    }
   ],
   "source": [
    "coefs"
   ]
  },
  {
   "cell_type": "markdown",
   "metadata": {},
   "source": [
    "Кривая потерь убывает стабильнее )"
   ]
  },
  {
   "cell_type": "code",
   "execution_count": null,
   "metadata": {},
   "outputs": [],
   "source": []
  }
 ],
 "metadata": {
  "kernelspec": {
   "display_name": "algo-env",
   "language": "python",
   "name": "algo-env"
  },
  "language_info": {
   "codemirror_mode": {
    "name": "ipython",
    "version": 3
   },
   "file_extension": ".py",
   "mimetype": "text/x-python",
   "name": "python",
   "nbconvert_exporter": "python",
   "pygments_lexer": "ipython3",
   "version": "3.8.8"
  },
  "toc": {
   "base_numbering": 1,
   "nav_menu": {},
   "number_sections": true,
   "sideBar": true,
   "skip_h1_title": false,
   "title_cell": "Table of Contents",
   "title_sidebar": "Contents",
   "toc_cell": false,
   "toc_position": {
    "height": "calc(100% - 180px)",
    "left": "10px",
    "top": "150px",
    "width": "372.797px"
   },
   "toc_section_display": true,
   "toc_window_display": true
  },
  "varInspector": {
   "cols": {
    "lenName": 16,
    "lenType": 16,
    "lenVar": 40
   },
   "kernels_config": {
    "python": {
     "delete_cmd_postfix": "",
     "delete_cmd_prefix": "del ",
     "library": "var_list.py",
     "varRefreshCmd": "print(var_dic_list())"
    },
    "r": {
     "delete_cmd_postfix": ") ",
     "delete_cmd_prefix": "rm(",
     "library": "var_list.r",
     "varRefreshCmd": "cat(var_dic_list()) "
    }
   },
   "types_to_exclude": [
    "module",
    "function",
    "builtin_function_or_method",
    "instance",
    "_Feature"
   ],
   "window_display": false
  }
 },
 "nbformat": 4,
 "nbformat_minor": 4
}
