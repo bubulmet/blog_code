{
 "cells": [
  {
   "cell_type": "markdown",
   "metadata": {},
   "source": [
    "# Пробежимся по метрикам"
   ]
  },
  {
   "cell_type": "markdown",
   "metadata": {},
   "source": [
    "https://scikit-learn.org/stable/modules/classes.html#module-sklearn.metrics"
   ]
  },
  {
   "cell_type": "markdown",
   "metadata": {},
   "source": [
    "## init"
   ]
  },
  {
   "cell_type": "code",
   "execution_count": 1,
   "metadata": {
    "ExecuteTime": {
     "end_time": "2022-05-31T09:35:08.763262Z",
     "start_time": "2022-05-31T09:35:08.755445Z"
    }
   },
   "outputs": [],
   "source": [
    "import warnings\n",
    "warnings.filterwarnings('ignore')"
   ]
  },
  {
   "cell_type": "code",
   "execution_count": 2,
   "metadata": {
    "ExecuteTime": {
     "end_time": "2022-05-31T09:35:11.019461Z",
     "start_time": "2022-05-31T09:35:09.227108Z"
    }
   },
   "outputs": [],
   "source": [
    "import numpy as np\n",
    "import pandas as pd\n",
    "from matplotlib import pyplot as plt\n",
    "\n",
    "from sklearn.datasets import make_classification, make_friedman1, make_blobs\n",
    "from sklearn.model_selection import train_test_split\n",
    "from sklearn import ensemble\n",
    "from sklearn import metrics\n",
    "\n",
    "\n",
    "%matplotlib inline"
   ]
  },
  {
   "cell_type": "code",
   "execution_count": 3,
   "metadata": {
    "ExecuteTime": {
     "end_time": "2022-05-31T09:35:11.043694Z",
     "start_time": "2022-05-31T09:35:11.037579Z"
    }
   },
   "outputs": [],
   "source": [
    "plt.rcParams[\"figure.figsize\"] = (17,8)\n",
    "plt.style.use('ggplot')\n",
    "\n",
    "np.random.seed(42)"
   ]
  },
  {
   "cell_type": "markdown",
   "metadata": {},
   "source": [
    "## Бинарная классификация"
   ]
  },
  {
   "cell_type": "code",
   "execution_count": 58,
   "metadata": {
    "ExecuteTime": {
     "end_time": "2022-05-25T18:03:00.205328Z",
     "start_time": "2022-05-25T18:03:00.193904Z"
    }
   },
   "outputs": [],
   "source": [
    "X, y = make_classification(n_classes=2, random_state=42)\n",
    "\n",
    "X_train, X_test, y_train, y_true = train_test_split(X, y, test_size=0.5, random_state=42)"
   ]
  },
  {
   "cell_type": "code",
   "execution_count": 19,
   "metadata": {
    "ExecuteTime": {
     "end_time": "2022-05-25T16:57:50.732812Z",
     "start_time": "2022-05-25T16:57:50.547389Z"
    }
   },
   "outputs": [],
   "source": [
    "model = ensemble.RandomForestClassifier()\n",
    "\n",
    "model = model.fit(X_train, y_train)"
   ]
  },
  {
   "cell_type": "markdown",
   "metadata": {},
   "source": [
    "### predict labels"
   ]
  },
  {
   "cell_type": "code",
   "execution_count": 20,
   "metadata": {
    "ExecuteTime": {
     "end_time": "2022-05-25T16:57:55.126831Z",
     "start_time": "2022-05-25T16:57:55.094489Z"
    }
   },
   "outputs": [],
   "source": [
    "y_pred = model.predict(X_test)"
   ]
  },
  {
   "cell_type": "code",
   "execution_count": 21,
   "metadata": {
    "ExecuteTime": {
     "end_time": "2022-05-25T16:57:56.907793Z",
     "start_time": "2022-05-25T16:57:56.884656Z"
    }
   },
   "outputs": [
    {
     "data": {
      "text/plain": [
       "(0.94, 0.94)"
      ]
     },
     "execution_count": 21,
     "metadata": {},
     "output_type": "execute_result"
    }
   ],
   "source": [
    "# accuracy\n",
    "check = metrics.accuracy_score(y_true, y_pred)\n",
    "\n",
    "test = (y_pred == y_true).sum() / y_true.shape[0]\n",
    "\n",
    "test, check"
   ]
  },
  {
   "cell_type": "markdown",
   "metadata": {},
   "source": [
    "Плохо работает при сильном дисбалансе: если у нас 99% нулей, то предсказав 100% нулей мы получим accuracy = 0.99"
   ]
  },
  {
   "cell_type": "code",
   "execution_count": 22,
   "metadata": {
    "ExecuteTime": {
     "end_time": "2022-05-25T17:02:36.080551Z",
     "start_time": "2022-05-25T17:02:36.069763Z"
    }
   },
   "outputs": [
    {
     "data": {
      "text/plain": [
       "(0.9259259259259259, 0.9259259259259259)"
      ]
     },
     "execution_count": 22,
     "metadata": {},
     "output_type": "execute_result"
    }
   ],
   "source": [
    "# precision\n",
    "check = metrics.precision_score(y_true, y_pred)\n",
    "\n",
    "test = ((y_pred + y_true) == 2).sum() / y_pred.sum()\n",
    "\n",
    "test, check"
   ]
  },
  {
   "cell_type": "markdown",
   "metadata": {},
   "source": [
    "TP/(TP+FP), правильные единички ко всем _предсказанным_ единичкам"
   ]
  },
  {
   "cell_type": "code",
   "execution_count": 23,
   "metadata": {
    "ExecuteTime": {
     "end_time": "2022-05-25T17:02:57.569823Z",
     "start_time": "2022-05-25T17:02:57.545875Z"
    }
   },
   "outputs": [
    {
     "data": {
      "text/plain": [
       "(0.9615384615384616, 0.9615384615384616)"
      ]
     },
     "execution_count": 23,
     "metadata": {},
     "output_type": "execute_result"
    }
   ],
   "source": [
    "# recall\n",
    "check = metrics.recall_score(y_true, y_pred)\n",
    "\n",
    "test = ((y_pred + y_true) == 2).sum() / y_true.sum()\n",
    "\n",
    "test, check"
   ]
  },
  {
   "cell_type": "markdown",
   "metadata": {},
   "source": [
    "TP/(TP+FN), правильные единички ко всем _истинным_ единичкам"
   ]
  },
  {
   "cell_type": "code",
   "execution_count": 26,
   "metadata": {
    "ExecuteTime": {
     "end_time": "2022-05-25T17:15:24.518233Z",
     "start_time": "2022-05-25T17:15:24.495082Z"
    }
   },
   "outputs": [
    {
     "data": {
      "text/plain": [
       "(0.9502923976608186, 0.9502923976608186)"
      ]
     },
     "execution_count": 26,
     "metadata": {},
     "output_type": "execute_result"
    }
   ],
   "source": [
    "# F-beta\n",
    "beta = 1.5\n",
    "\n",
    "check = metrics.fbeta_score(y_true, y_pred, beta=beta)\n",
    "\n",
    "precision = metrics.precision_score(y_true, y_pred)\n",
    "recall = metrics.recall_score(y_true, y_pred)\n",
    "\n",
    "test = (1 + beta**2) * (precision * recall) / ((beta**2 * precision) + recall)\n",
    "\n",
    "test, check"
   ]
  },
  {
   "cell_type": "markdown",
   "metadata": {},
   "source": [
    "Параметр `beta` $\\in (0, +\\inf)$ - определяет вес _recall_'а:  \n",
    "* `beta < 1` - _precision_ тяжелее _recall_;  \n",
    "* `beta > 1` - _recall_ тяжелее _precision_;    \n",
    "* `beta = 1` - _precision_ и _recall_ весят поровну, это $F_1$-скор;    "
   ]
  },
  {
   "cell_type": "code",
   "execution_count": 28,
   "metadata": {
    "ExecuteTime": {
     "end_time": "2022-05-25T17:16:44.509184Z",
     "start_time": "2022-05-25T17:16:44.489534Z"
    }
   },
   "outputs": [
    {
     "data": {
      "text/plain": [
       "(0.9433962264150944, 0.9433962264150944)"
      ]
     },
     "execution_count": 28,
     "metadata": {},
     "output_type": "execute_result"
    }
   ],
   "source": [
    "# F1\n",
    "check = metrics.f1_score(y_true, y_pred)\n",
    "\n",
    "test = 2 * (precision * recall) / (precision + recall)\n",
    "\n",
    "test, check"
   ]
  },
  {
   "cell_type": "markdown",
   "metadata": {},
   "source": [
    "Это зовётся _средним гармоническим_ (_precision_ и _recall_)"
   ]
  },
  {
   "cell_type": "markdown",
   "metadata": {
    "ExecuteTime": {
     "end_time": "2022-05-25T17:04:54.493426Z",
     "start_time": "2022-05-25T17:04:54.486906Z"
    }
   },
   "source": [
    "### predict proba"
   ]
  },
  {
   "cell_type": "code",
   "execution_count": 60,
   "metadata": {
    "ExecuteTime": {
     "end_time": "2022-05-25T18:03:20.135858Z",
     "start_time": "2022-05-25T18:03:20.109604Z"
    }
   },
   "outputs": [],
   "source": [
    "y_pred = model.predict_proba(X_test)[:, 1] # вероятность 1"
   ]
  },
  {
   "cell_type": "code",
   "execution_count": 35,
   "metadata": {
    "ExecuteTime": {
     "end_time": "2022-05-25T17:33:09.833859Z",
     "start_time": "2022-05-25T17:33:09.820869Z"
    }
   },
   "outputs": [
    {
     "data": {
      "text/plain": [
       "(0.3090690352663913, 0.3090690352663913)"
      ]
     },
     "execution_count": 35,
     "metadata": {},
     "output_type": "execute_result"
    }
   ],
   "source": [
    "# log_loss\n",
    "check = metrics.log_loss(y_true, y_pred)\n",
    "\n",
    "test = np.sum(\n",
    "    -1 * (y_true*np.log(y_pred) + (1 - y_true)*np.log(1 - y_pred))\n",
    ") / y_true.shape[0]\n",
    "\n",
    "test, check"
   ]
  },
  {
   "cell_type": "markdown",
   "metadata": {},
   "source": [
    "Не метрика, а лосс. Но важно знать и понимать!"
   ]
  },
  {
   "cell_type": "code",
   "execution_count": 69,
   "metadata": {
    "ExecuteTime": {
     "end_time": "2022-05-25T18:08:54.324031Z",
     "start_time": "2022-05-25T18:08:54.295316Z"
    }
   },
   "outputs": [
    {
     "data": {
      "text/plain": [
       "(0.9815705128205128, 0.9815705128205129)"
      ]
     },
     "execution_count": 69,
     "metadata": {},
     "output_type": "execute_result"
    }
   ],
   "source": [
    "# ROC AUC\n",
    "check = metrics.roc_auc_score(y_true, y_pred)\n",
    "\n",
    "thresholds = np.sort(y_pred)[::-1] # нам нужна сортировка по убыванию\n",
    "\n",
    "fpr = []\n",
    "tpr = []\n",
    "for v in thresholds:\n",
    "    label_predict = y_pred >= v # предсказываем единички всем, у кого вероятность больше v\n",
    "    \n",
    "    fpr.append(np.sum(\n",
    "        label_predict > y_true # FP's (т.е. нолики, ошибочно названные единичками)\n",
    "    ) / (y_true == 0).sum()) # to all real negatives (ко всем [истинным] ноликам)\n",
    "    \n",
    "    tpr.append(np.sum(\n",
    "        (label_predict + y_true) == 2 # TP's (т.е. единички, правильно названные единичками)\n",
    "    ) / y_true.sum()) # to all real positives (ко всем [истинным] единичкам)\n",
    "\n",
    "test = metrics.auc( # лень считать площадь\n",
    "    x=fpr, # FPR по оси X\n",
    "    y=tpr  # TPR по оси Y\n",
    ")\n",
    "\n",
    "test, check"
   ]
  },
  {
   "cell_type": "markdown",
   "metadata": {},
   "source": [
    "Непросто, конечно. Но мы понимаем что? Что чем более выпукла кривая, чем больше ROC AUC, тем лучше \"разделяющая способность\", т.е. тем лучше наша модель отделяет нолики от единиц: единицы получают большую вероятность, а нолики - маленькую.  \n",
    "\n",
    "Вот как это выглядит:"
   ]
  },
  {
   "cell_type": "code",
   "execution_count": 62,
   "metadata": {
    "ExecuteTime": {
     "end_time": "2022-05-25T18:03:27.700496Z",
     "start_time": "2022-05-25T18:03:27.564213Z"
    }
   },
   "outputs": [
    {
     "data": {
      "image/png": "[encoded data removed]",
      "text/plain": [
       "<Figure size 1224x576 with 1 Axes>"
      ]
     },
     "metadata": {},
     "output_type": "display_data"
    }
   ],
   "source": [
    "ax = plt.axes()\n",
    "\n",
    "ax.plot([0]+fpr, [0]+tpr)\n",
    "ax.plot([0, 1], [0,1], linestyle='--')\n",
    "plt.show();"
   ]
  },
  {
   "cell_type": "markdown",
   "metadata": {},
   "source": [
    "## Регрессия"
   ]
  },
  {
   "cell_type": "code",
   "execution_count": 6,
   "metadata": {
    "ExecuteTime": {
     "end_time": "2022-05-31T09:36:21.744282Z",
     "start_time": "2022-05-31T09:36:21.737855Z"
    }
   },
   "outputs": [],
   "source": [
    "X, y = make_friedman1(random_state=42)\n",
    "\n",
    "X_train, X_test, y_train, y_true = train_test_split(X, y, test_size=0.5, random_state=42)"
   ]
  },
  {
   "cell_type": "code",
   "execution_count": 7,
   "metadata": {
    "ExecuteTime": {
     "end_time": "2022-05-31T09:36:22.428329Z",
     "start_time": "2022-05-31T09:36:22.273105Z"
    }
   },
   "outputs": [],
   "source": [
    "model = ensemble.RandomForestRegressor()\n",
    "\n",
    "model = model.fit(X_train, y_train)"
   ]
  },
  {
   "cell_type": "code",
   "execution_count": 8,
   "metadata": {
    "ExecuteTime": {
     "end_time": "2022-05-31T09:39:12.984285Z",
     "start_time": "2022-05-31T09:39:12.945201Z"
    }
   },
   "outputs": [],
   "source": [
    "y_pred = model.predict(X_test)"
   ]
  },
  {
   "cell_type": "code",
   "execution_count": 19,
   "metadata": {
    "ExecuteTime": {
     "end_time": "2022-05-31T09:43:27.542428Z",
     "start_time": "2022-05-31T09:43:27.533264Z"
    }
   },
   "outputs": [
    {
     "data": {
      "text/plain": [
       "(0.6902447944453722, 0.6902447944453722)"
      ]
     },
     "execution_count": 19,
     "metadata": {},
     "output_type": "execute_result"
    }
   ],
   "source": [
    "# R2, коэффициент детерминации\n",
    "check = metrics.r2_score(y_true, y_pred)\n",
    "\n",
    "test1 = 1 - (\n",
    "    ((y_true - y_pred)**2).sum() / ((y_true - y_true.mean())**2).sum()\n",
    ")\n",
    "\n",
    "test, check"
   ]
  },
  {
   "cell_type": "code",
   "execution_count": null,
   "metadata": {},
   "outputs": [],
   "source": []
  }
 ],
 "metadata": {
  "kernelspec": {
   "display_name": "Python [conda env:sandbox]",
   "language": "python",
   "name": "conda-env-sandbox-py"
  },
  "language_info": {
   "codemirror_mode": {
    "name": "ipython",
    "version": 3
   },
   "file_extension": ".py",
   "mimetype": "text/x-python",
   "name": "python",
   "nbconvert_exporter": "python",
   "pygments_lexer": "ipython3",
   "version": "3.8.13"
  },
  "toc": {
   "base_numbering": 1,
   "nav_menu": {},
   "number_sections": true,
   "sideBar": true,
   "skip_h1_title": true,
   "title_cell": "Table of Contents",
   "title_sidebar": "Contents",
   "toc_cell": false,
   "toc_position": {
    "height": "calc(100% - 180px)",
    "left": "10px",
    "top": "150px",
    "width": "372.797px"
   },
   "toc_section_display": true,
   "toc_window_display": true
  },
  "varInspector": {
   "cols": {
    "lenName": 16,
    "lenType": 16,
    "lenVar": 40
   },
   "kernels_config": {
    "python": {
     "delete_cmd_postfix": "",
     "delete_cmd_prefix": "del ",
     "library": "var_list.py",
     "varRefreshCmd": "print(var_dic_list())"
    },
    "r": {
     "delete_cmd_postfix": ") ",
     "delete_cmd_prefix": "rm(",
     "library": "var_list.r",
     "varRefreshCmd": "cat(var_dic_list()) "
    }
   },
   "types_to_exclude": [
    "module",
    "function",
    "builtin_function_or_method",
    "instance",
    "_Feature"
   ],
   "window_display": false
  }
 },
 "nbformat": 4,
 "nbformat_minor": 4
}
