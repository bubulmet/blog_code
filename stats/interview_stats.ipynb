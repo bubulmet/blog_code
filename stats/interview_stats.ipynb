{
 "cells": [
  {
   "cell_type": "markdown",
   "metadata": {},
   "source": [
    "# Всякие статистические штуки"
   ]
  },
  {
   "cell_type": "markdown",
   "metadata": {},
   "source": [
    "https://proglib.io/p/40-voprosov-po-statistike-s-sobesedovaniya-na-dolzhnost-data-scientist-2020-09-24\n",
    "\n",
    "https://www.tutorialspoint.com/online_latex_editor.php"
   ]
  },
  {
   "cell_type": "markdown",
   "metadata": {},
   "source": [
    "## init"
   ]
  },
  {
   "cell_type": "code",
   "execution_count": 1,
   "metadata": {
    "ExecuteTime": {
     "end_time": "2021-09-27T16:56:19.488814Z",
     "start_time": "2021-09-27T16:56:18.963854Z"
    }
   },
   "outputs": [],
   "source": [
    "import pandas as pd\n",
    "import numpy as np\n",
    "\n",
    "from scipy import stats\n",
    "\n",
    "from ipywidgets import interact, interactive, fixed, interact_manual\n",
    "import ipywidgets as widgets\n",
    "\n",
    "from matplotlib import pyplot as plt\n",
    "\n",
    "\n",
    "%matplotlib inline"
   ]
  },
  {
   "cell_type": "code",
   "execution_count": 2,
   "metadata": {
    "ExecuteTime": {
     "end_time": "2021-09-27T16:56:21.050376Z",
     "start_time": "2021-09-27T16:56:21.044275Z"
    }
   },
   "outputs": [],
   "source": [
    "# украшаем графики\n",
    "plt.rcParams[\"figure.figsize\"] = (17,8) # размер\n",
    "plt.style.use('ggplot')                 # модный стиль"
   ]
  },
  {
   "cell_type": "markdown",
   "metadata": {},
   "source": [
    "## 3. Центральная предельная теорема"
   ]
  },
  {
   "cell_type": "markdown",
   "metadata": {},
   "source": [
    "Вообще, она говорит о сумме. Типа пусть у нас есть n независимых одинаково распределённых случайных величин с мат. ожиданием $ \\mu $ и дисперсией $ \\sigma^{2} $ , тогда их сумма имеет нормальное распределение, близкое к $N(n\\mu, n\\sigma^{2})$.  \n",
    "\n",
    "Но для нас важнее другое: если мы берем выборочное среднее этих n величин $\\bar{X}_{n} = \\frac{1}{N} \\sum_{i=1}^n X_{i}$, то $\\bar{X}_{n}$ имеет распределение, близкое к $N(\\mu, \\frac{\\sigma^{2}}{n})$.  \n",
    "\n",
    "\n",
    "Вот отсюда ноги растут у стандартной ошибки среднего, доверительных интервалов и т.п. Знакомые формулки: среднее равно $\\mu$, дисперсия - $\\frac{\\sigma^{2}}{n})$, а значит стандартная ошибка - $\\sqrt{\\frac{\\sigma^{2}}{n}} = \\frac{\\sigma}{\\sqrt{n}}$.\n",
    "\n",
    "Итак, еще раз: какова бы ни была форма распределения генеральной совокупности, выборочное распределение стремится к нормальному, а его дисперсия задается центральной предельной теоремой. Если мы набираем из генеральной совокупности (с мат. ожиданием $ \\mu $ и стандартным отклонением $ \\sigma $) сэмплы размера n, то средние этих выборок распределятся нормально вокруг $ \\mu $ со стандартным отклонением $\\frac{\\sigma}{\\sqrt{n}}$"
   ]
  },
  {
   "cell_type": "code",
   "execution_count": 3,
   "metadata": {
    "ExecuteTime": {
     "end_time": "2021-09-27T16:56:23.961982Z",
     "start_time": "2021-09-27T16:56:23.940762Z"
    }
   },
   "outputs": [],
   "source": [
    "def plot_central_limit_theorem(general_distribution, samples_n, experiments_count):\n",
    "    \"\"\"\"\"\"\n",
    "    experiments_means = []\n",
    "    \n",
    "    for _ in range(experiments_count):\n",
    "        sample = general_distribution.rvs(size=samples_n) # берем сэмпл размера samples_n из general_distribution\n",
    "        experiments_means.append(np.mean(sample)) # добавляем выборочное среднее этого сэмпла в experiments_means\n",
    "        \n",
    "    # general distribution\n",
    "    general_x = np.linspace(general_distribution.ppf(0.01), general_distribution.ppf(0.99), 100)\n",
    "    general_y = general_distribution.pdf(general_x)\n",
    "        \n",
    "    # theoretical distribution\n",
    "    theoretical_distribution = stats.norm(\n",
    "        general_distribution.mean(),\n",
    "        general_distribution.std()/samples_n**(1/2)\n",
    "    )\n",
    "    \n",
    "    theoretical_x = np.linspace(theoretical_distribution.ppf(0.01), theoretical_distribution.ppf(0.99), 100)\n",
    "    theoretical_y = theoretical_distribution.pdf(theoretical_x)\n",
    "    \n",
    "    # plots\n",
    "    ax = plt.axes()\n",
    "    ax.plot(general_x, general_y, label='general distribution pdf')\n",
    "    ax.plot(theoretical_x, theoretical_y, label='theoretical distribution pdf')\n",
    "    ax.hist(experiments_means, density=True, label='experiments hist')\n",
    "    ax.legend()\n",
    "    plt.show();"
   ]
  },
  {
   "cell_type": "code",
   "execution_count": 4,
   "metadata": {
    "ExecuteTime": {
     "end_time": "2021-09-27T16:56:25.217053Z",
     "start_time": "2021-09-27T16:56:24.959223Z"
    }
   },
   "outputs": [
    {
     "data": {
      "application/vnd.jupyter.widget-view+json": {
       "model_id": "6324f25dc21148e2a66e76aa98443316",
       "version_major": 2,
       "version_minor": 0
      },
      "text/plain": [
       "interactive(children=(IntSlider(value=30, description='samples_n', max=90, min=-30), IntSlider(value=50, descr…"
      ]
     },
     "metadata": {},
     "output_type": "display_data"
    }
   ],
   "source": [
    "interact(\n",
    "    plot_central_limit_theorem, \n",
    "    general_distribution=fixed(stats.lognorm(0.7)),\n",
    "    samples_n=30,\n",
    "    experiments_count=50\n",
    ");"
   ]
  },
  {
   "cell_type": "markdown",
   "metadata": {},
   "source": [
    "Видим, что распределение генеральной совокупности далеко от нормального. Но когда мы берем из нее  `experiments_count` сэмплов по `samples_n` штук, мы получаем близкую к $N(\\mu, \\frac{\\sigma^{2}}{n})$ (`theoretical distribution`) гистограмму средних этих сэмплов. И чем больше экспериментов - тем гистограмма ближе к теоретическому распределению."
   ]
  },
  {
   "cell_type": "markdown",
   "metadata": {},
   "source": [
    "## 10. сравнение распределений"
   ]
  },
  {
   "cell_type": "markdown",
   "metadata": {},
   "source": [
    "Вот есть у нас данные. Хотим мы их промоделировать каким-то распределением. Как понять, правильно ли мы подобрали распределение?  \n",
    "\n",
    "Для нормальности есть тест Шипиро-Вилка. А для других?"
   ]
  },
  {
   "cell_type": "code",
   "execution_count": 48,
   "metadata": {
    "ExecuteTime": {
     "end_time": "2021-03-09T15:09:39.721224Z",
     "start_time": "2021-03-09T15:09:39.522292Z"
    }
   },
   "outputs": [
    {
     "data": {
      "image/png": "[encoded data removed]",
      "text/plain": [
       "<Figure size 1224x576 with 1 Axes>"
      ]
     },
     "metadata": {},
     "output_type": "display_data"
    }
   ],
   "source": [
    "sample_data = pd.Series(stats.lognorm(s=0.7, scale=1).rvs(size=1000))\n",
    "\n",
    "sample_data.hist(bins=50);"
   ]
  },
  {
   "cell_type": "markdown",
   "metadata": {},
   "source": [
    "Ну, глянули на гистограмму - можно делать предположения о распределении. Но еще надо найти его параметры. Нетривиальная задачка. Для `lognorm` это будет так:"
   ]
  },
  {
   "cell_type": "code",
   "execution_count": 49,
   "metadata": {
    "ExecuteTime": {
     "end_time": "2021-03-09T15:09:56.550172Z",
     "start_time": "2021-03-09T15:09:56.527878Z"
    }
   },
   "outputs": [
    {
     "name": "stdout",
     "output_type": "stream",
     "text": [
      "Предполагаемый s: 0.7039106128360694; scale: 0.9998473736622712\n"
     ]
    }
   ],
   "source": [
    "y = np.log(sample_data) # логарифм наших логнормальных данных (распределен нормально)\n",
    "\n",
    "mu = y.mean() # берем свойства выборки как свойства распределения\n",
    "std = y.std() # ерем свойства выборки как свойства распределения\n",
    "\n",
    "print(f\"Предполагаемый s: {std}; scale: {np.exp(mu)}\") \n",
    "\n",
    "distribution = stats.lognorm(s=std, scale=np.exp(mu))"
   ]
  },
  {
   "cell_type": "markdown",
   "metadata": {},
   "source": [
    "### гистограмма + pdf распределения"
   ]
  },
  {
   "cell_type": "markdown",
   "metadata": {},
   "source": [
    "вариант очевидный. Сделать можно так:"
   ]
  },
  {
   "cell_type": "code",
   "execution_count": 50,
   "metadata": {
    "ExecuteTime": {
     "end_time": "2021-03-09T15:10:06.644122Z",
     "start_time": "2021-03-09T15:10:06.397258Z"
    }
   },
   "outputs": [
    {
     "data": {
      "image/png": "[encoded data removed]",
      "text/plain": [
       "<Figure size 1224x576 with 1 Axes>"
      ]
     },
     "metadata": {},
     "output_type": "display_data"
    }
   ],
   "source": [
    "x = np.linspace(distribution.ppf(0.01), distribution.ppf(0.99), 100)\n",
    "y = distribution.pdf(x)\n",
    "\n",
    "ax = plt.axes()\n",
    "ax.plot(x, y, label='distribution pdf')\n",
    "ax.hist(sample_data, bins=50, density=True, label='sample_data hist')\n",
    "ax.legend()\n",
    "plt.show();"
   ]
  },
  {
   "cell_type": "markdown",
   "metadata": {},
   "source": [
    "### QQ-plot"
   ]
  },
  {
   "cell_type": "code",
   "execution_count": 51,
   "metadata": {
    "ExecuteTime": {
     "end_time": "2021-03-09T15:10:14.117542Z",
     "start_time": "2021-03-09T15:10:13.967293Z"
    }
   },
   "outputs": [
    {
     "data": {
      "image/png": "[encoded data removed]",
      "text/plain": [
       "<Figure size 1224x576 with 1 Axes>"
      ]
     },
     "metadata": {},
     "output_type": "display_data"
    }
   ],
   "source": [
    "ax = plt.axes()\n",
    "\n",
    "res = stats.probplot(sample_data, dist=distribution, plot=ax)\n",
    "\n",
    "plt.show()"
   ]
  },
  {
   "cell_type": "markdown",
   "metadata": {},
   "source": [
    "Смысл такой: на линии - соответствует распределению, нет - косяк. Тут если выбросы удбрать - ваще норм будет.  \n",
    "    \n",
    "Вообще, этот график подходит и для сравнения распределений в двух выборках. Методика такая: "
   ]
  },
  {
   "cell_type": "code",
   "execution_count": 67,
   "metadata": {
    "ExecuteTime": {
     "end_time": "2021-03-09T15:47:29.925782Z",
     "start_time": "2021-03-09T15:47:29.914545Z"
    }
   },
   "outputs": [],
   "source": [
    "n = sample_data.shape[0]\n",
    "\n",
    "quantiles = [(n-k)/n for k in range(1, n)] # какие квантили берем. По сути все, кроме 0 и 1 (k=0 и k=n)\n",
    "\n",
    "quantiles_df = pd.DataFrame(index=quantiles)"
   ]
  },
  {
   "cell_type": "code",
   "execution_count": 68,
   "metadata": {
    "ExecuteTime": {
     "end_time": "2021-03-09T15:47:30.514492Z",
     "start_time": "2021-03-09T15:47:30.469878Z"
    }
   },
   "outputs": [
    {
     "data": {
      "text/html": [
       "<div>\n",
       "<style scoped>\n",
       "    .dataframe tbody tr th:only-of-type {\n",
       "        vertical-align: middle;\n",
       "    }\n",
       "\n",
       "    .dataframe tbody tr th {\n",
       "        vertical-align: top;\n",
       "    }\n",
       "\n",
       "    .dataframe thead th {\n",
       "        text-align: right;\n",
       "    }\n",
       "</style>\n",
       "<table border=\"1\" class=\"dataframe\">\n",
       "  <thead>\n",
       "    <tr style=\"text-align: right;\">\n",
       "      <th></th>\n",
       "      <th>sample_data_quantiles</th>\n",
       "    </tr>\n",
       "  </thead>\n",
       "  <tbody>\n",
       "    <tr>\n",
       "      <th>0.999</th>\n",
       "      <td>8.898702</td>\n",
       "    </tr>\n",
       "    <tr>\n",
       "      <th>0.998</th>\n",
       "      <td>8.833345</td>\n",
       "    </tr>\n",
       "    <tr>\n",
       "      <th>0.997</th>\n",
       "      <td>6.837265</td>\n",
       "    </tr>\n",
       "    <tr>\n",
       "      <th>0.996</th>\n",
       "      <td>6.342422</td>\n",
       "    </tr>\n",
       "    <tr>\n",
       "      <th>0.995</th>\n",
       "      <td>5.986980</td>\n",
       "    </tr>\n",
       "  </tbody>\n",
       "</table>\n",
       "</div>"
      ],
      "text/plain": [
       "       sample_data_quantiles\n",
       "0.999               8.898702\n",
       "0.998               8.833345\n",
       "0.997               6.837265\n",
       "0.996               6.342422\n",
       "0.995               5.986980"
      ]
     },
     "execution_count": 68,
     "metadata": {},
     "output_type": "execute_result"
    }
   ],
   "source": [
    "quantiles_df['sample_data_quantiles'] = sample_data.quantile(quantiles)\n",
    "\n",
    "quantiles_df.head()"
   ]
  },
  {
   "cell_type": "code",
   "execution_count": 69,
   "metadata": {
    "ExecuteTime": {
     "end_time": "2021-03-09T15:47:31.095156Z",
     "start_time": "2021-03-09T15:47:31.063260Z"
    }
   },
   "outputs": [
    {
     "data": {
      "text/html": [
       "<div>\n",
       "<style scoped>\n",
       "    .dataframe tbody tr th:only-of-type {\n",
       "        vertical-align: middle;\n",
       "    }\n",
       "\n",
       "    .dataframe tbody tr th {\n",
       "        vertical-align: top;\n",
       "    }\n",
       "\n",
       "    .dataframe thead th {\n",
       "        text-align: right;\n",
       "    }\n",
       "</style>\n",
       "<table border=\"1\" class=\"dataframe\">\n",
       "  <thead>\n",
       "    <tr style=\"text-align: right;\">\n",
       "      <th></th>\n",
       "      <th>sample_data_quantiles</th>\n",
       "      <th>distrib_quantiles</th>\n",
       "    </tr>\n",
       "  </thead>\n",
       "  <tbody>\n",
       "    <tr>\n",
       "      <th>0.999</th>\n",
       "      <td>8.898702</td>\n",
       "      <td>8.803019</td>\n",
       "    </tr>\n",
       "    <tr>\n",
       "      <th>0.998</th>\n",
       "      <td>8.833345</td>\n",
       "      <td>7.582295</td>\n",
       "    </tr>\n",
       "    <tr>\n",
       "      <th>0.997</th>\n",
       "      <td>6.837265</td>\n",
       "      <td>6.917399</td>\n",
       "    </tr>\n",
       "    <tr>\n",
       "      <th>0.996</th>\n",
       "      <td>6.342422</td>\n",
       "      <td>6.466710</td>\n",
       "    </tr>\n",
       "    <tr>\n",
       "      <th>0.995</th>\n",
       "      <td>5.986980</td>\n",
       "      <td>6.128812</td>\n",
       "    </tr>\n",
       "  </tbody>\n",
       "</table>\n",
       "</div>"
      ],
      "text/plain": [
       "       sample_data_quantiles  distrib_quantiles\n",
       "0.999               8.898702           8.803019\n",
       "0.998               8.833345           7.582295\n",
       "0.997               6.837265           6.917399\n",
       "0.996               6.342422           6.466710\n",
       "0.995               5.986980           6.128812"
      ]
     },
     "execution_count": 69,
     "metadata": {},
     "output_type": "execute_result"
    }
   ],
   "source": [
    "quantiles_df['distrib_quantiles'] = distribution.ppf(quantiles)\n",
    "\n",
    "quantiles_df.head()"
   ]
  },
  {
   "cell_type": "code",
   "execution_count": 72,
   "metadata": {
    "ExecuteTime": {
     "end_time": "2021-03-09T15:50:34.278466Z",
     "start_time": "2021-03-09T15:50:34.139646Z"
    }
   },
   "outputs": [
    {
     "data": {
      "image/png": "[encoded data removed]",
      "text/plain": [
       "<Figure size 1224x576 with 1 Axes>"
      ]
     },
     "metadata": {},
     "output_type": "display_data"
    }
   ],
   "source": [
    "ax = quantiles_df.plot.scatter('distrib_quantiles', 'sample_data_quantiles')\n",
    "ax.plot(quantiles_df['distrib_quantiles'], quantiles_df['distrib_quantiles']) # как должно быть\n",
    "\n",
    "plt.show();"
   ]
  },
  {
   "cell_type": "markdown",
   "metadata": {},
   "source": [
    "Т.е. ничто не мешает вместо `ppf` распределения взять такие же фактические квантили другого сэмпла."
   ]
  },
  {
   "cell_type": "markdown",
   "metadata": {},
   "source": [
    "## Какие есть распределения"
   ]
  },
  {
   "cell_type": "markdown",
   "metadata": {},
   "source": [
    "https://habr.com/ru/post/311092/"
   ]
  },
  {
   "cell_type": "markdown",
   "metadata": {},
   "source": [
    "## Байес"
   ]
  },
  {
   "cell_type": "markdown",
   "metadata": {},
   "source": [
    "$P(A|B) = \\frac{P(B|A)P(A)}{P(B)}$"
   ]
  },
  {
   "cell_type": "code",
   "execution_count": null,
   "metadata": {},
   "outputs": [],
   "source": []
  }
 ],
 "metadata": {
  "kernelspec": {
   "display_name": "Python [conda env:sandbox]",
   "language": "python",
   "name": "conda-env-sandbox-py"
  },
  "language_info": {
   "codemirror_mode": {
    "name": "ipython",
    "version": 3
   },
   "file_extension": ".py",
   "mimetype": "text/x-python",
   "name": "python",
   "nbconvert_exporter": "python",
   "pygments_lexer": "ipython3",
   "version": "3.8.13"
  },
  "toc": {
   "base_numbering": 1,
   "nav_menu": {},
   "number_sections": false,
   "sideBar": true,
   "skip_h1_title": true,
   "title_cell": "Table of Contents",
   "title_sidebar": "Contents",
   "toc_cell": false,
   "toc_position": {
    "height": "calc(100% - 180px)",
    "left": "10px",
    "top": "150px",
    "width": "414.219px"
   },
   "toc_section_display": true,
   "toc_window_display": true
  },
  "varInspector": {
   "cols": {
    "lenName": 16,
    "lenType": 16,
    "lenVar": 40
   },
   "kernels_config": {
    "python": {
     "delete_cmd_postfix": "",
     "delete_cmd_prefix": "del ",
     "library": "var_list.py",
     "varRefreshCmd": "print(var_dic_list())"
    },
    "r": {
     "delete_cmd_postfix": ") ",
     "delete_cmd_prefix": "rm(",
     "library": "var_list.r",
     "varRefreshCmd": "cat(var_dic_list()) "
    }
   },
   "types_to_exclude": [
    "module",
    "function",
    "builtin_function_or_method",
    "instance",
    "_Feature"
   ],
   "window_display": false
  }
 },
 "nbformat": 4,
 "nbformat_minor": 4
}
