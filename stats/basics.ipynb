{
 "cells": [
  {
   "cell_type": "markdown",
   "metadata": {},
   "source": [
    "# Базовые понятия"
   ]
  },
  {
   "cell_type": "markdown",
   "metadata": {},
   "source": [
    "https://habr.com/ru/company/avito/blog/571094/"
   ]
  },
  {
   "cell_type": "markdown",
   "metadata": {},
   "source": [
    "## init"
   ]
  },
  {
   "cell_type": "code",
   "execution_count": 50,
   "metadata": {
    "ExecuteTime": {
     "end_time": "2022-05-21T14:51:52.140706Z",
     "start_time": "2022-05-21T14:51:52.133700Z"
    }
   },
   "outputs": [],
   "source": [
    "import warnings\n",
    "warnings.filterwarnings('ignore')"
   ]
  },
  {
   "cell_type": "code",
   "execution_count": 51,
   "metadata": {
    "ExecuteTime": {
     "end_time": "2022-05-21T14:51:52.831435Z",
     "start_time": "2022-05-21T14:51:52.820293Z"
    }
   },
   "outputs": [],
   "source": [
    "import numpy as np\n",
    "from matplotlib import pyplot as plt\n",
    "\n",
    "%matplotlib inline"
   ]
  },
  {
   "cell_type": "code",
   "execution_count": 52,
   "metadata": {
    "ExecuteTime": {
     "end_time": "2022-05-21T14:51:53.406451Z",
     "start_time": "2022-05-21T14:51:53.398198Z"
    }
   },
   "outputs": [],
   "source": [
    "plt.rcParams[\"figure.figsize\"] = (17,8)\n",
    "plt.style.use('ggplot')\n",
    "\n",
    "np.random.seed(42)"
   ]
  },
  {
   "cell_type": "markdown",
   "metadata": {},
   "source": [
    "## one dataset"
   ]
  },
  {
   "cell_type": "code",
   "execution_count": 8,
   "metadata": {
    "ExecuteTime": {
     "end_time": "2022-05-21T14:03:55.896184Z",
     "start_time": "2022-05-21T14:03:55.711867Z"
    }
   },
   "outputs": [
    {
     "data": {
      "image/png": "[encoded data removed]",
      "text/plain": [
       "<Figure size 1224x576 with 1 Axes>"
      ]
     },
     "metadata": {},
     "output_type": "display_data"
    }
   ],
   "source": [
    "example_data = np.random.normal(loc=100, scale=20, size=1000)\n",
    "\n",
    "plt.hist(example_data, bins=50);"
   ]
  },
  {
   "cell_type": "code",
   "execution_count": 12,
   "metadata": {
    "ExecuteTime": {
     "end_time": "2022-05-21T14:05:43.019975Z",
     "start_time": "2022-05-21T14:05:43.007581Z"
    }
   },
   "outputs": [
    {
     "data": {
      "text/plain": [
       "(101.41672474498311, 101.41672474498311)"
      ]
     },
     "execution_count": 12,
     "metadata": {},
     "output_type": "execute_result"
    }
   ],
   "source": [
    "def mean(data: np.array) -> float:\n",
    "    \"\"\"Среднее значение\n",
    "    \n",
    "    Ну тут всё просто: среднее арифметическое (сумма, деленная на объем выборки)\n",
    "    \"\"\"\n",
    "    return np.sum(data) / data.shape[0]\n",
    "\n",
    "mean(example_data), example_data.mean()"
   ]
  },
  {
   "cell_type": "code",
   "execution_count": 55,
   "metadata": {
    "ExecuteTime": {
     "end_time": "2022-05-21T15:02:27.431376Z",
     "start_time": "2022-05-21T15:02:27.407482Z"
    }
   },
   "outputs": [
    {
     "data": {
      "text/plain": [
       "(397.56812776619677, 397.56812776619677)"
      ]
     },
     "execution_count": 55,
     "metadata": {},
     "output_type": "execute_result"
    }
   ],
   "source": [
    "def var(data: np.array, ddof: int = 0) -> float:\n",
    "    \"\"\"Дисперсия\n",
    "    \n",
    "    Берем отклонение от среднего, возводим в квадрат (иначе получится 0 в итоге), \n",
    "    и берем среднее по этому показателю.\n",
    "    \n",
    "    ddof - кол-во степеней свободы (для выборки берем 1, для генеральной совокупности - 0)\n",
    "    \"\"\"\n",
    "    deviation = data - np.mean(data)\n",
    "    n = data.shape[0]\n",
    "    return np.sum(deviation * deviation) / (n - ddof)\n",
    "\n",
    "var(example_data), example_data.var()"
   ]
  },
  {
   "cell_type": "markdown",
   "metadata": {},
   "source": [
    "Есть такая теоремка про расчет дисперсии:  \n",
    "$$D[X] = E[X^2] - (E[X])^2$$  \n",
    "где $D[X]$ - дисперсия выборки $X$, а $E[X]$ - среднее выборки $X$"
   ]
  },
  {
   "cell_type": "code",
   "execution_count": 57,
   "metadata": {
    "ExecuteTime": {
     "end_time": "2022-05-21T15:02:49.229397Z",
     "start_time": "2022-05-21T15:02:49.212559Z"
    }
   },
   "outputs": [
    {
     "data": {
      "text/plain": [
       "(19.939110505892604, 19.939110505892604)"
      ]
     },
     "execution_count": 57,
     "metadata": {},
     "output_type": "execute_result"
    }
   ],
   "source": [
    "def std(data: np.array, ddof: int = 0) -> float:\n",
    "    \"\"\"Стандартное отклонение\n",
    "    \n",
    "    Просто корень из дисперсии\n",
    "    \n",
    "    ddof - кол-во степеней свободы (для выборки берем 1, для генеральной совокупности - 0)\n",
    "    \"\"\"\n",
    "    variance = data.var(ddof=ddof)\n",
    "    return variance ** (1/2)\n",
    "\n",
    "std(example_data), example_data.std()"
   ]
  },
  {
   "cell_type": "markdown",
   "metadata": {},
   "source": [
    "## two datasets"
   ]
  },
  {
   "cell_type": "code",
   "execution_count": 15,
   "metadata": {
    "ExecuteTime": {
     "end_time": "2022-05-21T14:14:27.456893Z",
     "start_time": "2022-05-21T14:14:27.294148Z"
    }
   },
   "outputs": [
    {
     "data": {
      "image/png": "[encoded data removed]",
      "text/plain": [
       "<Figure size 1224x576 with 1 Axes>"
      ]
     },
     "metadata": {},
     "output_type": "display_data"
    }
   ],
   "source": [
    "more_data = np.random.normal(loc=0, scale=10, size=1000)\n",
    "\n",
    "plt.hist(example_data, bins=50);"
   ]
  },
  {
   "cell_type": "code",
   "execution_count": 64,
   "metadata": {
    "ExecuteTime": {
     "end_time": "2022-05-21T15:12:40.248026Z",
     "start_time": "2022-05-21T15:12:40.225936Z"
    }
   },
   "outputs": [
    {
     "data": {
      "text/plain": [
       "(-2.1972078847286167, -2.1972078847286163)"
      ]
     },
     "execution_count": 64,
     "metadata": {},
     "output_type": "execute_result"
    }
   ],
   "source": [
    "def cov(data1: np.array, data2: np.array, ddof: int = 1) -> float:\n",
    "    \"\"\"Ковариация\n",
    "    \n",
    "    Берем отклонения от среднего одной выборки, отклонения от среднего другой выборки, и перемножаем.\n",
    "    И берем среднее от этого числа. Как с дисперсией.\n",
    "    \n",
    "    ddof - кол-во степеней свободы (для выборки берем 1, для генеральной совокупности - 0)\n",
    "    \"\"\"\n",
    "    n = min(data1.shape[0], data2.shape[0])\n",
    "    \n",
    "    deviation1 = data1[:n] - np.mean(data1[:n])\n",
    "    deviation2 = data2[:n] - np.mean(data2[:n])\n",
    "    \n",
    "    return np.sum(deviation1 * deviation2) / (n - ddof)\n",
    "\n",
    "cov(example_data, more_data), np.cov(example_data, more_data)[0,1]"
   ]
  },
  {
   "cell_type": "markdown",
   "metadata": {},
   "source": [
    "Предположим, наши массивы с данными называются `a0` и `a1`.  \n",
    "Функция `numpy.cov()` возвращает двумерный массив, в котором:  \n",
    "* значение с индексом `[0][0]` представляет собой ковариацию между `a0` и `a0` (т.е. дисперсию `a0`);\n",
    "* значение с индексом `[0][1]` - ковариация между `a0` и `a1`;\n",
    "* значение с индексом `[1][0]` - ковариация между `a1` и `a0` (она равна ковариации между `a0` и `a1`); \n",
    "* значение с индексом `[1][1]` - ковариация между `a1` и `a1`  (т.е. дисперсия `a1`)."
   ]
  },
  {
   "cell_type": "markdown",
   "metadata": {},
   "source": [
    "Ковариация выборки с самой собой - это дисперсия этой самой выборки:"
   ]
  },
  {
   "cell_type": "code",
   "execution_count": 61,
   "metadata": {
    "ExecuteTime": {
     "end_time": "2022-05-21T15:10:19.378736Z",
     "start_time": "2022-05-21T15:10:19.365940Z"
    }
   },
   "outputs": [
    {
     "data": {
      "text/plain": [
       "(397.56812776619677, 397.56812776619677)"
      ]
     },
     "execution_count": 61,
     "metadata": {},
     "output_type": "execute_result"
    }
   ],
   "source": [
    "ddof = 0\n",
    "cov(example_data, example_data, ddof=ddof), example_data.var(ddof=ddof)"
   ]
  },
  {
   "cell_type": "code",
   "execution_count": 65,
   "metadata": {
    "ExecuteTime": {
     "end_time": "2022-05-21T15:12:48.576413Z",
     "start_time": "2022-05-21T15:12:48.546150Z"
    }
   },
   "outputs": [
    {
     "data": {
      "text/plain": [
       "(-0.011199378883997064, -0.011199378883997064)"
      ]
     },
     "execution_count": 65,
     "metadata": {},
     "output_type": "execute_result"
    }
   ],
   "source": [
    "def corr(data1: np.array, data2: np.array, ddof: int = 1) -> float:\n",
    "    \"\"\"Корреляция\n",
    "    \n",
    "    По-сути, это нормированная ковариация. Нормируем на корень из произведения дисперсий выборок.\n",
    "    В итоге значения от -1 до 1.\n",
    "    \n",
    "    ddof - кол-во степеней свободы (для выборки берем 1, для генеральной совокупности - 0)\n",
    "    \"\"\"\n",
    "    n = min(data1.shape[0], data2.shape[0])\n",
    "    \n",
    "    cov = np.cov(data1, data2, ddof=ddof)[0,1]\n",
    "    \n",
    "    var1 = data1[:n].var(ddof=ddof)\n",
    "    var2 = data2[:n].var(ddof=ddof)\n",
    "    \n",
    "    return cov / (var1 * var2)**(1/2)\n",
    "\n",
    "corr(example_data, more_data), np.corrcoef(example_data, more_data)[0,1]"
   ]
  },
  {
   "cell_type": "markdown",
   "metadata": {},
   "source": [
    "Функция `np.corrcoef()` работает также, как и `numpy.cov()`: возвращает двумерный массив. Что там где - аналогично описанному выше про ковариацию."
   ]
  },
  {
   "cell_type": "markdown",
   "metadata": {},
   "source": [
    "Близкая к 1 по модулю корреляция указывает на линейную зависимость (если к -1 - обратная зависимость; если к +1 - прямая зависимость)"
   ]
  },
  {
   "cell_type": "code",
   "execution_count": null,
   "metadata": {},
   "outputs": [],
   "source": []
  }
 ],
 "metadata": {
  "kernelspec": {
   "display_name": "Python [conda env:sandbox]",
   "language": "python",
   "name": "conda-env-sandbox-py"
  },
  "language_info": {
   "codemirror_mode": {
    "name": "ipython",
    "version": 3
   },
   "file_extension": ".py",
   "mimetype": "text/x-python",
   "name": "python",
   "nbconvert_exporter": "python",
   "pygments_lexer": "ipython3",
   "version": "3.8.13"
  },
  "toc": {
   "base_numbering": 1,
   "nav_menu": {},
   "number_sections": true,
   "sideBar": true,
   "skip_h1_title": true,
   "title_cell": "Table of Contents",
   "title_sidebar": "Contents",
   "toc_cell": false,
   "toc_position": {},
   "toc_section_display": true,
   "toc_window_display": true
  },
  "varInspector": {
   "cols": {
    "lenName": 16,
    "lenType": 16,
    "lenVar": 40
   },
   "kernels_config": {
    "python": {
     "delete_cmd_postfix": "",
     "delete_cmd_prefix": "del ",
     "library": "var_list.py",
     "varRefreshCmd": "print(var_dic_list())"
    },
    "r": {
     "delete_cmd_postfix": ") ",
     "delete_cmd_prefix": "rm(",
     "library": "var_list.r",
     "varRefreshCmd": "cat(var_dic_list()) "
    }
   },
   "types_to_exclude": [
    "module",
    "function",
    "builtin_function_or_method",
    "instance",
    "_Feature"
   ],
   "window_display": false
  }
 },
 "nbformat": 4,
 "nbformat_minor": 4
}
